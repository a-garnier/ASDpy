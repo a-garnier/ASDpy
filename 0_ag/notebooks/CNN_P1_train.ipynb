{
  "nbformat": 4,
  "nbformat_minor": 0,
  "metadata": {
    "accelerator": "TPU",
    "colab": {
      "name": "CNN_P1_train.ipynb",
      "provenance": [],
      "collapsed_sections": []
    },
    "kernelspec": {
      "display_name": "Python 3",
      "name": "python3"
    },
    "language_info": {
      "name": "python"
    }
  },
  "cells": [
    {
      "cell_type": "code",
      "metadata": {
        "id": "sdrT513z5-lA"
      },
      "source": [
        "# Strategy:\n",
        "#\n",
        "# STEP 1:\n",
        "#  * load training data for each machine (only normal sounds)\n",
        "#  * extract each vertical lines from spectrogram as a vector, and complete with machine ID\n",
        "#  * store these vectors in a global matrix\n",
        "#  * train a classifier which compute probability of appartenancy for each machine"
      ],
      "execution_count": null,
      "outputs": []
    },
    {
      "cell_type": "code",
      "metadata": {
        "id": "vaebRlQwol0U"
      },
      "source": [
        "# Author : Antoine\n",
        "# First try of classification with KNN\n",
        "# use only fan data, use normal and anomalous data for training\n",
        "import pandas as pd\n",
        "import numpy as np\n",
        "import matplotlib.pyplot as plt # Pour l'affichage d'images\n",
        "\n",
        "from joblib import dump, load\n",
        "\n",
        "from sklearn import neighbors\n",
        "from sklearn.model_selection import train_test_split\n",
        "\n",
        "#import numpy as np # Pour la manipulation de tableaux\n",
        "#import pandas as pd # Pour manipuler des DataFrames pandas\n",
        "\n",
        "from matplotlib import cm # Pour importer de nouvelles cartes de couleur\n",
        "# %matplotlib inline\n",
        "\n",
        "from keras.models import Sequential # Pour construire un réseau de neurones\n",
        "from keras.layers import Dense # Pour instancier une couche dense\n",
        "from keras.utils import np_utils\n",
        "\n",
        "import itertools # Pour créer des iterateurs\n",
        "\n",
        "from sklearn import metrics # Pour évaluer les modèles\n"
      ],
      "execution_count": null,
      "outputs": []
    },
    {
      "cell_type": "code",
      "metadata": {
        "id": "DOwLDQhNULz9"
      },
      "source": [
        "# clear all variables to clean RAM and avoid crashes\n",
        "#import sys\n",
        "#sys.modules[__name__].__dict__.clear()"
      ],
      "execution_count": null,
      "outputs": []
    },
    {
      "cell_type": "code",
      "metadata": {
        "colab": {
          "base_uri": "https://localhost:8080/"
        },
        "id": "Vvo0Xhn6nj68",
        "outputId": "80ba8fe8-74d1-419a-cf60-6fb7a0a7d807"
      },
      "source": [
        "from google.colab import drive\n",
        "drive.mount('/drive')"
      ],
      "execution_count": null,
      "outputs": [
        {
          "output_type": "stream",
          "text": [
            "Drive already mounted at /drive; to attempt to forcibly remount, call drive.mount(\"/drive\", force_remount=True).\n"
          ],
          "name": "stdout"
        }
      ]
    },
    {
      "cell_type": "code",
      "metadata": {
        "id": "5im202ZHt3r7"
      },
      "source": [
        "machines = [            # TEST DATA SIZE\n",
        "    'fan',              # (1875, 40065)\n",
        "    'pump',             # (856, 40065)\n",
        "    'slider',           # (1290, 40065)\n",
        "    'valve',            # (879, 40065)\n",
        "   # 'ToyCar',           # (2459, 44033)\n",
        "   # 'ToyConveyor'       # (3509, 40065)\n",
        "]\n",
        "\n",
        "#machines = ['verif_1', 'verif_2']\n",
        "\n",
        "# all images are 128px height\n",
        "height = 128\n"
      ],
      "execution_count": null,
      "outputs": []
    },
    {
      "cell_type": "code",
      "metadata": {
        "id": "PBG2rxZvRVUO"
      },
      "source": [
        "# use 90% of available images for model validation\n",
        "test_size = 0.1\n",
        "\n",
        "# reduce data for training by 90%\n",
        "training_reduction = 0.8\n",
        "\n",
        "# model settings\n",
        "units = 120\n",
        "epochs = 50"
      ],
      "execution_count": null,
      "outputs": []
    },
    {
      "cell_type": "code",
      "metadata": {
        "colab": {
          "base_uri": "https://localhost:8080/"
        },
        "id": "w76n92W68NCy",
        "outputId": "f36f7854-c5f1-4bc2-80db-9b44dd15efe8"
      },
      "source": [
        "id_machine = 0\n",
        "codes_machines = [1,2,3,4,5,6]\n",
        "\n",
        "# init empty array with expected width (equals image heigh + one for target)\n",
        "global_train_array = np.empty([0, height+1])\n",
        "global_test_array = np.empty([0, height+1])\n",
        "\n",
        "set = 'train'\n",
        "\n",
        "for machine in machines:\n",
        "\n",
        "    # identifiant de la machine\n",
        "    id_machine = id_machine + 1\n",
        "    code_machine = codes_machines[id_machine-1]\n",
        "\n",
        "    print(machine, '/', id_machine, '=>', code_machine)\n",
        "\n",
        "    # example : '../data/fan/train_png/'\n",
        "    # working_directory = '../../data/'+machine+'/'\n",
        "    working_directory = '/drive/MyDrive/asdpy/data/'\n",
        "\n",
        "    # data file example: df_fan_train.joblib\n",
        "    # numpy ndarray\n",
        "    # dernière colonne = type de donnée, normal ou anomalie\n",
        "    data_array = load(working_directory + 'df_'+machine+'_'+set+'.joblib')\n",
        "\n",
        "    # shuffle images\n",
        "    np.random.shuffle(data_array)\n",
        "\n",
        "    # limit data to spare RAM \n",
        "    if data_array.shape[0] > 2500:\n",
        "      data_array = data_array[:2500,:]\n",
        "\n",
        "    print(data_array.shape)\n",
        "\n",
        "    nb_images = data_array.shape[0]\n",
        "\n",
        "    nb_images_test = int(nb_images*test_size)\n",
        "    nb_images_train = int(nb_images - nb_images_test)\n",
        "\n",
        "    pixels = data_array.shape[1] - 1\n",
        "    width = int(pixels/height)\n",
        "\n",
        "    #print(\"nb_images : \", nb_images)\n",
        "    #print(\"width : \", width)\n",
        "\n",
        "    # remove last column, reshape to line by line format and transpose result\n",
        "    loop_array = data_array[:,0:-1].reshape(height,width*nb_images).T\n",
        "\n",
        "    # vector as long as vertical lines\n",
        "    #id_machine_col = np.ones((width*nb_images,1), dtype=np.int16)*id_machine\n",
        "    id_machine_col = np.ones((width*nb_images,1), dtype=np.int16)*code_machine\n",
        "    \n",
        "\n",
        "    # colle le vecteur à droite de l'array\n",
        "    loop_array = np.append(loop_array, id_machine_col, axis=1)\n",
        "\n",
        "    # ajoute au tableau global\n",
        "    global_train_array = np.append(global_train_array, loop_array[:nb_images_train*width], axis=0)\n",
        "    global_test_array = np.append(global_test_array, loop_array[nb_images_train*width:], axis=0)\n",
        "\n",
        "    # 14 minutes pour les 4 premieres machines...\n",
        "    # 16 secondes pour 5 machines une fois optimisé\n",
        "    # 45 secondes avec les 6 jeux de train et bridage à 2500 lignes par jeu\n",
        "\n",
        "# free RAM\n",
        "del data_array\n",
        "del loop_array\n"
      ],
      "execution_count": null,
      "outputs": [
        {
          "output_type": "stream",
          "text": [
            "fan / 1 => 1\n",
            "(2500, 40065)\n",
            "pump / 2 => 2\n",
            "(2500, 40065)\n",
            "slider / 3 => 3\n",
            "(2500, 40065)\n",
            "valve / 4 => 4\n",
            "(2500, 40065)\n"
          ],
          "name": "stdout"
        }
      ]
    },
    {
      "cell_type": "code",
      "metadata": {
        "id": "p8yzLNo3t8lm",
        "colab": {
          "base_uri": "https://localhost:8080/"
        },
        "outputId": "cbf1adb5-9398-487f-cafa-981e9bc17c72"
      },
      "source": [
        "print('global_train_array.shape : ')\n",
        "print(global_train_array.shape)\n",
        "# (3'340'750, 129)\n",
        "\n",
        "print('global_test_array.shape : ')\n",
        "print(global_test_array.shape)\n",
        "# 1'431'750"
      ],
      "execution_count": null,
      "outputs": [
        {
          "output_type": "stream",
          "text": [
            "global_train_array.shape : \n",
            "(2817000, 129)\n",
            "global_test_array.shape : \n",
            "(313000, 129)\n"
          ],
          "name": "stdout"
        }
      ]
    },
    {
      "cell_type": "code",
      "metadata": {
        "id": "PLUI0oS3I--a",
        "colab": {
          "base_uri": "https://localhost:8080/"
        },
        "outputId": "06d9c350-f4d2-4716-a942-839106302f9b"
      },
      "source": [
        "print(global_train_array)"
      ],
      "execution_count": null,
      "outputs": [
        {
          "output_type": "stream",
          "text": [
            "[[0.94509804 0.71764708 0.6156863  ... 0.25882354 0.52156866 1.        ]\n",
            " [0.94509804 0.67843139 0.6156863  ... 0.36862746 0.52156866 1.        ]\n",
            " [0.97254902 0.7019608  0.58039218 ... 0.47450981 0.53725493 1.        ]\n",
            " ...\n",
            " [0.53725493 0.74901962 0.6156863  ... 0.60000002 0.87450981 4.        ]\n",
            " [0.54901963 0.75686276 0.58039218 ... 0.52549022 0.89411765 4.        ]\n",
            " [0.60000002 0.80392158 0.58823532 ... 0.49411765 0.87450981 4.        ]]\n"
          ],
          "name": "stdout"
        }
      ]
    },
    {
      "cell_type": "code",
      "metadata": {
        "id": "q3smwI8tuSCd",
        "colab": {
          "base_uri": "https://localhost:8080/"
        },
        "outputId": "d7ad1c7a-5fa4-489d-eef6-932bca0e0ad2"
      },
      "source": [
        "print(\"PREPARE TRAINING DATAFRAMES...\")\n",
        "\n",
        "training_samples = int(global_train_array.shape[0]*(1-training_reduction))\n",
        "print(training_samples)\n",
        "\n",
        "# réduit la dimension de l'array pour les tests\n",
        "np.random.shuffle(global_train_array) \n",
        "data = global_train_array[0:2000*1000]\n",
        "train_df = pd.DataFrame(data)\n",
        "\n",
        "# séparation des données de la cible\n",
        "X_train = train_df.iloc[:,0:-1]\n",
        "y_train = train_df.iloc[:,-1:]\n",
        "\n",
        "print(\"PREPARE VALIDATION DATAFRAMES...\")\n",
        "# réduit la dimension de l'array pour les tests\n",
        "np.random.shuffle(global_test_array) \n",
        "data = global_test_array[0:1000*1000]\n",
        "test_df = pd.DataFrame(data)\n",
        "\n",
        "# séparation des données de la cible\n",
        "X_test = test_df.iloc[:,0:-1]\n",
        "y_test = test_df.iloc[:,-1:]\n",
        "\n",
        "# séparation des données d'entrainement (70%) et de test (30%)\n",
        "# méthode inneficace pour ce projet\n",
        "#X_train, X_test, y_train, y_test = train_test_split(data, target, test_size = 0.30, random_state=66)\n",
        "\n",
        "# delete not used variables to free RAM\n",
        "del data\n",
        "del global_train_array\n",
        "del global_test_array\n",
        "del train_df\n",
        "del test_df"
      ],
      "execution_count": null,
      "outputs": [
        {
          "output_type": "stream",
          "text": [
            "PREPARE TRAINING DATAFRAMES...\n",
            "563399\n",
            "PREPARE VALIDATION DATAFRAMES...\n"
          ],
          "name": "stdout"
        }
      ]
    },
    {
      "cell_type": "code",
      "metadata": {
        "id": "5rlEh_bN5Gss",
        "colab": {
          "base_uri": "https://localhost:8080/"
        },
        "outputId": "d92b60e5-0797-4ba4-ef17-dc0727d762cc"
      },
      "source": [
        "y_train.value_counts()\n",
        "\n",
        "y_train.min() # 128    1.0\n",
        "y_train.max() # 128    6.0\n",
        "\n",
        "# y_train.shape # (1000000, 1)\n",
        "\n",
        "print(y_train)\n",
        "\n",
        "print(y_train.value_counts())\n",
        "print(y_test.value_counts())"
      ],
      "execution_count": null,
      "outputs": [
        {
          "output_type": "stream",
          "text": [
            "         128\n",
            "0        3.0\n",
            "1        1.0\n",
            "2        1.0\n",
            "3        2.0\n",
            "4        4.0\n",
            "...      ...\n",
            "1999995  2.0\n",
            "1999996  1.0\n",
            "1999997  4.0\n",
            "1999998  2.0\n",
            "1999999  2.0\n",
            "\n",
            "[2000000 rows x 1 columns]\n",
            "128\n",
            "1.0    500204\n",
            "4.0    500072\n",
            "3.0    500024\n",
            "2.0    499700\n",
            "dtype: int64\n",
            "128\n",
            "4.0    78250\n",
            "3.0    78250\n",
            "2.0    78250\n",
            "1.0    78250\n",
            "dtype: int64\n"
          ],
          "name": "stdout"
        }
      ]
    },
    {
      "cell_type": "code",
      "metadata": {
        "id": "VmPHJ-3Ww4Kw",
        "colab": {
          "base_uri": "https://localhost:8080/"
        },
        "outputId": "c921e504-6a30-4a10-e436-124af17966ba"
      },
      "source": [
        "y_train_cat = np_utils.to_categorical(y_train, dtype = 'int64')\n",
        "y_test_cat = np_utils.to_categorical(y_test, dtype = 'int64')\n",
        "\n",
        "print(\"y_train_cat.shape\")\n",
        "print(y_train_cat.shape)\n",
        "\n",
        "print(\"y_test_cat.shape\")\n",
        "print(y_test_cat.shape)\n",
        "\n",
        "num_pixels = X_train.shape[1]\n",
        "num_classes = y_test_cat.shape[1]\n",
        "\n",
        "print(\"num_classes : \", num_classes)"
      ],
      "execution_count": null,
      "outputs": [
        {
          "output_type": "stream",
          "text": [
            "y_train_cat.shape\n",
            "(2000000, 5)\n",
            "y_test_cat.shape\n",
            "(313000, 5)\n",
            "num_classes :  5\n"
          ],
          "name": "stdout"
        }
      ]
    },
    {
      "cell_type": "code",
      "metadata": {
        "colab": {
          "base_uri": "https://localhost:8080/"
        },
        "id": "iUMbDtI3pQEW",
        "outputId": "0a0f240c-7577-4456-abf8-6ffcf689c6d0"
      },
      "source": [
        "# Étape 1 : Instancier un modèle avec le constructeur Sequential\n",
        "model = Sequential()\n",
        "\n",
        "# Étape 2 : Instancier les couches qui composeront le modèle avec leur constructeur\n",
        "first_layer = Dense(units=units,                # nombre de neurones\n",
        "                    activation='tanh',          # fonction d'activation\n",
        "                    input_dim=num_pixels,       # dimension du vecteur d'entrée\n",
        "                    kernel_initializer=\"normal\" # vecteur de poids de cette couche initialisés aléatoirement selon la loi normale\n",
        "            )\n",
        "\n",
        "# Étape 3 : Ajouter les couches au modèle grâce\n",
        "second_layer = Dense(units=num_classes,          # nombre de neurones de sortie égal au nombre de classes\n",
        "                     activation='softmax',       # fonction d'activation\n",
        "                     #input_dim=20,               # dimension du vecteur d'entrée égale à la sortie de la couche précédente\n",
        "                     kernel_initializer=\"normal\" # vecteur de poids de cette couche initialisés aléatoirement selon la loi normale\n",
        "            )\n",
        "\n",
        "# Ajout des couches aux modèle\n",
        "model.add(first_layer)\n",
        "model.add(second_layer)\n",
        "\n",
        "model.compile(loss='categorical_crossentropy',  # fonction de perte\n",
        "              optimizer='adam',                 # algorithme d'optimisation\n",
        "              metrics=['accuracy'])             # métrique d'évaluation\n",
        "\n",
        "\n",
        "# TPU 200/batch : 2ms/step\n",
        "# TPU 2000/batch : 8ms/step\n",
        "training_history = model.fit(X_train, y_train_cat, epochs=epochs, batch_size=2000, validation_split=0.2)"
      ],
      "execution_count": null,
      "outputs": [
        {
          "output_type": "stream",
          "text": [
            "Epoch 1/50\n",
            "800/800 [==============================] - 23s 12ms/step - loss: 1.0595 - accuracy: 0.5966 - val_loss: 0.6921 - val_accuracy: 0.7285\n",
            "Epoch 2/50\n",
            "800/800 [==============================] - 8s 10ms/step - loss: 0.6834 - accuracy: 0.7337 - val_loss: 0.6500 - val_accuracy: 0.7484\n",
            "Epoch 3/50\n",
            "800/800 [==============================] - 8s 10ms/step - loss: 0.6393 - accuracy: 0.7535 - val_loss: 0.5921 - val_accuracy: 0.7738\n",
            "Epoch 4/50\n",
            "800/800 [==============================] - 8s 10ms/step - loss: 0.5793 - accuracy: 0.7795 - val_loss: 0.5414 - val_accuracy: 0.7942\n",
            "Epoch 5/50\n",
            "800/800 [==============================] - 8s 10ms/step - loss: 0.5242 - accuracy: 0.8021 - val_loss: 0.4841 - val_accuracy: 0.8193\n",
            "Epoch 6/50\n",
            "800/800 [==============================] - 8s 10ms/step - loss: 0.4739 - accuracy: 0.8226 - val_loss: 0.4363 - val_accuracy: 0.8391\n",
            "Epoch 7/50\n",
            "800/800 [==============================] - 9s 12ms/step - loss: 0.4299 - accuracy: 0.8409 - val_loss: 0.4054 - val_accuracy: 0.8504\n",
            "Epoch 8/50\n",
            "800/800 [==============================] - 9s 11ms/step - loss: 0.3924 - accuracy: 0.8557 - val_loss: 0.3699 - val_accuracy: 0.8647\n",
            "Epoch 9/50\n",
            "800/800 [==============================] - 8s 10ms/step - loss: 0.3568 - accuracy: 0.8702 - val_loss: 0.3295 - val_accuracy: 0.8813\n",
            "Epoch 10/50\n",
            "800/800 [==============================] - 8s 10ms/step - loss: 0.3230 - accuracy: 0.8837 - val_loss: 0.2963 - val_accuracy: 0.8947\n",
            "Epoch 11/50\n",
            "800/800 [==============================] - 8s 10ms/step - loss: 0.2885 - accuracy: 0.8979 - val_loss: 0.2657 - val_accuracy: 0.9078\n",
            "Epoch 12/50\n",
            "800/800 [==============================] - 8s 10ms/step - loss: 0.2551 - accuracy: 0.9117 - val_loss: 0.2303 - val_accuracy: 0.9212\n",
            "Epoch 13/50\n",
            "800/800 [==============================] - 10s 13ms/step - loss: 0.2232 - accuracy: 0.9248 - val_loss: 0.2040 - val_accuracy: 0.9321\n",
            "Epoch 14/50\n",
            "800/800 [==============================] - 8s 10ms/step - loss: 0.1958 - accuracy: 0.9355 - val_loss: 0.1775 - val_accuracy: 0.9423\n",
            "Epoch 15/50\n",
            "800/800 [==============================] - 8s 10ms/step - loss: 0.1721 - accuracy: 0.9444 - val_loss: 0.1552 - val_accuracy: 0.9512\n",
            "Epoch 16/50\n",
            "800/800 [==============================] - 8s 11ms/step - loss: 0.1519 - accuracy: 0.9518 - val_loss: 0.1390 - val_accuracy: 0.9559\n",
            "Epoch 17/50\n",
            "800/800 [==============================] - 8s 10ms/step - loss: 0.1338 - accuracy: 0.9584 - val_loss: 0.1222 - val_accuracy: 0.9620\n",
            "Epoch 18/50\n",
            "800/800 [==============================] - 8s 10ms/step - loss: 0.1196 - accuracy: 0.9632 - val_loss: 0.1123 - val_accuracy: 0.9655\n",
            "Epoch 19/50\n",
            "800/800 [==============================] - 8s 10ms/step - loss: 0.1071 - accuracy: 0.9675 - val_loss: 0.0961 - val_accuracy: 0.9714\n",
            "Epoch 20/50\n",
            "800/800 [==============================] - 8s 10ms/step - loss: 0.0956 - accuracy: 0.9714 - val_loss: 0.0887 - val_accuracy: 0.9735\n",
            "Epoch 21/50\n",
            "800/800 [==============================] - 8s 10ms/step - loss: 0.0866 - accuracy: 0.9746 - val_loss: 0.0806 - val_accuracy: 0.9763\n",
            "Epoch 22/50\n",
            "800/800 [==============================] - 8s 10ms/step - loss: 0.0781 - accuracy: 0.9771 - val_loss: 0.0736 - val_accuracy: 0.9788\n",
            "Epoch 23/50\n",
            "800/800 [==============================] - 8s 10ms/step - loss: 0.0697 - accuracy: 0.9800 - val_loss: 0.0646 - val_accuracy: 0.9815\n",
            "Epoch 24/50\n",
            "800/800 [==============================] - 8s 10ms/step - loss: 0.0625 - accuracy: 0.9824 - val_loss: 0.0622 - val_accuracy: 0.9822\n",
            "Epoch 25/50\n",
            "800/800 [==============================] - 8s 10ms/step - loss: 0.0570 - accuracy: 0.9840 - val_loss: 0.0525 - val_accuracy: 0.9854\n",
            "Epoch 26/50\n",
            "800/800 [==============================] - 8s 11ms/step - loss: 0.0511 - accuracy: 0.9860 - val_loss: 0.0464 - val_accuracy: 0.9873\n",
            "Epoch 27/50\n",
            "800/800 [==============================] - 8s 11ms/step - loss: 0.0461 - accuracy: 0.9874 - val_loss: 0.0439 - val_accuracy: 0.9883\n",
            "Epoch 28/50\n",
            "800/800 [==============================] - 8s 10ms/step - loss: 0.0422 - accuracy: 0.9885 - val_loss: 0.0429 - val_accuracy: 0.9876\n",
            "Epoch 29/50\n",
            "800/800 [==============================] - 8s 10ms/step - loss: 0.0388 - accuracy: 0.9896 - val_loss: 0.0362 - val_accuracy: 0.9901\n",
            "Epoch 30/50\n",
            "800/800 [==============================] - 9s 11ms/step - loss: 0.0350 - accuracy: 0.9907 - val_loss: 0.0336 - val_accuracy: 0.9910\n",
            "Epoch 31/50\n",
            "800/800 [==============================] - 10s 13ms/step - loss: 0.0324 - accuracy: 0.9913 - val_loss: 0.0301 - val_accuracy: 0.9918\n",
            "Epoch 32/50\n",
            "800/800 [==============================] - 8s 10ms/step - loss: 0.0293 - accuracy: 0.9923 - val_loss: 0.0299 - val_accuracy: 0.9917\n",
            "Epoch 33/50\n",
            "800/800 [==============================] - 8s 10ms/step - loss: 0.0275 - accuracy: 0.9929 - val_loss: 0.0281 - val_accuracy: 0.9924\n",
            "Epoch 34/50\n",
            "800/800 [==============================] - 8s 10ms/step - loss: 0.0253 - accuracy: 0.9933 - val_loss: 0.0241 - val_accuracy: 0.9935\n",
            "Epoch 35/50\n",
            "800/800 [==============================] - 8s 10ms/step - loss: 0.0233 - accuracy: 0.9939 - val_loss: 0.0226 - val_accuracy: 0.9941\n",
            "Epoch 36/50\n",
            "800/800 [==============================] - 8s 10ms/step - loss: 0.0218 - accuracy: 0.9944 - val_loss: 0.0213 - val_accuracy: 0.9943\n",
            "Epoch 37/50\n",
            "800/800 [==============================] - 8s 10ms/step - loss: 0.0201 - accuracy: 0.9949 - val_loss: 0.0187 - val_accuracy: 0.9951\n",
            "Epoch 38/50\n",
            "800/800 [==============================] - 8s 10ms/step - loss: 0.0188 - accuracy: 0.9951 - val_loss: 0.0177 - val_accuracy: 0.9954\n",
            "Epoch 39/50\n",
            "800/800 [==============================] - 8s 10ms/step - loss: 0.0180 - accuracy: 0.9953 - val_loss: 0.0164 - val_accuracy: 0.9957\n",
            "Epoch 40/50\n",
            "800/800 [==============================] - 8s 10ms/step - loss: 0.0167 - accuracy: 0.9957 - val_loss: 0.0179 - val_accuracy: 0.9949\n",
            "Epoch 41/50\n",
            "800/800 [==============================] - 8s 10ms/step - loss: 0.0158 - accuracy: 0.9959 - val_loss: 0.0149 - val_accuracy: 0.9961\n",
            "Epoch 42/50\n",
            "800/800 [==============================] - 8s 10ms/step - loss: 0.0145 - accuracy: 0.9964 - val_loss: 0.0147 - val_accuracy: 0.9961\n",
            "Epoch 43/50\n",
            "800/800 [==============================] - 8s 11ms/step - loss: 0.0143 - accuracy: 0.9963 - val_loss: 0.0136 - val_accuracy: 0.9965\n",
            "Epoch 44/50\n",
            "800/800 [==============================] - 8s 10ms/step - loss: 0.0131 - accuracy: 0.9967 - val_loss: 0.0129 - val_accuracy: 0.9966\n",
            "Epoch 45/50\n",
            "800/800 [==============================] - 8s 10ms/step - loss: 0.0125 - accuracy: 0.9968 - val_loss: 0.0130 - val_accuracy: 0.9965\n",
            "Epoch 46/50\n",
            "800/800 [==============================] - 8s 11ms/step - loss: 0.0122 - accuracy: 0.9969 - val_loss: 0.0115 - val_accuracy: 0.9970\n",
            "Epoch 47/50\n",
            "800/800 [==============================] - 8s 10ms/step - loss: 0.0114 - accuracy: 0.9971 - val_loss: 0.0111 - val_accuracy: 0.9972\n",
            "Epoch 48/50\n",
            "800/800 [==============================] - 8s 10ms/step - loss: 0.0107 - accuracy: 0.9973 - val_loss: 0.0110 - val_accuracy: 0.9971\n",
            "Epoch 49/50\n",
            "800/800 [==============================] - 8s 10ms/step - loss: 0.0104 - accuracy: 0.9973 - val_loss: 0.0099 - val_accuracy: 0.9974\n",
            "Epoch 50/50\n",
            "800/800 [==============================] - 8s 10ms/step - loss: 0.0097 - accuracy: 0.9976 - val_loss: 0.0093 - val_accuracy: 0.9974\n"
          ],
          "name": "stdout"
        }
      ]
    },
    {
      "cell_type": "code",
      "metadata": {
        "id": "ksSJy49dE7Ri"
      },
      "source": [
        "# sauvegarde du modèle\n",
        "# https://colab.research.google.com/github/tensorflow/examples/blob/master/courses/udacity_intro_to_tensorflow_for_deep_learning/l07c01_saving_and_loading_models.ipynb#scrollTo=Rx-z3Qwx5RnB\n",
        "model_save_name = 'nn1.h5'\n",
        "path = F\"/drive/MyDrive/asdpy/models/{model_save_name}\" \n",
        "\n",
        "model.save(path)"
      ],
      "execution_count": null,
      "outputs": []
    },
    {
      "cell_type": "code",
      "metadata": {
        "id": "oQpqGf1BIkYW",
        "colab": {
          "base_uri": "https://localhost:8080/"
        },
        "outputId": "b24832fc-94ca-4089-b5cd-ebdadc0f4937"
      },
      "source": [
        "#chargement du modèle\n",
        "from keras.models import load_model\n",
        "\n",
        "model_save_name = 'nn1.h5'\n",
        "path = F\"/drive/MyDrive/asdpy/models/{model_save_name}\" \n",
        "model = load_model(path)\n",
        "\n",
        "model.summary()"
      ],
      "execution_count": null,
      "outputs": [
        {
          "output_type": "stream",
          "text": [
            "Model: \"sequential\"\n",
            "_________________________________________________________________\n",
            "Layer (type)                 Output Shape              Param #   \n",
            "=================================================================\n",
            "dense (Dense)                (None, 120)               15480     \n",
            "_________________________________________________________________\n",
            "dense_1 (Dense)              (None, 5)                 605       \n",
            "=================================================================\n",
            "Total params: 16,085\n",
            "Trainable params: 16,085\n",
            "Non-trainable params: 0\n",
            "_________________________________________________________________\n"
          ],
          "name": "stdout"
        }
      ]
    },
    {
      "cell_type": "code",
      "metadata": {
        "id": "TZ8N2rMoE7zj"
      },
      "source": [
        "train_acc = training_history.history['accuracy']\n",
        "val_acc = training_history.history['val_accuracy']"
      ],
      "execution_count": null,
      "outputs": []
    },
    {
      "cell_type": "code",
      "metadata": {
        "id": "0o_MapENxROv",
        "colab": {
          "base_uri": "https://localhost:8080/",
          "height": 279
        },
        "outputId": "c721af41-f7ce-4566-b682-7c5be05bb454"
      },
      "source": [
        "plt.plot(np.arange(1 , len(train_acc)+1, 1), train_acc, label=\"train_acc\")\n",
        "plt.plot(np.arange(1 , len(train_acc)+1, 1), val_acc, label=\"val_acc\")\n",
        "\n",
        "plt.legend()\n",
        "plt.xlabel('Epochs')\n",
        "plt.ylabel('Accuracy')\n",
        "plt.show()"
      ],
      "execution_count": null,
      "outputs": [
        {
          "output_type": "display_data",
          "data": {
            "image/png": "[encoded data removed]",
            "text/plain": [
              "<Figure size 432x288 with 1 Axes>"
            ]
          },
          "metadata": {
            "tags": [],
            "needs_background": "light"
          }
        }
      ]
    },
    {
      "cell_type": "code",
      "metadata": {
        "id": "OHOJ4C9xxWQH",
        "colab": {
          "base_uri": "https://localhost:8080/"
        },
        "outputId": "a4b29100-244c-4c7d-912b-ba03d8862e7b"
      },
      "source": [
        "# prédiction des données\n",
        "# about 40 seconds\n",
        "#test_pred = model.predict(X_test)\n",
        "\n",
        "# score du modèle\n",
        "score = model.evaluate(X_test, y_test_cat)\n",
        "print(score)\n",
        "\n",
        "# Prediction de l'échantillon de test\n",
        "test_pred = model.predict(X_test)\n",
        "\n",
        "test_pred_class = np.argmax(test_pred, axis=1)\n",
        "y_test_class = np.argmax(y_test_cat, axis=1)\n",
        "\n",
        "print(\"Performances du modele :\")\n",
        "print(metrics.classification_report(y_test_class, test_pred_class))"
      ],
      "execution_count": null,
      "outputs": [
        {
          "output_type": "stream",
          "text": [
            "9782/9782 [==============================] - 11s 1ms/step - loss: 3.1972 - accuracy: 0.3480\n",
            "[3.1971800327301025, 0.3480095863342285]\n",
            "Performances du modele :\n",
            "              precision    recall  f1-score   support\n",
            "\n",
            "           1       0.46      0.38      0.41     78250\n",
            "           2       0.32      0.51      0.40     78250\n",
            "           3       0.39      0.28      0.32     78250\n",
            "           4       0.26      0.22      0.24     78250\n",
            "\n",
            "    accuracy                           0.35    313000\n",
            "   macro avg       0.36      0.35      0.34    313000\n",
            "weighted avg       0.36      0.35      0.34    313000\n",
            "\n"
          ],
          "name": "stdout"
        }
      ]
    },
    {
      "cell_type": "code",
      "metadata": {
        "id": "ECXUJKPC7z3B",
        "colab": {
          "base_uri": "https://localhost:8080/",
          "height": 296
        },
        "outputId": "ef5cd241-652b-4fdf-eb40-c1d7f0a1bcfc"
      },
      "source": [
        "# affiche la matrice de confusion sous forme de tableau coloré\n",
        "classes = range(0,num_classes)\n",
        "\n",
        "plt.figure()\n",
        "\n",
        "# matrice de confusion\n",
        "cnf_matrix = metrics.confusion_matrix(y_test_class, test_pred_class)\n",
        "\n",
        "plt.imshow(cnf_matrix, interpolation='nearest',cmap='Blues')\n",
        "plt.title(\"Matrice de confusion\")\n",
        "plt.colorbar()\n",
        "tick_marks = np.arange(len(classes))\n",
        "plt.xticks(tick_marks, classes)\n",
        "plt.yticks(tick_marks, classes)\n",
        "\n",
        "# texte et couleur\n",
        "for i, j in itertools.product(range(cnf_matrix.shape[0]), range(cnf_matrix.shape[1])):\n",
        "    plt.text(j, i, cnf_matrix[i, j],\n",
        "             horizontalalignment = \"center\",\n",
        "             color = \"white\" if cnf_matrix[i, j] > ( cnf_matrix.max() / 2) else \"black\")\n",
        "\n",
        "plt.ylabel('Vrais labels')\n",
        "plt.xlabel('Labels prédits')\n",
        "plt.show()\n",
        "\n"
      ],
      "execution_count": null,
      "outputs": [
        {
          "output_type": "display_data",
          "data": {
            "image/png": "[encoded data removed]",
            "text/plain": [
              "<Figure size 432x288 with 2 Axes>"
            ]
          },
          "metadata": {
            "tags": [],
            "needs_background": "light"
          }
        }
      ]
    },
    {
      "cell_type": "code",
      "metadata": {
        "id": "Jq-Tc5NmTWXv",
        "colab": {
          "base_uri": "https://localhost:8080/"
        },
        "outputId": "d1247ca6-e093-4508-a10b-c7bc63520242"
      },
      "source": [
        "print(\"RECAP\")\n",
        "\n",
        "print(\"test_size : \", test_size)\n",
        "print(\"training_reduction : \", training_reduction)\n",
        "print(\"units : \", units)\n",
        "print(\"epochs : \", epochs)\n",
        "print(\"score : \", score)\n"
      ],
      "execution_count": null,
      "outputs": [
        {
          "output_type": "stream",
          "text": [
            "RECAP\n",
            "test_size :  0.1\n",
            "training_reduction :  0.8\n",
            "units :  120\n",
            "epochs :  50\n",
            "score :  [3.1971800327301025, 0.3480095863342285]\n"
          ],
          "name": "stdout"
        }
      ]
    },
    {
      "cell_type": "code",
      "metadata": {
        "id": "jvA5Tien8Kjg",
        "colab": {
          "base_uri": "https://localhost:8080/"
        },
        "outputId": "f55fa34b-1b98-4e2d-a8ea-f1323e80caee"
      },
      "source": [
        "# show memory usage for each variable\n",
        "# https://stackoverflow.com/a/51046503\n",
        "import sys\n",
        "def sizeof_fmt(num, suffix='B'):\n",
        "    ''' by Fred Cirera,  https://stackoverflow.com/a/1094933/1870254, modified'''\n",
        "    for unit in ['','Ki','Mi','Gi','Ti','Pi','Ei','Zi']:\n",
        "        if abs(num) < 1024.0:\n",
        "            return \"%3.1f %s%s\" % (num, unit, suffix)\n",
        "        num /= 1024.0\n",
        "    return \"%.1f %s%s\" % (num, 'Yi', suffix)\n",
        "\n",
        "for name, size in sorted(((name, sys.getsizeof(value)) for name, value in locals().items()),\n",
        "                         key= lambda x: -x[1])[:10]:\n",
        "    print(\"{:>30}: {:>8}\".format(name, sizeof_fmt(size)))"
      ],
      "execution_count": null,
      "outputs": [
        {
          "output_type": "stream",
          "text": [
            "                       X_train:  1.9 GiB\n",
            "                        X_test: 305.7 MiB\n",
            "                       y_train: 15.3 MiB\n",
            "                     test_pred:  6.0 MiB\n",
            "                        y_test:  2.4 MiB\n",
            "               test_pred_class:  2.4 MiB\n",
            "                  y_test_class:  2.4 MiB\n",
            "                id_machine_col:  1.5 MiB\n",
            "                           _i7:  2.2 KiB\n",
            "                          _i13:  1.5 KiB\n"
          ],
          "name": "stdout"
        }
      ]
    },
    {
      "cell_type": "code",
      "metadata": {
        "id": "8PkrRedvNcLQ"
      },
      "source": [
        ""
      ],
      "execution_count": null,
      "outputs": []
    }
  ]
}