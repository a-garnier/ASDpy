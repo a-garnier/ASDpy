{
  "nbformat": 4,
  "nbformat_minor": 0,
  "metadata": {
    "colab": {
      "name": "5_RNN.ipynb",
      "provenance": [],
      "collapsed_sections": []
    },
    "kernelspec": {
      "name": "python3",
      "display_name": "Python 3"
    },
    "language_info": {
      "name": "python"
    },
    "accelerator": "TPU"
  },
  "cells": [
    {
      "cell_type": "code",
      "metadata": {
        "id": "k1t-TPEi_QwF"
      },
      "source": [
        "\"\"\"\n",
        "    classification par RNN\n",
        "\"\"\"\n",
        "\n",
        "import numpy as np\n",
        "import pandas as pd\n",
        "\n",
        "from os import listdir\n",
        "from os.path import isfile, join\n",
        "\n",
        "from joblib import dump, load"
      ],
      "execution_count": null,
      "outputs": []
    },
    {
      "cell_type": "code",
      "metadata": {
        "colab": {
          "base_uri": "https://localhost:8080/"
        },
        "id": "BIstwME2AW9i",
        "outputId": "d758dd89-dae8-4fb5-88d3-9bb41e8a9b4a"
      },
      "source": [
        "from google.colab import drive\n",
        "drive.mount('/drive') # 4/1AA...7rs"
      ],
      "execution_count": null,
      "outputs": [
        {
          "output_type": "stream",
          "name": "stdout",
          "text": [
            "Mounted at /drive\n"
          ]
        }
      ]
    },
    {
      "cell_type": "code",
      "metadata": {
        "id": "NiQe3-l6As91"
      },
      "source": [
        "def loadDataframes(machines, sets):\n",
        "\n",
        "  dataFolder = '/drive/MyDrive/asdpy/data/original/dc2020task2'\n",
        "  dataframes = []\n",
        "\n",
        "  for machine in machines:\n",
        "      for s in sets:\n",
        "          saveName = dataFolder+'/'+machine+'/df_'+machine+'_'+s+'.joblib'\n",
        "          df_partial = load(saveName)\n",
        "          dataframes.append(df_partial)\n",
        "          # print(df_partial.head())\n",
        "\n",
        "  # concatenate all partials dataframes on horizontal axis\n",
        "  return pd.concat(dataframes, axis=0)"
      ],
      "execution_count": null,
      "outputs": []
    },
    {
      "cell_type": "code",
      "metadata": {
        "colab": {
          "base_uri": "https://localhost:8080/"
        },
        "id": "undOEjeFAfWN",
        "outputId": "729b5fca-24da-4720-e598-b25b01c45fda"
      },
      "source": [
        "# load datas\n",
        "machines = ['fan', 'pump', 'slider', 'ToyCar', 'ToyConveyor', 'valve']\n",
        "sets = ['train', 'test']\n",
        "\n",
        "# concatenate all dataframes as one\n",
        "df_train = loadDataframes(machines, ['train', 'test'])\n",
        "\n",
        "#df_train['anomaly'] = df_train['anomaly'] + 1\n",
        "\n",
        "#anomaly_dummies = pd.get_dummies(df_train['anomaly'], 'anomaly')\n",
        "#df_train = df_train.join(anomaly_dummies)\n",
        "df_train['anomaly'] = df_train['anomaly'].astype(str)\n",
        "#df_train['anomaly_0'] = (df_train['anomaly_0']).to_string()\n",
        "#df_train['anomaly_1'] = (df_train['anomaly_1']).to_string()\n",
        "\n",
        "print(df_train.head())\n",
        "print(df_train.shape)\n",
        "print(df_train.dtypes)\n"
      ],
      "execution_count": null,
      "outputs": [
        {
          "output_type": "stream",
          "name": "stdout",
          "text": [
            "                                         spectrogram anomaly\n",
            "0  /drive/MyDrive/asdpy/data/original/dc2020task2...       0\n",
            "1  /drive/MyDrive/asdpy/data/original/dc2020task2...       0\n",
            "2  /drive/MyDrive/asdpy/data/original/dc2020task2...       0\n",
            "3  /drive/MyDrive/asdpy/data/original/dc2020task2...       0\n",
            "4  /drive/MyDrive/asdpy/data/original/dc2020task2...       0\n",
            "(30987, 2)\n",
            "spectrogram    object\n",
            "anomaly        object\n",
            "dtype: object\n"
          ]
        }
      ]
    },
    {
      "cell_type": "code",
      "metadata": {
        "id": "G1WHuOKJKLoM"
      },
      "source": [
        "# EXAM DEEP LEARNING"
      ],
      "execution_count": null,
      "outputs": []
    },
    {
      "cell_type": "code",
      "metadata": {
        "id": "ZvH9ZtdEKNX_"
      },
      "source": [
        "from keras.preprocessing.image import ImageDataGenerator\n",
        "\n",
        "train_datagen = ImageDataGenerator(\n",
        "    rescale = 1./255,\n",
        "    #shear_range = 0.2,\n",
        "    #zoom_range = 0.2,\n",
        "    #rotation_range=40,\n",
        "    #width_shift_range=0.2,\n",
        "    #height_shift_range=0.2,\n",
        "    #horizontal_flip=True,\n",
        "    fill_mode='nearest'\n",
        ")\n",
        "\n",
        "test_datagen = ImageDataGenerator(rescale = 1./255)"
      ],
      "execution_count": null,
      "outputs": []
    },
    {
      "cell_type": "code",
      "metadata": {
        "colab": {
          "base_uri": "https://localhost:8080/"
        },
        "id": "ArYNU8rYKTtb",
        "outputId": "b8ba92c0-51d4-4aff-ce76-d9b66f42c18a"
      },
      "source": [
        "# On prend des lots de 32\n",
        "\n",
        "#training_set = train_datagen.flow_from_directory('images',\n",
        "#    target_size = (64, 64),\n",
        "#    batch_size = 32,\n",
        "#    class_mode = 'categorical'\n",
        "#)\n",
        "\n",
        "# doc: https://www.tensorflow.org/api_docs/python/tf/keras/preprocessing/image/ImageDataGenerator\n",
        "training_set = train_datagen.flow_from_dataframe(\n",
        "  dataframe=df_train,\n",
        "  directory=None,      # if None, data in x_col column should be absolute paths\n",
        "  x_col=\"spectrogram\", # column in dataframe that contains the filenames\n",
        "  y_col=\"anomaly\",     # column in dataframe that has the target data\n",
        "  #subset=\"training\",   # subset of data\n",
        "  batch_size=32,       # optional random seed for shuffling and transformations\n",
        "  color_mode='grayscale',\n",
        "  seed=42,\n",
        "  shuffle=True,\n",
        "  class_mode=\"categorical\", #\"binary\",\n",
        "  target_size=(64,64)\n",
        ")\n",
        "\n",
        "# If class_mode=\"sparse\", y_col=\"anomaly\" column values must be strings\n",
        "# If class_mode=\"categorical\", y_col=\"['anomaly_0', 'anomaly_1']\" column values must be type string, list or tuple\n",
        "print(\"training_set : \")\n",
        "print(training_set) # keras.preprocessing.image.DirectoryIterator object\n",
        "\n",
        "print(\"\")\n",
        "\n",
        "test_set = train_datagen.flow_from_dataframe(\n",
        "  dataframe=df_train,\n",
        "  directory=None,      # if None, data in x_col column should be absolute paths\n",
        "  x_col=\"spectrogram\", # column in dataframe that contains the filenames\n",
        "  y_col=\"anomaly\",     # column in dataframe that has the target data\n",
        "  #subset=\"validation\", # subset of data\n",
        "  batch_size=32,       # optional random seed for shuffling and transformations\n",
        "  color_mode='grayscale',\n",
        "  seed=42,\n",
        "  shuffle=True,\n",
        "  class_mode=\"categorical\",\n",
        "  target_size=(64,64)\n",
        ")\n",
        "\n",
        "print(\"test_set : \")\n",
        "print(test_set) # keras.preprocessing.image.DirectoryIterator object"
      ],
      "execution_count": null,
      "outputs": [
        {
          "output_type": "stream",
          "name": "stdout",
          "text": [
            "Found 30987 validated image filenames belonging to 2 classes.\n",
            "training_set : \n",
            "<keras.preprocessing.image.DataFrameIterator object at 0x7fc95bd298d0>\n",
            "\n",
            "Found 30987 validated image filenames belonging to 2 classes.\n",
            "test_set : \n",
            "<keras.preprocessing.image.DataFrameIterator object at 0x7fc95bc95c10>\n"
          ]
        }
      ]
    },
    {
      "cell_type": "code",
      "metadata": {
        "colab": {
          "base_uri": "https://localhost:8080/"
        },
        "id": "MYwg1-Geoh3u",
        "outputId": "e4bf6e5d-5e1a-4049-83d3-55b8f0b41d22"
      },
      "source": [
        "from keras.models import Sequential\n",
        "from keras.layers import Dense\n",
        "from keras.layers import Dropout \n",
        "from keras.layers import Flatten\n",
        "from keras.layers.convolutional import Conv2D \n",
        "from keras.layers.convolutional import MaxPooling2D\n",
        "\n",
        "# Instancie un nouveau modèle séquentiel appelé model à l'aide du constructeur Sequential\n",
        "classifier = Sequential()\n",
        "\n",
        "# Instancie une couche de convolution\n",
        "layer_1 = Conv2D(\n",
        "    filters=32,         # La couche sera composée de 32 matrices de convolution\n",
        "    kernel_size=(3,3), # noyau de convolution de dimension 3*3\n",
        "    padding='valid',    # pour que le noyau ne puisse pas dépasser les bords de l'image\n",
        "    input_shape=(64, 64, 1), # image passée en entrée : 512px hauteur, 512px largeur et 1 canal\n",
        "    activation='relu'\n",
        ")\n",
        "\n",
        "# Instancie une couche de max-pooling\n",
        "layer_2 = MaxPooling2D(\n",
        "    pool_size = (2, 2) # maximum calculé sur des morceaux de dimensions 2x2\n",
        ")\n",
        "\n",
        "# Instancie une couche de convolution\n",
        "layer_3 = Conv2D(\n",
        "    filters=32, kernel_size=(3, 3),\n",
        "    padding='valid', activation='relu'\n",
        ")\n",
        "\n",
        "# Instancie une couche de max-pooling\n",
        "layer_4 = MaxPooling2D(\n",
        "    pool_size = (2, 2) # maximum calculé sur des morceaux de dimensions 2x2\n",
        ")\n",
        "\n",
        "# Instancie une couche d'applatissement\n",
        "# Cette couche ne prend pas de paramètre et permet juste d'aplatir un vecteur en une matrice.\n",
        "# Cette transformation est nécessaire pour la suite car les couches denses ne prennent que des vecteurs en entrée et non des matrices.\n",
        "layer_5 = Flatten()\n",
        "\n",
        "# Instancie une couche dense\n",
        "layer_6 = Dense(\n",
        "    units=128,          # nombre de neurones de sortie \n",
        "    activation='relu'   # fonction d'activation\n",
        ")\n",
        "\n",
        "# Instancie une couche dense\n",
        "output_layer = Dense(\n",
        "    units=2,             # nombre de neurones de sortie (2 classes)\n",
        "    activation='softmax'  # fonction d'activation\n",
        ")\n",
        "\n",
        "# Ajout les couches aux modèle\n",
        "classifier.add(layer_1)\n",
        "classifier.add(layer_2)\n",
        "classifier.add(layer_3)\n",
        "classifier.add(layer_4)\n",
        "classifier.add(layer_5)\n",
        "classifier.add(layer_6)\n",
        "classifier.add(output_layer)\n",
        "\n",
        "classifier.summary()\n",
        "\n",
        "classifier.compile(loss='categorical_crossentropy',  # fonction de perte\n",
        "              optimizer='adam',                 # algorithme d'optimisation\n",
        "              metrics=['accuracy'])             # métrique d'évaluation\n",
        "\n"
      ],
      "execution_count": null,
      "outputs": [
        {
          "output_type": "stream",
          "name": "stdout",
          "text": [
            "Model: \"sequential\"\n",
            "_________________________________________________________________\n",
            "Layer (type)                 Output Shape              Param #   \n",
            "=================================================================\n",
            "conv2d (Conv2D)              (None, 62, 62, 32)        320       \n",
            "_________________________________________________________________\n",
            "max_pooling2d (MaxPooling2D) (None, 31, 31, 32)        0         \n",
            "_________________________________________________________________\n",
            "conv2d_1 (Conv2D)            (None, 29, 29, 32)        9248      \n",
            "_________________________________________________________________\n",
            "max_pooling2d_1 (MaxPooling2 (None, 14, 14, 32)        0         \n",
            "_________________________________________________________________\n",
            "flatten (Flatten)            (None, 6272)              0         \n",
            "_________________________________________________________________\n",
            "dense (Dense)                (None, 128)               802944    \n",
            "_________________________________________________________________\n",
            "dense_1 (Dense)              (None, 2)                 258       \n",
            "=================================================================\n",
            "Total params: 812,770\n",
            "Trainable params: 812,770\n",
            "Non-trainable params: 0\n",
            "_________________________________________________________________\n"
          ]
        }
      ]
    },
    {
      "cell_type": "code",
      "metadata": {
        "colab": {
          "base_uri": "https://localhost:8080/"
        },
        "id": "bF_J8Uacom0X",
        "outputId": "b72841f3-a80b-4cb5-8177-0d9bae6e45ad"
      },
      "source": [
        "# https://studymachinelearning.com/keras-imagedatagenerator-with-flow_from_directory/\n",
        "\n",
        "batch_size = 32\n",
        "\n",
        "history = classifier.fit_generator(epochs = 10,\n",
        "                                   generator=training_set,\n",
        "                                   validation_data=test_set,\n",
        "                                   steps_per_epoch=50\n",
        ")\n",
        "\n",
        "train_acc = history.history['accuracy']\n",
        "val_acc = history.history['val_accuracy']\n",
        "\n",
        "print(\"train_acc : \", train_acc)\n",
        "print(\"val_acc : \", val_acc)\n"
      ],
      "execution_count": null,
      "outputs": [
        {
          "output_type": "stream",
          "text": [
            "/usr/local/lib/python3.7/dist-packages/keras/engine/training.py:1915: UserWarning: `Model.fit_generator` is deprecated and will be removed in a future version. Please use `Model.fit`, which supports generators.\n",
            "  warnings.warn('`Model.fit_generator` is deprecated and '\n"
          ],
          "name": "stderr"
        },
        {
          "output_type": "stream",
          "text": [
            "Epoch 1/10\n",
            "50/50 [==============================] - ETA: 0s - loss: 0.5174 - accuracy: 0.8239"
          ],
          "name": "stdout"
        }
      ]
    }
  ]
}