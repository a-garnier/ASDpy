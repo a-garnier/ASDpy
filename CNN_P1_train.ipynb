{
  "nbformat": 4,
  "nbformat_minor": 0,
  "metadata": {
    "accelerator": "TPU",
    "colab": {
      "name": "CNN_P1_train.ipynb",
      "provenance": [],
      "collapsed_sections": [],
      "authorship_tag": "ABX9TyMJX8Q2GV2JvXiXXSKYJ9IV",
      "include_colab_link": true
    },
    "kernelspec": {
      "display_name": "Python 3",
      "name": "python3"
    },
    "language_info": {
      "name": "python"
    }
  },
  "cells": [
    {
      "cell_type": "markdown",
      "metadata": {
        "id": "view-in-github",
        "colab_type": "text"
      },
      "source": [
        "<a href=\"https://colab.research.google.com/github/a-garnier/ASDpy/blob/antoine/CNN_P1_train.ipynb\" target=\"_parent\"><img src=\"https://colab.research.google.com/assets/colab-badge.svg\" alt=\"Open In Colab\"/></a>"
      ]
    },
    {
      "cell_type": "code",
      "metadata": {
        "id": "sdrT513z5-lA"
      },
      "source": [
        "# Strategy:\n",
        "#\n",
        "# STEP 1:\n",
        "#  * load training data for each machine (only normal sounds)\n",
        "#  * extract each vertical lines from spectrogram as a vector, and complete with machine ID\n",
        "#  * store these vectors in a global matrix\n",
        "#  * train a classifier which compute probability of appartenancy for each machine"
      ],
      "execution_count": 1,
      "outputs": []
    },
    {
      "cell_type": "code",
      "metadata": {
        "id": "vaebRlQwol0U"
      },
      "source": [
        "# Author : Antoine\n",
        "# First try of classification with KNN\n",
        "# use only fan data, use normal and anomalous data for training\n",
        "import pandas as pd\n",
        "import numpy as np\n",
        "import matplotlib.pyplot as plt # Pour l'affichage d'images\n",
        "\n",
        "from joblib import dump, load\n",
        "\n",
        "from sklearn import neighbors\n",
        "from sklearn.model_selection import train_test_split\n",
        "\n",
        "#import numpy as np # Pour la manipulation de tableaux\n",
        "#import pandas as pd # Pour manipuler des DataFrames pandas\n",
        "\n",
        "from matplotlib import cm # Pour importer de nouvelles cartes de couleur\n",
        "# %matplotlib inline\n",
        "\n",
        "from keras.models import Sequential # Pour construire un réseau de neurones\n",
        "from keras.layers import Dense # Pour instancier une couche dense\n",
        "from keras.utils import np_utils\n",
        "\n",
        "import itertools # Pour créer des iterateurs\n",
        "\n",
        "from sklearn import metrics # Pour évaluer les modèles"
      ],
      "execution_count": 2,
      "outputs": []
    },
    {
      "cell_type": "code",
      "metadata": {
        "colab": {
          "base_uri": "https://localhost:8080/"
        },
        "id": "Vvo0Xhn6nj68",
        "outputId": "53d69b62-eac0-4046-ad1b-6df0a23b1a75"
      },
      "source": [
        "from google.colab import drive\n",
        "drive.mount('/drive')"
      ],
      "execution_count": 3,
      "outputs": [
        {
          "output_type": "stream",
          "text": [
            "Drive already mounted at /drive; to attempt to forcibly remount, call drive.mount(\"/drive\", force_remount=True).\n"
          ],
          "name": "stdout"
        }
      ]
    },
    {
      "cell_type": "code",
      "metadata": {
        "id": "5im202ZHt3r7"
      },
      "source": [
        "machines = [            # TEST DATA SIZE\n",
        "    'fan',              # (1875, 40065)\n",
        "    'pump',             # (856, 40065)\n",
        "    'slider',           # (1290, 40065)\n",
        "    'ToyCar',           # (2459, 44033)\n",
        "    'ToyConveyor',      # (3509, 40065)\n",
        "    'valve'             # (879, 40065)\n",
        "]\n",
        "\n",
        "#machines = ['verif_1', 'verif_2']\n",
        "\n",
        "\n",
        "# use 30% of available datas for model validation\n",
        "test_size = 0.1\n",
        "\n",
        "# all images are 128px height\n",
        "height = 128\n"
      ],
      "execution_count": 4,
      "outputs": []
    },
    {
      "cell_type": "code",
      "metadata": {
        "colab": {
          "base_uri": "https://localhost:8080/"
        },
        "id": "w76n92W68NCy",
        "outputId": "2e419907-7ae1-46ac-c21b-7365355da25e"
      },
      "source": [
        "id_machine = 0\n",
        "\n",
        "# init empty array with expected width (equals image heigh + one for target)\n",
        "global_train_array = np.empty([0, height+1])\n",
        "global_test_array = np.empty([0, height+1])\n",
        "\n",
        "set = 'train'\n",
        "\n",
        "for machine in machines:\n",
        "\n",
        "    # identifiant de la machine\n",
        "    id_machine = id_machine + 1\n",
        "\n",
        "    print(machine, '/', id_machine)\n",
        "\n",
        "    # example : '../data/fan/train_png/'\n",
        "    # working_directory = '../../data/'+machine+'/'\n",
        "    working_directory = '/drive/MyDrive/asdpy/data/'\n",
        "\n",
        "    # data file example: df_fan_train.joblib\n",
        "    # numpy ndarray\n",
        "    # dernière colonne = type de donnée, normal ou anomalie\n",
        "    data_array = load(working_directory + 'df_'+machine+'_'+set+'.joblib')\n",
        "\n",
        "    # shuffle images\n",
        "    np.random.shuffle(data_array)\n",
        "\n",
        "    # limit data to spare RAM \n",
        "    if data_array.shape[0] > 2500:\n",
        "      data_array = data_array[:2500,:]\n",
        "\n",
        "    print(data_array.shape)\n",
        "\n",
        "    nb_images = data_array.shape[0]\n",
        "\n",
        "    nb_images_test = int(nb_images*test_size)\n",
        "    nb_images_train = int(nb_images - nb_images_test)\n",
        "\n",
        "    pixels = data_array.shape[1] - 1\n",
        "    width = int(pixels/height)\n",
        "\n",
        "    #print(\"nb_images : \", nb_images)\n",
        "    #print(\"width : \", width)\n",
        "\n",
        "    # remove last column, reshape to line by line format and transpose result\n",
        "    loop_array = data_array[:,0:-1].reshape(height,width*nb_images).T\n",
        "\n",
        "    # vector as long as vertical lines\n",
        "    id_machine_col = np.ones((width*nb_images,1), dtype=np.int16)*id_machine\n",
        "\n",
        "    # colle le vecteur à droite de l'array\n",
        "    loop_array = np.append(loop_array, id_machine_col, axis=1)\n",
        "\n",
        "    # ajoute au tableau global\n",
        "    global_train_array = np.append(global_train_array, loop_array[:nb_images_train*width], axis=0)\n",
        "    global_test_array = np.append(global_test_array, loop_array[nb_images_train*width:], axis=0)\n",
        "\n",
        "    # 14 minutes pour les 4 premieres machines...\n",
        "    # 16 secondes pour 5 machines une fois optimisé\n",
        "    # 45 secondes avec les 6 jeux de train et bridage à 2500 lignes par jeu\n",
        "\n",
        "# free RAM\n",
        "del data_array\n",
        "del loop_array\n"
      ],
      "execution_count": 5,
      "outputs": [
        {
          "output_type": "stream",
          "text": [
            "fan / 1\n",
            "(2500, 40065)\n",
            "pump / 2\n",
            "(2500, 40065)\n",
            "slider / 3\n",
            "(2500, 40065)\n",
            "ToyCar / 4\n",
            "(2500, 44033)\n",
            "ToyConveyor / 5\n",
            "(2500, 40065)\n",
            "valve / 6\n",
            "(2500, 40065)\n"
          ],
          "name": "stdout"
        }
      ]
    },
    {
      "cell_type": "code",
      "metadata": {
        "id": "p8yzLNo3t8lm",
        "colab": {
          "base_uri": "https://localhost:8080/"
        },
        "outputId": "2810f1e5-0f07-44bd-d1c1-e12e719965bc"
      },
      "source": [
        "print('global_train_array.shape : ')\n",
        "print(global_train_array.shape)\n",
        "# (3'340'750, 129)\n",
        "\n",
        "print('global_test_array.shape : ')\n",
        "print(global_test_array.shape)\n",
        "# 1'431'750"
      ],
      "execution_count": 6,
      "outputs": [
        {
          "output_type": "stream",
          "text": [
            "global_train_array.shape : \n",
            "(4295250, 129)\n",
            "global_test_array.shape : \n",
            "(477250, 129)\n"
          ],
          "name": "stdout"
        }
      ]
    },
    {
      "cell_type": "code",
      "metadata": {
        "id": "PLUI0oS3I--a",
        "colab": {
          "base_uri": "https://localhost:8080/"
        },
        "outputId": "a438e1bf-711a-4fe6-b1b4-b053592d34b4"
      },
      "source": [
        "print(global_train_array)"
      ],
      "execution_count": 7,
      "outputs": [
        {
          "output_type": "stream",
          "text": [
            "[[0.94509804 0.53333336 0.76862746 ... 0.19607843 0.43137255 1.        ]\n",
            " [0.94509804 0.47843137 0.7647059  ... 0.25098041 0.3764706  1.        ]\n",
            " [0.9254902  0.48235294 0.81568629 ... 0.16862746 0.47450981 1.        ]\n",
            " ...\n",
            " [0.41176471 0.79607844 0.61176473 ... 0.5529412  0.85490197 6.        ]\n",
            " [0.55686277 0.85490197 0.65490198 ... 0.6156863  0.83137256 6.        ]\n",
            " [0.66274512 0.86666667 0.66666669 ... 0.67450982 0.86666667 6.        ]]\n"
          ],
          "name": "stdout"
        }
      ]
    },
    {
      "cell_type": "code",
      "metadata": {
        "id": "q3smwI8tuSCd",
        "colab": {
          "base_uri": "https://localhost:8080/"
        },
        "outputId": "53d69984-bc2a-453c-afc0-e4688d933407"
      },
      "source": [
        "print(\"PREPARE TRAINING DATAFRAMES...\")\n",
        "\n",
        "# réduit la dimension de l'array pour les tests\n",
        "np.random.shuffle(global_train_array) \n",
        "data = global_train_array[0:2000*1000]\n",
        "train_df = pd.DataFrame(data)\n",
        "\n",
        "# séparation des données de la cible\n",
        "X_train = train_df.iloc[:,0:-1]\n",
        "y_train = train_df.iloc[:,-1:]\n",
        "\n",
        "print(\"PREPARE VALIDATION DATAFRAMES...\")\n",
        "# réduit la dimension de l'array pour les tests\n",
        "np.random.shuffle(global_test_array) \n",
        "data = global_test_array[0:1000*1000]\n",
        "test_df = pd.DataFrame(data)\n",
        "\n",
        "# séparation des données de la cible\n",
        "X_test = test_df.iloc[:,0:-1]\n",
        "y_test = test_df.iloc[:,-1:]\n",
        "\n",
        "# séparation des données d'entrainement (70%) et de test (30%)\n",
        "# méthode inneficace pour ce projet\n",
        "#X_train, X_test, y_train, y_test = train_test_split(data, target, test_size = 0.30, random_state=66)\n",
        "\n",
        "# delete not used variables to free RAM\n",
        "del data\n",
        "del global_train_array\n",
        "del global_test_array\n",
        "del train_df\n",
        "del test_df"
      ],
      "execution_count": 8,
      "outputs": [
        {
          "output_type": "stream",
          "text": [
            "PREPARE TRAINING DATAFRAMES...\n",
            "PREPARE VALIDATION DATAFRAMES...\n"
          ],
          "name": "stdout"
        }
      ]
    },
    {
      "cell_type": "code",
      "metadata": {
        "id": "5rlEh_bN5Gss",
        "colab": {
          "base_uri": "https://localhost:8080/"
        },
        "outputId": "1b057c16-b3de-4749-d7e7-3942236075d1"
      },
      "source": [
        "y_train.value_counts()\n",
        "\n",
        "y_train.min() # 128    1.0\n",
        "y_train.max() # 128    6.0\n",
        "\n",
        "# y_train.shape # (1000000, 1)\n",
        "\n",
        "print(y_train)\n",
        "\n",
        "print(y_train.value_counts())\n",
        "print(y_test.value_counts())"
      ],
      "execution_count": 9,
      "outputs": [
        {
          "output_type": "stream",
          "text": [
            "         128\n",
            "0        5.0\n",
            "1        1.0\n",
            "2        3.0\n",
            "3        3.0\n",
            "4        4.0\n",
            "...      ...\n",
            "1999995  5.0\n",
            "1999996  3.0\n",
            "1999997  2.0\n",
            "1999998  1.0\n",
            "1999999  3.0\n",
            "\n",
            "[2000000 rows x 1 columns]\n",
            "128\n",
            "4.0    360229\n",
            "1.0    328484\n",
            "3.0    328465\n",
            "6.0    328216\n",
            "5.0    327520\n",
            "2.0    327086\n",
            "dtype: int64\n",
            "128\n",
            "4.0    86000\n",
            "6.0    78250\n",
            "5.0    78250\n",
            "3.0    78250\n",
            "2.0    78250\n",
            "1.0    78250\n",
            "dtype: int64\n"
          ],
          "name": "stdout"
        }
      ]
    },
    {
      "cell_type": "code",
      "metadata": {
        "id": "VmPHJ-3Ww4Kw",
        "colab": {
          "base_uri": "https://localhost:8080/"
        },
        "outputId": "a2d3b57f-dccb-4ff6-f580-7a74903d829e"
      },
      "source": [
        "y_train_cat = np_utils.to_categorical(y_train, dtype = 'int64')\n",
        "y_test_cat = np_utils.to_categorical(y_test, dtype = 'int64')\n",
        "\n",
        "print(\"y_train_cat.shape\")\n",
        "print(y_train_cat.shape)\n",
        "\n",
        "print(\"y_test_cat.shape\")\n",
        "print(y_test_cat.shape)\n",
        "\n",
        "num_pixels = X_train.shape[1]\n",
        "num_classes = y_test_cat.shape[1]\n",
        "\n",
        "print(\"num_classes : \", num_classes)"
      ],
      "execution_count": 10,
      "outputs": [
        {
          "output_type": "stream",
          "text": [
            "y_train_cat.shape\n",
            "(2000000, 7)\n",
            "y_test_cat.shape\n",
            "(477250, 7)\n",
            "num_classes :  7\n"
          ],
          "name": "stdout"
        }
      ]
    },
    {
      "cell_type": "code",
      "metadata": {
        "colab": {
          "base_uri": "https://localhost:8080/"
        },
        "id": "iUMbDtI3pQEW",
        "outputId": "a7e4b87a-55f4-4c94-878b-653f74679216"
      },
      "source": [
        "# 50 units 50 epoch 700k train sample => 5 min\n",
        "# essai 1 : 50/50 => validation parfaite avec le reste des datas, pipo avec les autres\n",
        "\n",
        "units = 80\n",
        "epochs = 50\n",
        "\n",
        "# Étape 1 : Instancier un modèle avec le constructeur Sequential\n",
        "model = Sequential()\n",
        "\n",
        "# Étape 2 : Instancier les couches qui composeront le modèle avec leur constructeur\n",
        "first_layer = Dense(units=units,                # nombre de neurones\n",
        "                    activation='tanh',          # fonction d'activation\n",
        "                    input_dim=num_pixels,       # dimension du vecteur d'entrée\n",
        "                    kernel_initializer=\"normal\" # vecteur de poids de cette couche initialisés aléatoirement selon la loi normale\n",
        "            )\n",
        "\n",
        "# Étape 3 : Ajouter les couches au modèle grâce\n",
        "second_layer = Dense(units=num_classes,          # nombre de neurones de sortie égal au nombre de classes\n",
        "                     activation='softmax',       # fonction d'activation\n",
        "                     #input_dim=20,               # dimension du vecteur d'entrée égale à la sortie de la couche précédente\n",
        "                     kernel_initializer=\"normal\" # vecteur de poids de cette couche initialisés aléatoirement selon la loi normale\n",
        "            )\n",
        "\n",
        "# Ajout des couches aux modèle\n",
        "model.add(first_layer)\n",
        "model.add(second_layer)\n",
        "\n",
        "model.compile(loss='categorical_crossentropy',  # fonction de perte\n",
        "              optimizer='adam',                 # algorithme d'optimisation\n",
        "              metrics=['accuracy'])             # métrique d'évaluation\n",
        "\n",
        "\n",
        "# TPU 200/batch : 2ms/step\n",
        "# TPU 2000/batch : 8ms/step\n",
        "training_history = model.fit(X_train, y_train_cat, epochs=epochs, batch_size=2000, validation_split=0.2)"
      ],
      "execution_count": 11,
      "outputs": [
        {
          "output_type": "stream",
          "text": [
            "Epoch 1/50\n",
            "800/800 [==============================] - 22s 11ms/step - loss: 1.4044 - accuracy: 0.5037 - val_loss: 0.6770 - val_accuracy: 0.7721\n",
            "Epoch 2/50\n",
            "800/800 [==============================] - 7s 9ms/step - loss: 0.6328 - accuracy: 0.7839 - val_loss: 0.5539 - val_accuracy: 0.7966\n",
            "Epoch 3/50\n",
            "800/800 [==============================] - 7s 9ms/step - loss: 0.5414 - accuracy: 0.7995 - val_loss: 0.5086 - val_accuracy: 0.8070\n",
            "Epoch 4/50\n",
            "800/800 [==============================] - 7s 9ms/step - loss: 0.4986 - accuracy: 0.8110 - val_loss: 0.4663 - val_accuracy: 0.8231\n",
            "Epoch 5/50\n",
            "800/800 [==============================] - 7s 9ms/step - loss: 0.4595 - accuracy: 0.8258 - val_loss: 0.4296 - val_accuracy: 0.8380\n",
            "Epoch 6/50\n",
            "800/800 [==============================] - 7s 9ms/step - loss: 0.4218 - accuracy: 0.8407 - val_loss: 0.3957 - val_accuracy: 0.8505\n",
            "Epoch 7/50\n",
            "800/800 [==============================] - 7s 9ms/step - loss: 0.3894 - accuracy: 0.8535 - val_loss: 0.3651 - val_accuracy: 0.8631\n",
            "Epoch 8/50\n",
            "800/800 [==============================] - 7s 9ms/step - loss: 0.3614 - accuracy: 0.8641 - val_loss: 0.3409 - val_accuracy: 0.8727\n",
            "Epoch 9/50\n",
            "800/800 [==============================] - 7s 9ms/step - loss: 0.3364 - accuracy: 0.8740 - val_loss: 0.3180 - val_accuracy: 0.8816\n",
            "Epoch 10/50\n",
            "800/800 [==============================] - 7s 9ms/step - loss: 0.3154 - accuracy: 0.8824 - val_loss: 0.2976 - val_accuracy: 0.8894\n",
            "Epoch 11/50\n",
            "800/800 [==============================] - 7s 9ms/step - loss: 0.2957 - accuracy: 0.8898 - val_loss: 0.2842 - val_accuracy: 0.8940\n",
            "Epoch 12/50\n",
            "800/800 [==============================] - 7s 9ms/step - loss: 0.2780 - accuracy: 0.8968 - val_loss: 0.2634 - val_accuracy: 0.9027\n",
            "Epoch 13/50\n",
            "800/800 [==============================] - 7s 9ms/step - loss: 0.2625 - accuracy: 0.9030 - val_loss: 0.2522 - val_accuracy: 0.9072\n",
            "Epoch 14/50\n",
            "800/800 [==============================] - 7s 9ms/step - loss: 0.2475 - accuracy: 0.9093 - val_loss: 0.2334 - val_accuracy: 0.9147\n",
            "Epoch 15/50\n",
            "800/800 [==============================] - 7s 9ms/step - loss: 0.2326 - accuracy: 0.9150 - val_loss: 0.2297 - val_accuracy: 0.9157\n",
            "Epoch 16/50\n",
            "800/800 [==============================] - 8s 10ms/step - loss: 0.2201 - accuracy: 0.9199 - val_loss: 0.2077 - val_accuracy: 0.9251\n",
            "Epoch 17/50\n",
            "800/800 [==============================] - 7s 9ms/step - loss: 0.2067 - accuracy: 0.9253 - val_loss: 0.1961 - val_accuracy: 0.9297\n",
            "Epoch 18/50\n",
            "800/800 [==============================] - 7s 9ms/step - loss: 0.1953 - accuracy: 0.9299 - val_loss: 0.1882 - val_accuracy: 0.9322\n",
            "Epoch 19/50\n",
            "800/800 [==============================] - 7s 9ms/step - loss: 0.1845 - accuracy: 0.9342 - val_loss: 0.1756 - val_accuracy: 0.9376\n",
            "Epoch 20/50\n",
            "800/800 [==============================] - 7s 9ms/step - loss: 0.1732 - accuracy: 0.9384 - val_loss: 0.1656 - val_accuracy: 0.9415\n",
            "Epoch 21/50\n",
            "800/800 [==============================] - 7s 9ms/step - loss: 0.1654 - accuracy: 0.9413 - val_loss: 0.1574 - val_accuracy: 0.9444\n",
            "Epoch 22/50\n",
            "800/800 [==============================] - 7s 9ms/step - loss: 0.1560 - accuracy: 0.9450 - val_loss: 0.1499 - val_accuracy: 0.9469\n",
            "Epoch 23/50\n",
            "800/800 [==============================] - 7s 9ms/step - loss: 0.1485 - accuracy: 0.9479 - val_loss: 0.1434 - val_accuracy: 0.9494\n",
            "Epoch 24/50\n",
            "800/800 [==============================] - 7s 9ms/step - loss: 0.1418 - accuracy: 0.9504 - val_loss: 0.1372 - val_accuracy: 0.9514\n",
            "Epoch 25/50\n",
            "800/800 [==============================] - 8s 10ms/step - loss: 0.1353 - accuracy: 0.9525 - val_loss: 0.1307 - val_accuracy: 0.9543\n",
            "Epoch 26/50\n",
            "800/800 [==============================] - 7s 9ms/step - loss: 0.1290 - accuracy: 0.9548 - val_loss: 0.1281 - val_accuracy: 0.9553\n",
            "Epoch 27/50\n",
            "800/800 [==============================] - 7s 9ms/step - loss: 0.1226 - accuracy: 0.9572 - val_loss: 0.1243 - val_accuracy: 0.9565\n",
            "Epoch 28/50\n",
            "800/800 [==============================] - 7s 9ms/step - loss: 0.1181 - accuracy: 0.9589 - val_loss: 0.1118 - val_accuracy: 0.9613\n",
            "Epoch 29/50\n",
            "800/800 [==============================] - 7s 9ms/step - loss: 0.1126 - accuracy: 0.9610 - val_loss: 0.1092 - val_accuracy: 0.9624\n",
            "Epoch 30/50\n",
            "800/800 [==============================] - 7s 9ms/step - loss: 0.1080 - accuracy: 0.9628 - val_loss: 0.1031 - val_accuracy: 0.9644\n",
            "Epoch 31/50\n",
            "800/800 [==============================] - 7s 9ms/step - loss: 0.1038 - accuracy: 0.9640 - val_loss: 0.1003 - val_accuracy: 0.9649\n",
            "Epoch 32/50\n",
            "800/800 [==============================] - 7s 9ms/step - loss: 0.0995 - accuracy: 0.9657 - val_loss: 0.0951 - val_accuracy: 0.9671\n",
            "Epoch 33/50\n",
            "800/800 [==============================] - 7s 9ms/step - loss: 0.0957 - accuracy: 0.9673 - val_loss: 0.0937 - val_accuracy: 0.9671\n",
            "Epoch 34/50\n",
            "800/800 [==============================] - 8s 9ms/step - loss: 0.0930 - accuracy: 0.9680 - val_loss: 0.0897 - val_accuracy: 0.9695\n",
            "Epoch 35/50\n",
            "800/800 [==============================] - 7s 9ms/step - loss: 0.0893 - accuracy: 0.9696 - val_loss: 0.0872 - val_accuracy: 0.9695\n",
            "Epoch 36/50\n",
            "800/800 [==============================] - 7s 9ms/step - loss: 0.0859 - accuracy: 0.9706 - val_loss: 0.0858 - val_accuracy: 0.9707\n",
            "Epoch 37/50\n",
            "800/800 [==============================] - 7s 9ms/step - loss: 0.0835 - accuracy: 0.9716 - val_loss: 0.0808 - val_accuracy: 0.9723\n",
            "Epoch 38/50\n",
            "800/800 [==============================] - 7s 9ms/step - loss: 0.0808 - accuracy: 0.9725 - val_loss: 0.0796 - val_accuracy: 0.9723\n",
            "Epoch 39/50\n",
            "800/800 [==============================] - 7s 9ms/step - loss: 0.0779 - accuracy: 0.9736 - val_loss: 0.0772 - val_accuracy: 0.9732\n",
            "Epoch 40/50\n",
            "800/800 [==============================] - 8s 9ms/step - loss: 0.0755 - accuracy: 0.9743 - val_loss: 0.0739 - val_accuracy: 0.9746\n",
            "Epoch 41/50\n",
            "800/800 [==============================] - 7s 9ms/step - loss: 0.0736 - accuracy: 0.9750 - val_loss: 0.0724 - val_accuracy: 0.9755\n",
            "Epoch 42/50\n",
            "800/800 [==============================] - 7s 9ms/step - loss: 0.0713 - accuracy: 0.9759 - val_loss: 0.0685 - val_accuracy: 0.9771\n",
            "Epoch 43/50\n",
            "800/800 [==============================] - 7s 9ms/step - loss: 0.0689 - accuracy: 0.9766 - val_loss: 0.0685 - val_accuracy: 0.9765\n",
            "Epoch 44/50\n",
            "800/800 [==============================] - 8s 9ms/step - loss: 0.0678 - accuracy: 0.9770 - val_loss: 0.0757 - val_accuracy: 0.9724\n",
            "Epoch 45/50\n",
            "800/800 [==============================] - 7s 9ms/step - loss: 0.0657 - accuracy: 0.9777 - val_loss: 0.0642 - val_accuracy: 0.9784\n",
            "Epoch 46/50\n",
            "800/800 [==============================] - 8s 10ms/step - loss: 0.0640 - accuracy: 0.9783 - val_loss: 0.0656 - val_accuracy: 0.9768\n",
            "Epoch 47/50\n",
            "800/800 [==============================] - 7s 9ms/step - loss: 0.0624 - accuracy: 0.9788 - val_loss: 0.0649 - val_accuracy: 0.9780\n",
            "Epoch 48/50\n",
            "800/800 [==============================] - 7s 9ms/step - loss: 0.0608 - accuracy: 0.9794 - val_loss: 0.0591 - val_accuracy: 0.9802\n",
            "Epoch 49/50\n",
            "800/800 [==============================] - 7s 9ms/step - loss: 0.0583 - accuracy: 0.9805 - val_loss: 0.0581 - val_accuracy: 0.9806\n",
            "Epoch 50/50\n",
            "800/800 [==============================] - 7s 9ms/step - loss: 0.0576 - accuracy: 0.9807 - val_loss: 0.0559 - val_accuracy: 0.9811\n"
          ],
          "name": "stdout"
        }
      ]
    },
    {
      "cell_type": "code",
      "metadata": {
        "id": "ksSJy49dE7Ri"
      },
      "source": [
        "# sauvegarde du modèle\n",
        "# https://colab.research.google.com/github/tensorflow/examples/blob/master/courses/udacity_intro_to_tensorflow_for_deep_learning/l07c01_saving_and_loading_models.ipynb#scrollTo=Rx-z3Qwx5RnB\n",
        "model_save_name = 'nn1.h5'\n",
        "path = F\"/drive/MyDrive/asdpy/models/{model_save_name}\" \n",
        "\n",
        "model.save(path)"
      ],
      "execution_count": 20,
      "outputs": []
    },
    {
      "cell_type": "code",
      "metadata": {
        "id": "oQpqGf1BIkYW",
        "colab": {
          "base_uri": "https://localhost:8080/"
        },
        "outputId": "37cc402e-b045-41f8-ffe4-6f258feb55fb"
      },
      "source": [
        "#chargement du modèle\n",
        "from keras.models import load_model\n",
        "\n",
        "model_save_name = 'nn1.h5'\n",
        "path = F\"/drive/MyDrive/asdpy/models/{model_save_name}\" \n",
        "model = load_model(path)\n",
        "\n",
        "model.summary()"
      ],
      "execution_count": 13,
      "outputs": [
        {
          "output_type": "stream",
          "text": [
            "Model: \"sequential\"\n",
            "_________________________________________________________________\n",
            "Layer (type)                 Output Shape              Param #   \n",
            "=================================================================\n",
            "dense (Dense)                (None, 80)                10320     \n",
            "_________________________________________________________________\n",
            "dense_1 (Dense)              (None, 7)                 567       \n",
            "=================================================================\n",
            "Total params: 10,887\n",
            "Trainable params: 10,887\n",
            "Non-trainable params: 0\n",
            "_________________________________________________________________\n"
          ],
          "name": "stdout"
        }
      ]
    },
    {
      "cell_type": "code",
      "metadata": {
        "id": "TZ8N2rMoE7zj"
      },
      "source": [
        "train_acc = training_history.history['accuracy']\n",
        "val_acc = training_history.history['val_accuracy']"
      ],
      "execution_count": 21,
      "outputs": []
    },
    {
      "cell_type": "code",
      "metadata": {
        "id": "0o_MapENxROv",
        "colab": {
          "base_uri": "https://localhost:8080/",
          "height": 279
        },
        "outputId": "9b41bc75-78d1-4913-ddcb-dc8dfcba1060"
      },
      "source": [
        "plt.plot(np.arange(1 , len(train_acc)+1, 1), train_acc, label=\"train_acc\")\n",
        "plt.plot(np.arange(1 , len(train_acc)+1, 1), val_acc, label=\"val_acc\")\n",
        "\n",
        "plt.legend()\n",
        "plt.xlabel('Epochs')\n",
        "plt.ylabel('Accuracy')\n",
        "plt.show()"
      ],
      "execution_count": 22,
      "outputs": [
        {
          "output_type": "display_data",
          "data": {
            "image/png": "[encoded data removed]",
            "text/plain": [
              "<Figure size 432x288 with 1 Axes>"
            ]
          },
          "metadata": {
            "tags": [],
            "needs_background": "light"
          }
        }
      ]
    },
    {
      "cell_type": "code",
      "metadata": {
        "id": "OHOJ4C9xxWQH",
        "colab": {
          "base_uri": "https://localhost:8080/"
        },
        "outputId": "0a697828-b2e9-4409-dadc-7523a20b5207"
      },
      "source": [
        "# prédiction des données\n",
        "# about 40 seconds\n",
        "#test_pred = model.predict(X_test)\n",
        "\n",
        "# score du modèle\n",
        "score = model.evaluate(X_test, y_test_cat)\n",
        "print(score)\n",
        "\n",
        "# Prediction de l'échantillon de test\n",
        "test_pred = model.predict(X_test)\n",
        "\n",
        "test_pred_class = np.argmax(test_pred, axis=1)\n",
        "y_test_class = np.argmax(y_test_cat, axis=1)\n",
        "\n",
        "print(\"Performances du modele :\")\n",
        "print(metrics.classification_report(y_test_class, test_pred_class))"
      ],
      "execution_count": 23,
      "outputs": [
        {
          "output_type": "stream",
          "text": [
            "14915/14915 [==============================] - 18s 1ms/step - loss: 2.0082 - accuracy: 0.5478\n",
            "[2.008159637451172, 0.5477967262268066]\n",
            "Performances du modele :\n",
            "              precision    recall  f1-score   support\n",
            "\n",
            "           1       0.44      0.61      0.51     78250\n",
            "           2       0.27      0.30      0.28     78250\n",
            "           3       0.29      0.19      0.23     78250\n",
            "           4       0.84      0.92      0.88     86000\n",
            "           5       0.90      0.81      0.85     78250\n",
            "           6       0.51      0.41      0.46     78250\n",
            "\n",
            "    accuracy                           0.55    477250\n",
            "   macro avg       0.54      0.54      0.54    477250\n",
            "weighted avg       0.55      0.55      0.54    477250\n",
            "\n"
          ],
          "name": "stdout"
        }
      ]
    },
    {
      "cell_type": "code",
      "metadata": {
        "id": "ECXUJKPC7z3B",
        "colab": {
          "base_uri": "https://localhost:8080/",
          "height": 296
        },
        "outputId": "bf0c141c-514c-4fab-ae00-56921ec9fb9a"
      },
      "source": [
        "# affiche la matrice de confusion sous forme de tableau coloré\n",
        "classes = range(0,num_classes)\n",
        "\n",
        "plt.figure()\n",
        "\n",
        "# matrice de confusion\n",
        "cnf_matrix = metrics.confusion_matrix(y_test_class, test_pred_class)\n",
        "\n",
        "plt.imshow(cnf_matrix, interpolation='nearest',cmap='Blues')\n",
        "plt.title(\"Matrice de confusion\")\n",
        "plt.colorbar()\n",
        "tick_marks = np.arange(len(classes))\n",
        "plt.xticks(tick_marks, classes)\n",
        "plt.yticks(tick_marks, classes)\n",
        "\n",
        "# texte et couleur\n",
        "for i, j in itertools.product(range(cnf_matrix.shape[0]), range(cnf_matrix.shape[1])):\n",
        "    plt.text(j, i, cnf_matrix[i, j],\n",
        "             horizontalalignment = \"center\",\n",
        "             color = \"white\" if cnf_matrix[i, j] > ( cnf_matrix.max() / 2) else \"black\")\n",
        "\n",
        "plt.ylabel('Vrais labels')\n",
        "plt.xlabel('Labels prédits')\n",
        "plt.show()\n",
        "\n"
      ],
      "execution_count": 24,
      "outputs": [
        {
          "output_type": "display_data",
          "data": {
            "image/png": "[encoded data removed]",
            "text/plain": [
              "<Figure size 432x288 with 2 Axes>"
            ]
          },
          "metadata": {
            "tags": [],
            "needs_background": "light"
          }
        }
      ]
    },
    {
      "cell_type": "code",
      "metadata": {
        "id": "Jq-Tc5NmTWXv"
      },
      "source": [
        ""
      ],
      "execution_count": null,
      "outputs": []
    },
    {
      "cell_type": "code",
      "metadata": {
        "id": "jvA5Tien8Kjg",
        "colab": {
          "base_uri": "https://localhost:8080/"
        },
        "outputId": "04b6cc27-4145-4797-bec1-5fb9789a0bf0"
      },
      "source": [
        "# show memory usage for each variable\n",
        "# https://stackoverflow.com/a/51046503\n",
        "import sys\n",
        "def sizeof_fmt(num, suffix='B'):\n",
        "    ''' by Fred Cirera,  https://stackoverflow.com/a/1094933/1870254, modified'''\n",
        "    for unit in ['','Ki','Mi','Gi','Ti','Pi','Ei','Zi']:\n",
        "        if abs(num) < 1024.0:\n",
        "            return \"%3.1f %s%s\" % (num, unit, suffix)\n",
        "        num /= 1024.0\n",
        "    return \"%.1f %s%s\" % (num, 'Yi', suffix)\n",
        "\n",
        "for name, size in sorted(((name, sys.getsizeof(value)) for name, value in locals().items()),\n",
        "                         key= lambda x: -x[1])[:10]:\n",
        "    print(\"{:>30}: {:>8}\".format(name, sizeof_fmt(size)))"
      ],
      "execution_count": 18,
      "outputs": [
        {
          "output_type": "stream",
          "text": [
            "                       X_train:  1.9 GiB\n",
            "                        X_test: 466.1 MiB\n",
            "                       y_train: 15.3 MiB\n",
            "                     test_pred: 12.7 MiB\n",
            "                        y_test:  3.6 MiB\n",
            "               test_pred_class:  3.6 MiB\n",
            "                  y_test_class:  3.6 MiB\n",
            "                id_machine_col:  1.5 MiB\n",
            "                           _i5:  2.0 KiB\n",
            "                          _i11:  1.7 KiB\n"
          ],
          "name": "stdout"
        }
      ]
    },
    {
      "cell_type": "code",
      "metadata": {
        "id": "8PkrRedvNcLQ"
      },
      "source": [
        "del X_train"
      ],
      "execution_count": 19,
      "outputs": []
    }
  ]
}