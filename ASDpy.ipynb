{
  "nbformat": 4,
  "nbformat_minor": 0,
  "metadata": {
    "colab": {
      "name": "ASDpy.ipynb",
      "provenance": [],
      "collapsed_sections": [],
      "authorship_tag": "ABX9TyOUxrsFidtO4ddpffQQdQLg",
      "include_colab_link": true
    },
    "kernelspec": {
      "name": "python3",
      "display_name": "Python 3"
    },
    "language_info": {
      "name": "python"
    }
  },
  "cells": [
    {
      "cell_type": "markdown",
      "metadata": {
        "id": "view-in-github",
        "colab_type": "text"
      },
      "source": [
        "<a href=\"https://colab.research.google.com/github/a-garnier/ASDpy/blob/antoine/ASDpy.ipynb\" target=\"_parent\"><img src=\"https://colab.research.google.com/assets/colab-badge.svg\" alt=\"Open In Colab\"/></a>"
      ]
    },
    {
      "cell_type": "code",
      "metadata": {
        "id": "sdrT513z5-lA"
      },
      "source": [
        "# Strategy:\n",
        "# STEP 1:\n",
        "#  * load training data for each machine (only normal sounds)\n",
        "#  * extract each vertical lines from spectrogram as a vector, and complete with machine ID\n",
        "#  * store these vectors in a global matrix\n",
        "#  * train a classifier which compute probability of appartenancy for each machine\n",
        "#\n",
        "# STEP 2:\n",
        "#  * do the same with validation data (normal and anomalous sounds)\n",
        "# si les données correspondent à un défaut, prendre l'oppsé de la valeur\n",
        "# calculer les proba d'appartenance de chaque son en faisant des batchs par spectrogramme\n",
        "# spectrogrammes OK : quels résultats / proportion de bons classements\n",
        "# spectrogrammes défaut : quel résultat / proportion de bons classements"
      ],
      "execution_count": 1,
      "outputs": []
    },
    {
      "cell_type": "code",
      "metadata": {
        "id": "vaebRlQwol0U"
      },
      "source": [
        "# Author : Antoine\n",
        "# First try of classification with KNN\n",
        "# use only fan data, use normal and anomalous data for training\n",
        "import pandas as pd\n",
        "import numpy as np\n",
        "import matplotlib.pyplot as plt # Pour l'affichage d'images\n",
        "\n",
        "from joblib import dump, load\n",
        "\n",
        "from sklearn import neighbors\n",
        "from sklearn.model_selection import train_test_split\n",
        "\n",
        "#import numpy as np # Pour la manipulation de tableaux\n",
        "#import pandas as pd # Pour manipuler des DataFrames pandas\n",
        "\n",
        "from matplotlib import cm # Pour importer de nouvelles cartes de couleur\n",
        "# %matplotlib inline\n",
        "\n",
        "from keras.models import Sequential # Pour construire un réseau de neurones\n",
        "from keras.layers import Dense # Pour instancier une couche dense\n",
        "from keras.utils import np_utils\n",
        "\n",
        "import itertools # Pour créer des iterateurs\n",
        "\n",
        "from sklearn import metrics # Pour évaluer les modèles"
      ],
      "execution_count": 2,
      "outputs": []
    },
    {
      "cell_type": "code",
      "metadata": {
        "colab": {
          "base_uri": "https://localhost:8080/"
        },
        "id": "Vvo0Xhn6nj68",
        "outputId": "261312f8-d780-4240-88e5-bf80ffbbc1dc"
      },
      "source": [
        "from google.colab import drive\n",
        "drive.mount('/drive')"
      ],
      "execution_count": 3,
      "outputs": [
        {
          "output_type": "stream",
          "text": [
            "Drive already mounted at /drive; to attempt to forcibly remount, call drive.mount(\"/drive\", force_remount=True).\n"
          ],
          "name": "stdout"
        }
      ]
    },
    {
      "cell_type": "code",
      "metadata": {
        "id": "5im202ZHt3r7"
      },
      "source": [
        "machines = [            # TEST DATA SIZE\n",
        "    'fan',              # (1875, 40065)\n",
        "    'pump',             # (856, 40065)\n",
        "    'slider',           # (1290, 40065)\n",
        "    'ToyCar',           # (2459, 44033)\n",
        "    'ToyConveyor',      # (3509, 40065)\n",
        "    'valve'             # (879, 40065)\n",
        "]\n",
        "\n",
        "#machines = ['verif_1', 'verif_2']\n",
        "\n",
        "sets = ['train', 'test']"
      ],
      "execution_count": 4,
      "outputs": []
    },
    {
      "cell_type": "code",
      "metadata": {
        "id": "w76n92W68NCy",
        "colab": {
          "base_uri": "https://localhost:8080/"
        },
        "outputId": "db2f3537-c228-440a-9c5f-1af6afab61f5"
      },
      "source": [
        "id_machine = 0\n",
        "height = 128\n",
        "\n",
        "# init array with expected width (equals image heigh + one for target)\n",
        "global_array = np.empty([0, height+1])\n",
        "\n",
        "set = 'train'\n",
        "\n",
        "for machine in machines:\n",
        "\n",
        "    # identifiant de la machine\n",
        "    id_machine = id_machine + 1\n",
        "\n",
        "    print(machine, '/', id_machine)\n",
        "\n",
        "    # example : '../data/fan/train_png/'\n",
        "    # working_directory = '../../data/'+machine+'/'\n",
        "    working_directory = '/drive/MyDrive/asdpy/data/'\n",
        "\n",
        "    # data file example: df_fan_train.joblib\n",
        "    # numpy ndarray\n",
        "    # dernière colonne = type de donnée, normal ou anomalie\n",
        "    data_array = load(working_directory + 'df_'+machine+'_'+set+'.joblib')\n",
        "\n",
        "    # limit data to spare RAM \n",
        "    if data_array.shape[0] > 2500:\n",
        "      data_array = data_array[:2500,:]\n",
        "\n",
        "    print(data_array.shape)\n",
        "\n",
        "    nb_images = data_array.shape[0]\n",
        "    pixels = data_array.shape[1] - 1\n",
        "    width = int(pixels/height)\n",
        "\n",
        "    #print(\"nb_images : \", nb_images)\n",
        "    #print(\"width : \", width)\n",
        "\n",
        "    loop_array = data_array[:,0:-1].reshape(height,width*nb_images).T\n",
        "\n",
        "    # vecteur aussi long que le nombre de lignes verticales\n",
        "    id_machine_col = np.ones((width*nb_images,1), dtype=np.int16)*id_machine\n",
        "\n",
        "    # colle le vecteur à droite de l'array\n",
        "    loop_array = np.append(loop_array, id_machine_col, axis=1)\n",
        "  \n",
        "    # ajoute au tableau global\n",
        "    global_array = np.append(global_array, loop_array, axis=0)\n",
        "\n",
        "    # 14 minutes pour les 4 premieres machines...\n",
        "    # 16 secondes pour 5 machines une fois optimisé\n",
        "    # 45 secondes avec les 6 jeux de train et bridage à 2500 lignes par jeu\n"
      ],
      "execution_count": 5,
      "outputs": [
        {
          "output_type": "stream",
          "text": [
            "fan / 1\n",
            "(2500, 40065)\n",
            "pump / 2\n",
            "(2500, 40065)\n",
            "slider / 3\n",
            "(2500, 40065)\n",
            "ToyCar / 4\n",
            "(2500, 44033)\n",
            "ToyConveyor / 5\n",
            "(2500, 40065)\n",
            "valve / 6\n",
            "(2500, 40065)\n"
          ],
          "name": "stdout"
        }
      ]
    },
    {
      "cell_type": "code",
      "metadata": {
        "colab": {
          "base_uri": "https://localhost:8080/"
        },
        "id": "p8yzLNo3t8lm",
        "outputId": "647a938a-f9f7-459a-83e1-67bc02db5e5a"
      },
      "source": [
        "print('global_array.shape : ')\n",
        "print(global_array.shape)\n",
        "# (3'477'913, 129)"
      ],
      "execution_count": 6,
      "outputs": [
        {
          "output_type": "stream",
          "text": [
            "global_array.shape : \n",
            "(4772500, 129)\n"
          ],
          "name": "stdout"
        }
      ]
    },
    {
      "cell_type": "code",
      "metadata": {
        "colab": {
          "base_uri": "https://localhost:8080/"
        },
        "id": "PLUI0oS3I--a",
        "outputId": "a8286ddd-24b6-4656-c642-80d1226c4c3a"
      },
      "source": [
        "print(global_array)"
      ],
      "execution_count": 7,
      "outputs": [
        {
          "output_type": "stream",
          "text": [
            "[[0.89019608 0.43529412 0.74117649 ... 0.25098041 0.79607844 1.        ]\n",
            " [0.87450981 0.47843137 0.72156864 ... 0.18431373 0.76862746 1.        ]\n",
            " [0.83137256 0.43137255 0.69411767 ... 0.2        0.69411767 1.        ]\n",
            " ...\n",
            " [0.59607846 0.78039217 0.52549022 ... 0.69411767 0.49803922 6.        ]\n",
            " [0.60000002 0.74117649 0.52549022 ... 0.68235296 0.50588238 6.        ]\n",
            " [0.53725493 0.72156864 0.58039218 ... 0.64705884 0.45882353 6.        ]]\n"
          ],
          "name": "stdout"
        }
      ]
    },
    {
      "cell_type": "code",
      "metadata": {
        "colab": {
          "base_uri": "https://localhost:8080/"
        },
        "id": "q3smwI8tuSCd",
        "outputId": "4f7752a2-7b66-4746-8eaf-30d871327db1"
      },
      "source": [
        "print(\"CREATE TRAINING DATAFRAME...\")\n",
        "\n",
        "# réduit la dimension de l'array pour les tests\n",
        "np.random.shuffle(global_array)\n",
        "data = global_array[0:1000*1000,:]\n",
        "\n",
        "df = pd.DataFrame(data)\n",
        "\n",
        "# séparation des données de la cible\n",
        "data = df.iloc[:,0:-1]\n",
        "target = df.iloc[:,-1:]\n",
        "\n",
        "print(\"SPLIT DATA...\")\n",
        "# séparation des données d'entrainement (70%) et de test (30%)\n",
        "X_train, X_test, y_train, y_test = train_test_split(data, target, test_size = 0.30, random_state=66)"
      ],
      "execution_count": 8,
      "outputs": [
        {
          "output_type": "stream",
          "text": [
            "CREATE TRAINING DATAFRAME...\n",
            "SPLIT DATA...\n"
          ],
          "name": "stdout"
        }
      ]
    },
    {
      "cell_type": "code",
      "metadata": {
        "colab": {
          "base_uri": "https://localhost:8080/"
        },
        "id": "5rlEh_bN5Gss",
        "outputId": "21dc3f82-45c7-4457-acb6-7ebbafe476b9"
      },
      "source": [
        "target.value_counts()"
      ],
      "execution_count": 9,
      "outputs": [
        {
          "output_type": "execute_result",
          "data": {
            "text/plain": [
              "128\n",
              "4.0    180150\n",
              "6.0    164424\n",
              "1.0    164320\n",
              "2.0    164022\n",
              "5.0    163661\n",
              "3.0    163423\n",
              "dtype: int64"
            ]
          },
          "metadata": {
            "tags": []
          },
          "execution_count": 9
        }
      ]
    },
    {
      "cell_type": "code",
      "metadata": {
        "colab": {
          "base_uri": "https://localhost:8080/"
        },
        "id": "VmPHJ-3Ww4Kw",
        "outputId": "77440d78-1fae-4634-d512-bef061ba1bfa"
      },
      "source": [
        "y_train = np_utils.to_categorical(y_train, dtype = 'int')\n",
        "y_test = np_utils.to_categorical(y_test, dtype = 'int')\n",
        "\n",
        "print(\"y_test.shape\")\n",
        "print(y_test.shape)\n",
        "\n",
        "num_pixels = X_train.shape[1]\n",
        "num_classes = y_test.shape[1]\n",
        "\n",
        "print(\"num_classes : \", num_classes)"
      ],
      "execution_count": 10,
      "outputs": [
        {
          "output_type": "stream",
          "text": [
            "y_test.shape\n",
            "(300000, 7)\n",
            "num_classes :  7\n"
          ],
          "name": "stdout"
        }
      ]
    },
    {
      "cell_type": "code",
      "metadata": {
        "colab": {
          "base_uri": "https://localhost:8080/"
        },
        "id": "iUMbDtI3pQEW",
        "outputId": "8f789883-ed8a-45ef-a7af-cb183d592ac3"
      },
      "source": [
        "# 50 units 50 epoch 700k train sample => 5 min\n",
        "\n",
        "units = 50\n",
        "epochs = 50\n",
        "\n",
        "# Étape 1 : Instancier un modèle avec le constructeur Sequential\n",
        "model = Sequential()\n",
        "\n",
        "# Étape 2 : Instancier les couches qui composeront le modèle avec leur constructeur\n",
        "first_layer = Dense(units=units,                # nombre de neurones\n",
        "                    activation='tanh',          # fonction d'activation\n",
        "                    input_dim=num_pixels,       # dimension du vecteur d'entrée\n",
        "                    kernel_initializer=\"normal\" # vecteur de poids de cette couche initialisés aléatoirement selon la loi normale\n",
        "            )\n",
        "\n",
        "# Étape 3 : Ajouter les couches au modèle grâce\n",
        "second_layer = Dense(units=num_classes,          # nombre de neurones de sortie égal au nombre de classes\n",
        "                     activation='softmax',       # fonction d'activation\n",
        "                     #input_dim=20,               # dimension du vecteur d'entrée égale à la sortie de la couche précédente\n",
        "                     kernel_initializer=\"normal\" # vecteur de poids de cette couche initialisés aléatoirement selon la loi normale\n",
        "            )\n",
        "\n",
        "# Ajout des couches aux modèle\n",
        "model.add(first_layer)\n",
        "model.add(second_layer)\n",
        "\n",
        "model.compile(loss='categorical_crossentropy',  # fonction de perte\n",
        "              optimizer='adam',                 # algorithme d'optimisation\n",
        "              metrics=['accuracy'])             # métrique d'évaluation\n",
        "\n",
        "\n",
        "training_history = model.fit(X_train, y_train, epochs=epochs, batch_size=200, validation_split=0.2)\n",
        "\n",
        "train_acc = training_history.history['accuracy']\n",
        "val_acc = training_history.history['val_accuracy']\n",
        "\n"
      ],
      "execution_count": 11,
      "outputs": [
        {
          "output_type": "stream",
          "text": [
            "Epoch 1/50\n",
            "2800/2800 [==============================] - 20s 2ms/step - loss: 1.1551 - accuracy: 0.6058 - val_loss: 0.4449 - val_accuracy: 0.8328\n",
            "Epoch 2/50\n",
            "2800/2800 [==============================] - 6s 2ms/step - loss: 0.4300 - accuracy: 0.8359 - val_loss: 0.3991 - val_accuracy: 0.8462\n",
            "Epoch 3/50\n",
            "2800/2800 [==============================] - 6s 2ms/step - loss: 0.3886 - accuracy: 0.8505 - val_loss: 0.3793 - val_accuracy: 0.8499\n",
            "Epoch 4/50\n",
            "2800/2800 [==============================] - 6s 2ms/step - loss: 0.3561 - accuracy: 0.8625 - val_loss: 0.3339 - val_accuracy: 0.8714\n",
            "Epoch 5/50\n",
            "2800/2800 [==============================] - 6s 2ms/step - loss: 0.3183 - accuracy: 0.8794 - val_loss: 0.2930 - val_accuracy: 0.8915\n",
            "Epoch 6/50\n",
            "2800/2800 [==============================] - 6s 2ms/step - loss: 0.2827 - accuracy: 0.8944 - val_loss: 0.2640 - val_accuracy: 0.9016\n",
            "Epoch 7/50\n",
            "2800/2800 [==============================] - 6s 2ms/step - loss: 0.2530 - accuracy: 0.9063 - val_loss: 0.2395 - val_accuracy: 0.9111\n",
            "Epoch 8/50\n",
            "2800/2800 [==============================] - 6s 2ms/step - loss: 0.2299 - accuracy: 0.9150 - val_loss: 0.2186 - val_accuracy: 0.9196\n",
            "Epoch 9/50\n",
            "2800/2800 [==============================] - 6s 2ms/step - loss: 0.2105 - accuracy: 0.9230 - val_loss: 0.2112 - val_accuracy: 0.9228\n",
            "Epoch 10/50\n",
            "2800/2800 [==============================] - 6s 2ms/step - loss: 0.1954 - accuracy: 0.9285 - val_loss: 0.1841 - val_accuracy: 0.9335\n",
            "Epoch 11/50\n",
            "2800/2800 [==============================] - 6s 2ms/step - loss: 0.1787 - accuracy: 0.9357 - val_loss: 0.1817 - val_accuracy: 0.9336\n",
            "Epoch 12/50\n",
            "2800/2800 [==============================] - 6s 2ms/step - loss: 0.1644 - accuracy: 0.9409 - val_loss: 0.1549 - val_accuracy: 0.9442\n",
            "Epoch 13/50\n",
            "2800/2800 [==============================] - 6s 2ms/step - loss: 0.1510 - accuracy: 0.9468 - val_loss: 0.1480 - val_accuracy: 0.9466\n",
            "Epoch 14/50\n",
            "2800/2800 [==============================] - 6s 2ms/step - loss: 0.1370 - accuracy: 0.9517 - val_loss: 0.1414 - val_accuracy: 0.9497\n",
            "Epoch 15/50\n",
            "2800/2800 [==============================] - 6s 2ms/step - loss: 0.1275 - accuracy: 0.9557 - val_loss: 0.1174 - val_accuracy: 0.9597\n",
            "Epoch 16/50\n",
            "2800/2800 [==============================] - 6s 2ms/step - loss: 0.1171 - accuracy: 0.9591 - val_loss: 0.1195 - val_accuracy: 0.9586\n",
            "Epoch 17/50\n",
            "2800/2800 [==============================] - 6s 2ms/step - loss: 0.1082 - accuracy: 0.9630 - val_loss: 0.1050 - val_accuracy: 0.9643\n",
            "Epoch 18/50\n",
            "2800/2800 [==============================] - 6s 2ms/step - loss: 0.1016 - accuracy: 0.9652 - val_loss: 0.1004 - val_accuracy: 0.9656\n",
            "Epoch 19/50\n",
            "2800/2800 [==============================] - 6s 2ms/step - loss: 0.0960 - accuracy: 0.9666 - val_loss: 0.0883 - val_accuracy: 0.9697\n",
            "Epoch 20/50\n",
            "2800/2800 [==============================] - 6s 2ms/step - loss: 0.0907 - accuracy: 0.9689 - val_loss: 0.0900 - val_accuracy: 0.9689\n",
            "Epoch 21/50\n",
            "2800/2800 [==============================] - 6s 2ms/step - loss: 0.0857 - accuracy: 0.9705 - val_loss: 0.0810 - val_accuracy: 0.9725\n",
            "Epoch 22/50\n",
            "2800/2800 [==============================] - 6s 2ms/step - loss: 0.0807 - accuracy: 0.9721 - val_loss: 0.0958 - val_accuracy: 0.9661\n",
            "Epoch 23/50\n",
            "2800/2800 [==============================] - 6s 2ms/step - loss: 0.0799 - accuracy: 0.9726 - val_loss: 0.0760 - val_accuracy: 0.9740\n",
            "Epoch 24/50\n",
            "2800/2800 [==============================] - 6s 2ms/step - loss: 0.0749 - accuracy: 0.9741 - val_loss: 0.0805 - val_accuracy: 0.9720\n",
            "Epoch 25/50\n",
            "2800/2800 [==============================] - 6s 2ms/step - loss: 0.0718 - accuracy: 0.9751 - val_loss: 0.0734 - val_accuracy: 0.9742\n",
            "Epoch 26/50\n",
            "2800/2800 [==============================] - 6s 2ms/step - loss: 0.0695 - accuracy: 0.9759 - val_loss: 0.0706 - val_accuracy: 0.9759\n",
            "Epoch 27/50\n",
            "2800/2800 [==============================] - 6s 2ms/step - loss: 0.0678 - accuracy: 0.9766 - val_loss: 0.0687 - val_accuracy: 0.9761\n",
            "Epoch 28/50\n",
            "2800/2800 [==============================] - 6s 2ms/step - loss: 0.0664 - accuracy: 0.9770 - val_loss: 0.0650 - val_accuracy: 0.9776\n",
            "Epoch 29/50\n",
            "2800/2800 [==============================] - 6s 2ms/step - loss: 0.0637 - accuracy: 0.9780 - val_loss: 0.0797 - val_accuracy: 0.9709\n",
            "Epoch 30/50\n",
            "2800/2800 [==============================] - 6s 2ms/step - loss: 0.0614 - accuracy: 0.9787 - val_loss: 0.0644 - val_accuracy: 0.9771\n",
            "Epoch 31/50\n",
            "2800/2800 [==============================] - 6s 2ms/step - loss: 0.0600 - accuracy: 0.9791 - val_loss: 0.0655 - val_accuracy: 0.9764\n",
            "Epoch 32/50\n",
            "2800/2800 [==============================] - 6s 2ms/step - loss: 0.0586 - accuracy: 0.9795 - val_loss: 0.0706 - val_accuracy: 0.9751\n",
            "Epoch 33/50\n",
            "2800/2800 [==============================] - 6s 2ms/step - loss: 0.0570 - accuracy: 0.9804 - val_loss: 0.0578 - val_accuracy: 0.9798\n",
            "Epoch 34/50\n",
            "2800/2800 [==============================] - 6s 2ms/step - loss: 0.0564 - accuracy: 0.9807 - val_loss: 0.0571 - val_accuracy: 0.9803\n",
            "Epoch 35/50\n",
            "2800/2800 [==============================] - 6s 2ms/step - loss: 0.0536 - accuracy: 0.9815 - val_loss: 0.0565 - val_accuracy: 0.9802\n",
            "Epoch 36/50\n",
            "2800/2800 [==============================] - 6s 2ms/step - loss: 0.0534 - accuracy: 0.9812 - val_loss: 0.0511 - val_accuracy: 0.9826\n",
            "Epoch 37/50\n",
            "2800/2800 [==============================] - 6s 2ms/step - loss: 0.0527 - accuracy: 0.9814 - val_loss: 0.0543 - val_accuracy: 0.9810\n",
            "Epoch 38/50\n",
            "2800/2800 [==============================] - 6s 2ms/step - loss: 0.0512 - accuracy: 0.9822 - val_loss: 0.0503 - val_accuracy: 0.9827\n",
            "Epoch 39/50\n",
            "2800/2800 [==============================] - 6s 2ms/step - loss: 0.0503 - accuracy: 0.9822 - val_loss: 0.0545 - val_accuracy: 0.9803\n",
            "Epoch 40/50\n",
            "2800/2800 [==============================] - 6s 2ms/step - loss: 0.0496 - accuracy: 0.9825 - val_loss: 0.0519 - val_accuracy: 0.9818\n",
            "Epoch 41/50\n",
            "2800/2800 [==============================] - 6s 2ms/step - loss: 0.0487 - accuracy: 0.9829 - val_loss: 0.0537 - val_accuracy: 0.9815\n",
            "Epoch 42/50\n",
            "2800/2800 [==============================] - 6s 2ms/step - loss: 0.0483 - accuracy: 0.9831 - val_loss: 0.0467 - val_accuracy: 0.9840\n",
            "Epoch 43/50\n",
            "2800/2800 [==============================] - 6s 2ms/step - loss: 0.0470 - accuracy: 0.9834 - val_loss: 0.0483 - val_accuracy: 0.9830\n",
            "Epoch 44/50\n",
            "2800/2800 [==============================] - 6s 2ms/step - loss: 0.0460 - accuracy: 0.9836 - val_loss: 0.0484 - val_accuracy: 0.9833\n",
            "Epoch 45/50\n",
            "2800/2800 [==============================] - 6s 2ms/step - loss: 0.0457 - accuracy: 0.9840 - val_loss: 0.0469 - val_accuracy: 0.9833\n",
            "Epoch 46/50\n",
            "2800/2800 [==============================] - 6s 2ms/step - loss: 0.0458 - accuracy: 0.9840 - val_loss: 0.0476 - val_accuracy: 0.9831\n",
            "Epoch 47/50\n",
            "2800/2800 [==============================] - 6s 2ms/step - loss: 0.0442 - accuracy: 0.9844 - val_loss: 0.0477 - val_accuracy: 0.9831\n",
            "Epoch 48/50\n",
            "2800/2800 [==============================] - 6s 2ms/step - loss: 0.0446 - accuracy: 0.9844 - val_loss: 0.0431 - val_accuracy: 0.9852\n",
            "Epoch 49/50\n",
            "2800/2800 [==============================] - 6s 2ms/step - loss: 0.0442 - accuracy: 0.9845 - val_loss: 0.0440 - val_accuracy: 0.9848\n",
            "Epoch 50/50\n",
            "2800/2800 [==============================] - 6s 2ms/step - loss: 0.0439 - accuracy: 0.9845 - val_loss: 0.0541 - val_accuracy: 0.9810\n"
          ],
          "name": "stdout"
        }
      ]
    },
    {
      "cell_type": "code",
      "metadata": {
        "colab": {
          "base_uri": "https://localhost:8080/",
          "height": 279
        },
        "id": "0o_MapENxROv",
        "outputId": "6bf0a017-c745-4c54-e7dd-fd6056635ee1"
      },
      "source": [
        "plt.plot(np.arange(1 , len(train_acc)+1, 1), train_acc, label=\"train_acc\")\n",
        "plt.plot(np.arange(1 , len(train_acc)+1, 1), val_acc, label=\"val_acc\")\n",
        "\n",
        "plt.legend()\n",
        "plt.xlabel('Epochs')\n",
        "plt.ylabel('Accuracy')\n",
        "plt.show()"
      ],
      "execution_count": 12,
      "outputs": [
        {
          "output_type": "display_data",
          "data": {
            "image/png": "[encoded data removed]",
            "text/plain": [
              "<Figure size 432x288 with 1 Axes>"
            ]
          },
          "metadata": {
            "tags": [],
            "needs_background": "light"
          }
        }
      ]
    },
    {
      "cell_type": "code",
      "metadata": {
        "colab": {
          "base_uri": "https://localhost:8080/"
        },
        "id": "OHOJ4C9xxWQH",
        "outputId": "aa681ab9-d076-406a-baf0-dd83a20cfd9f"
      },
      "source": [
        "# prédiction des données\n",
        "# about 40 seconds\n",
        "test_pred = model.predict(X_test)\n",
        "\n",
        "# score du modèle\n",
        "score = model.evaluate(X_test, y_test)\n",
        "print(score)\n",
        "\n",
        "# Prediction de l'échantillon de test\n",
        "test_pred = model.predict(X_test)\n",
        "\n",
        "test_pred_class = np.argmax(test_pred, axis=1)\n",
        "y_test_class = np.argmax(y_test, axis=1)\n",
        "\n",
        "print(\"Performances du modele :\")\n",
        "print(metrics.classification_report(y_test_class, test_pred_class))"
      ],
      "execution_count": 13,
      "outputs": [
        {
          "output_type": "stream",
          "text": [
            "9375/9375 [==============================] - 15s 2ms/step - loss: 0.0524 - accuracy: 0.9809\n",
            "[0.05235668271780014, 0.9809333086013794]\n",
            "Performances du modele :\n",
            "              precision    recall  f1-score   support\n",
            "\n",
            "           1       0.99      0.98      0.99     49231\n",
            "           2       0.96      0.99      0.98     49302\n",
            "           3       0.98      0.99      0.98     49147\n",
            "           4       1.00      0.98      0.99     54062\n",
            "           5       0.97      0.99      0.98     49228\n",
            "           6       1.00      0.95      0.97     49030\n",
            "\n",
            "    accuracy                           0.98    300000\n",
            "   macro avg       0.98      0.98      0.98    300000\n",
            "weighted avg       0.98      0.98      0.98    300000\n",
            "\n"
          ],
          "name": "stdout"
        }
      ]
    },
    {
      "cell_type": "code",
      "metadata": {
        "colab": {
          "base_uri": "https://localhost:8080/",
          "height": 296
        },
        "id": "ECXUJKPC7z3B",
        "outputId": "28b8c898-6f45-443e-bec6-1580b57cde8f"
      },
      "source": [
        "# affiche la matrice de confusion sous forme de tableau coloré\n",
        "classes = range(0,num_classes)\n",
        "\n",
        "plt.figure()\n",
        "\n",
        "# matrice de confusion\n",
        "cnf_matrix = metrics.confusion_matrix(y_test_class, test_pred_class)\n",
        "\n",
        "plt.imshow(cnf_matrix, interpolation='nearest',cmap='Blues')\n",
        "plt.title(\"Matrice de confusion\")\n",
        "plt.colorbar()\n",
        "tick_marks = np.arange(len(classes))\n",
        "plt.xticks(tick_marks, classes)\n",
        "plt.yticks(tick_marks, classes)\n",
        "\n",
        "# texte et couleur\n",
        "for i, j in itertools.product(range(cnf_matrix.shape[0]), range(cnf_matrix.shape[1])):\n",
        "    plt.text(j, i, cnf_matrix[i, j],\n",
        "             horizontalalignment = \"center\",\n",
        "             color = \"white\" if cnf_matrix[i, j] > ( cnf_matrix.max() / 2) else \"black\")\n",
        "\n",
        "plt.ylabel('Vrais labels')\n",
        "plt.xlabel('Labels prédits')\n",
        "plt.show()\n",
        "\n"
      ],
      "execution_count": 14,
      "outputs": [
        {
          "output_type": "display_data",
          "data": {
            "image/png": "[encoded data removed]",
            "text/plain": [
              "<Figure size 432x288 with 2 Axes>"
            ]
          },
          "metadata": {
            "tags": [],
            "needs_background": "light"
          }
        }
      ]
    },
    {
      "cell_type": "code",
      "metadata": {
        "id": "jvA5Tien8Kjg"
      },
      "source": [
        ""
      ],
      "execution_count": 14,
      "outputs": []
    }
  ]
}