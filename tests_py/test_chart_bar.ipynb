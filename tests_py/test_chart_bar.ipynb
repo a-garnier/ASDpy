{
 "cells": [
  {
   "cell_type": "markdown",
   "metadata": {},
   "source": [
    "test pour faire le chart bar voulu"
   ]
  },
  {
   "cell_type": "code",
   "execution_count": 1,
   "metadata": {},
   "outputs": [],
   "source": [
    "import numpy as np\n",
    "import pandas as pd\n",
    "from os import listdir\n",
    "from os.path import isfile, join\n",
    "import seaborn as sns # https://s3.amazonaws.com/assets.datacamp.com/blog_assets/Python_Seaborn_Cheat_Sheet.pdf\n",
    "import matplotlib.pyplot as plt\n",
    "\n"
   ]
  },
  {
   "cell_type": "code",
   "execution_count": 20,
   "metadata": {},
   "outputs": [],
   "source": [
    "name_csv_logs = '../_final/cnn1/cnn_results.csv' \n",
    "cutoff = 0.9 # if score > cutoff, the machine predicted as \"normal\" otherwise as \"anomaly\"\n",
    "df_logs = pd.read_csv(name_csv_logs)\n",
    "df_filtre = df_logs[df_logs['machine'] == 'slider']\n",
    "df_filtre = df_filtre.sort_values(by = ['score'], ascending = False)\n",
    "# df_filtre['pred_n'] = df_filtre['score'].apply(lambda sc: sc > cutoff ) \n",
    "df_filtre['pred_n'] =  df_filtre['correctPrediction'].apply(lambda pred: 1 if pred == 'OK' else 0.95 ) \n",
    "df_filtre['pred_f'] =  df_filtre['file'].apply(lambda x: x.split('_')[0]) \n",
    "df_filtre['pred_r'] =  np.random.rand(df_filtre.shape[0])\n",
    "df_filtre['pred_1'] =  1"
   ]
  },
  {
   "cell_type": "code",
   "execution_count": 21,
   "metadata": {},
   "outputs": [
    {
     "data": {
      "text/html": [
       "<div>\n",
       "<style scoped>\n",
       "    .dataframe tbody tr th:only-of-type {\n",
       "        vertical-align: middle;\n",
       "    }\n",
       "\n",
       "    .dataframe tbody tr th {\n",
       "        vertical-align: top;\n",
       "    }\n",
       "\n",
       "    .dataframe thead th {\n",
       "        text-align: right;\n",
       "    }\n",
       "</style>\n",
       "<table border=\"1\" class=\"dataframe\">\n",
       "  <thead>\n",
       "    <tr style=\"text-align: right;\">\n",
       "      <th></th>\n",
       "      <th>machine</th>\n",
       "      <th>file</th>\n",
       "      <th>correctPrediction</th>\n",
       "      <th>score</th>\n",
       "      <th>pred_n</th>\n",
       "      <th>pred_f</th>\n",
       "      <th>pred_r</th>\n",
       "      <th>pred_1</th>\n",
       "    </tr>\n",
       "  </thead>\n",
       "  <tbody>\n",
       "    <tr>\n",
       "      <th>0</th>\n",
       "      <td>slider</td>\n",
       "      <td>normal_id_04_00000013_.png</td>\n",
       "      <td>OK</td>\n",
       "      <td>0.999998</td>\n",
       "      <td>1.0</td>\n",
       "      <td>normal</td>\n",
       "      <td>0.612432</td>\n",
       "      <td>1</td>\n",
       "    </tr>\n",
       "    <tr>\n",
       "      <th>1</th>\n",
       "      <td>slider</td>\n",
       "      <td>normal_id_06_00000009_.png</td>\n",
       "      <td>OK</td>\n",
       "      <td>0.999997</td>\n",
       "      <td>1.0</td>\n",
       "      <td>normal</td>\n",
       "      <td>0.936521</td>\n",
       "      <td>1</td>\n",
       "    </tr>\n",
       "    <tr>\n",
       "      <th>2</th>\n",
       "      <td>slider</td>\n",
       "      <td>normal_id_04_00000065_.png</td>\n",
       "      <td>OK</td>\n",
       "      <td>0.999995</td>\n",
       "      <td>1.0</td>\n",
       "      <td>normal</td>\n",
       "      <td>0.010755</td>\n",
       "      <td>1</td>\n",
       "    </tr>\n",
       "    <tr>\n",
       "      <th>3</th>\n",
       "      <td>slider</td>\n",
       "      <td>normal_id_04_00000019_.png</td>\n",
       "      <td>OK</td>\n",
       "      <td>0.999991</td>\n",
       "      <td>1.0</td>\n",
       "      <td>normal</td>\n",
       "      <td>0.465660</td>\n",
       "      <td>1</td>\n",
       "    </tr>\n",
       "    <tr>\n",
       "      <th>4</th>\n",
       "      <td>slider</td>\n",
       "      <td>normal_id_06_00000035_.png</td>\n",
       "      <td>OK</td>\n",
       "      <td>0.999988</td>\n",
       "      <td>1.0</td>\n",
       "      <td>normal</td>\n",
       "      <td>0.676164</td>\n",
       "      <td>1</td>\n",
       "    </tr>\n",
       "  </tbody>\n",
       "</table>\n",
       "</div>"
      ],
      "text/plain": [
       "  machine                        file correctPrediction     score  pred_n  \\\n",
       "0  slider  normal_id_04_00000013_.png                OK  0.999998     1.0   \n",
       "1  slider  normal_id_06_00000009_.png                OK  0.999997     1.0   \n",
       "2  slider  normal_id_04_00000065_.png                OK  0.999995     1.0   \n",
       "3  slider  normal_id_04_00000019_.png                OK  0.999991     1.0   \n",
       "4  slider  normal_id_06_00000035_.png                OK  0.999988     1.0   \n",
       "\n",
       "   pred_f    pred_r  pred_1  \n",
       "0  normal  0.612432       1  \n",
       "1  normal  0.936521       1  \n",
       "2  normal  0.010755       1  \n",
       "3  normal  0.465660       1  \n",
       "4  normal  0.676164       1  "
      ]
     },
     "execution_count": 21,
     "metadata": {},
     "output_type": "execute_result"
    }
   ],
   "source": [
    "df_filtre.head()\n",
    "\n",
    "# df_filtre.info()"
   ]
  },
  {
   "cell_type": "code",
   "execution_count": 58,
   "metadata": {},
   "outputs": [
    {
     "data": {
      "text/plain": [
       "<AxesSubplot:xlabel='score', ylabel='Count'>"
      ]
     },
     "execution_count": 58,
     "metadata": {},
     "output_type": "execute_result"
    },
    {
     "data": {
      "image/png": "[encoded data removed]",
      "text/plain": [
       "<Figure size 432x288 with 1 Axes>"
      ]
     },
     "metadata": {
      "needs_background": "light"
     },
     "output_type": "display_data"
    }
   ],
   "source": [
    "# g = sns.relplot(data=df_filtre, \n",
    "#                 x=\"score\", y=\"pred_n\", hue=\"correctPrediction\", \n",
    "#                 height=6, aspect=2, s=90)\n",
    "\n",
    "# plt.setp(g._legend.get_title(), fontsize=20)\n",
    "# g._legend.set_bbox_to_anchor((.5, .9))\n",
    "# g.set(ylim=(0.9, 1.05))\n",
    "\n",
    "g = sns.histplot(df_filtre, x=\"score\", hue='correctPrediction')\n",
    "g.set(xlim=(-0.05,1.05), \n",
    "    #   ylim=(0,1.05),\n",
    "      xticks=np.arange(0, 1.1, 0.1), \n",
    "    #   yticks=np.arange(0, 1.1, 0.1)\n",
    "      )"
   ]
  },
  {
   "cell_type": "code",
   "execution_count": 56,
   "metadata": {},
   "outputs": [
    {
     "data": {
      "text/plain": [
       "[<matplotlib.lines.Line2D at 0x7ff650c1a7f0>]"
      ]
     },
     "execution_count": 56,
     "metadata": {},
     "output_type": "execute_result"
    },
    {
     "data": {
      "image/png": "[encoded data removed]",
      "text/plain": [
       "<Figure size 943x432 with 1 Axes>"
      ]
     },
     "metadata": {
      "needs_background": "light"
     },
     "output_type": "display_data"
    }
   ],
   "source": [
    "g = sns.relplot(data=df_filtre, \n",
    "                x=\"score\", y=\"pred_r\", hue=\"pred_f\", \n",
    "                height=6, aspect=2, s=90)\n",
    "g._legend.set_bbox_to_anchor((.5, .9))\n",
    "g.set(xlim=(-0.05,1.05), \n",
    "      ylim=(0,1.05),\n",
    "      xticks=np.arange(0, 1.1, 0.1), \n",
    "      yticks=np.arange(0, 1.1, 0.1))\n",
    "plt.plot([0.9, 0.9], [1, 0], 'r--', linewidth=1)"
   ]
  },
  {
   "cell_type": "code",
   "execution_count": 17,
   "metadata": {},
   "outputs": [
    {
     "data": {
      "text/html": [
       "<div>\n",
       "<style scoped>\n",
       "    .dataframe tbody tr th:only-of-type {\n",
       "        vertical-align: middle;\n",
       "    }\n",
       "\n",
       "    .dataframe tbody tr th {\n",
       "        vertical-align: top;\n",
       "    }\n",
       "\n",
       "    .dataframe thead th {\n",
       "        text-align: right;\n",
       "    }\n",
       "</style>\n",
       "<table border=\"1\" class=\"dataframe\">\n",
       "  <thead>\n",
       "    <tr style=\"text-align: right;\">\n",
       "      <th></th>\n",
       "      <th>date</th>\n",
       "      <th>region</th>\n",
       "      <th>revenue</th>\n",
       "    </tr>\n",
       "  </thead>\n",
       "  <tbody>\n",
       "    <tr>\n",
       "      <th>0</th>\n",
       "      <td>1999-01-01</td>\n",
       "      <td>AMER</td>\n",
       "      <td>650.098835</td>\n",
       "    </tr>\n",
       "    <tr>\n",
       "      <th>1</th>\n",
       "      <td>1999-01-01</td>\n",
       "      <td>AMER</td>\n",
       "      <td>519.729759</td>\n",
       "    </tr>\n",
       "    <tr>\n",
       "      <th>2</th>\n",
       "      <td>1999-01-01</td>\n",
       "      <td>AMER</td>\n",
       "      <td>920.096388</td>\n",
       "    </tr>\n",
       "    <tr>\n",
       "      <th>3</th>\n",
       "      <td>1999-01-01</td>\n",
       "      <td>AMER</td>\n",
       "      <td>550.643257</td>\n",
       "    </tr>\n",
       "    <tr>\n",
       "      <th>4</th>\n",
       "      <td>1999-01-01</td>\n",
       "      <td>EMEA</td>\n",
       "      <td>56.305622</td>\n",
       "    </tr>\n",
       "    <tr>\n",
       "      <th>5</th>\n",
       "      <td>1999-01-01</td>\n",
       "      <td>EMEA</td>\n",
       "      <td>107.520797</td>\n",
       "    </tr>\n",
       "    <tr>\n",
       "      <th>6</th>\n",
       "      <td>1999-01-02</td>\n",
       "      <td>AMER</td>\n",
       "      <td>759.057883</td>\n",
       "    </tr>\n",
       "    <tr>\n",
       "      <th>7</th>\n",
       "      <td>1999-01-02</td>\n",
       "      <td>AMER</td>\n",
       "      <td>1002.693327</td>\n",
       "    </tr>\n",
       "    <tr>\n",
       "      <th>8</th>\n",
       "      <td>1999-01-03</td>\n",
       "      <td>AMER</td>\n",
       "      <td>673.055821</td>\n",
       "    </tr>\n",
       "    <tr>\n",
       "      <th>9</th>\n",
       "      <td>1999-01-03</td>\n",
       "      <td>AMER</td>\n",
       "      <td>797.473896</td>\n",
       "    </tr>\n",
       "  </tbody>\n",
       "</table>\n",
       "</div>"
      ],
      "text/plain": [
       "         date region      revenue\n",
       "0  1999-01-01   AMER   650.098835\n",
       "1  1999-01-01   AMER   519.729759\n",
       "2  1999-01-01   AMER   920.096388\n",
       "3  1999-01-01   AMER   550.643257\n",
       "4  1999-01-01   EMEA    56.305622\n",
       "5  1999-01-01   EMEA   107.520797\n",
       "6  1999-01-02   AMER   759.057883\n",
       "7  1999-01-02   AMER  1002.693327\n",
       "8  1999-01-03   AMER   673.055821\n",
       "9  1999-01-03   AMER   797.473896"
      ]
     },
     "execution_count": 17,
     "metadata": {},
     "output_type": "execute_result"
    }
   ],
   "source": [
    "df = pd.read_csv(\"https://jbencook.s3.amazonaws.com/data/dummy-sales-large.csv\")\n",
    "df.head(10)\n"
   ]
  },
  {
   "cell_type": "code",
   "execution_count": 19,
   "metadata": {},
   "outputs": [
    {
     "data": {
      "text/plain": [
       "<AxesSubplot:xlabel='revenue', ylabel='Count'>"
      ]
     },
     "execution_count": 19,
     "metadata": {},
     "output_type": "execute_result"
    },
    {
     "data": {
      "image/png": "[encoded data removed]",
      "text/plain": [
       "<Figure size 432x288 with 1 Axes>"
      ]
     },
     "metadata": {
      "needs_background": "light"
     },
     "output_type": "display_data"
    }
   ],
   "source": [
    "# Plot the histogram\n",
    "sns.histplot(df, x=\"revenue\", hue='region')"
   ]
  }
 ],
 "metadata": {
  "interpreter": {
   "hash": "aee8b7b246df8f9039afb4144a1f6fd8d2ca17a180786b69acc140d282b71a49"
  },
  "kernelspec": {
   "display_name": "Python 3.9.2 64-bit",
   "language": "python",
   "name": "python3"
  },
  "language_info": {
   "codemirror_mode": {
    "name": "ipython",
    "version": 3
   },
   "file_extension": ".py",
   "mimetype": "text/x-python",
   "name": "python",
   "nbconvert_exporter": "python",
   "pygments_lexer": "ipython3",
   "version": "3.8.5"
  },
  "orig_nbformat": 4
 },
 "nbformat": 4,
 "nbformat_minor": 2
}
