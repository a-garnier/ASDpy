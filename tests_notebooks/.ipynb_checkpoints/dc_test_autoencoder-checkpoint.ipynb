{
 "cells": [
  {
   "cell_type": "markdown",
   "metadata": {},
   "source": [
    "test autoncoder sur images avec bruit - https://blog.keras.io/building-autoencoders-in-keras.html"
   ]
  },
  {
   "cell_type": "code",
   "execution_count": 1,
   "metadata": {},
   "outputs": [
    {
     "name": "stdout",
     "output_type": "stream",
     "text": [
      "Downloading data from https://storage.googleapis.com/tensorflow/tf-keras-datasets/mnist.npz\n",
      "11493376/11490434 [==============================] - 23s 2us/step\n",
      "11501568/11490434 [==============================] - 23s 2us/step\n"
     ]
    }
   ],
   "source": [
    "# genere des images avec bruit à partir di jeu mnist\n",
    "from keras.datasets import mnist\n",
    "import numpy as np\n",
    "\n",
    "(x_train, _), (x_test, _) = mnist.load_data()\n",
    "\n",
    "x_train = x_train.astype('float32') / 255.\n",
    "x_test = x_test.astype('float32') / 255.\n",
    "x_train = np.reshape(x_train, (len(x_train), 28, 28, 1))\n",
    "x_test = np.reshape(x_test, (len(x_test), 28, 28, 1))\n",
    "\n",
    "noise_factor = 0.5\n",
    "x_train_noisy = x_train + noise_factor * np.random.normal(loc=0.0, scale=1.0, size=x_train.shape) \n",
    "x_test_noisy = x_test + noise_factor * np.random.normal(loc=0.0, scale=1.0, size=x_test.shape) \n",
    "\n",
    "x_train_noisy = np.clip(x_train_noisy, 0., 1.)\n",
    "x_test_noisy = np.clip(x_test_noisy, 0., 1.)\n"
   ]
  },
  {
   "cell_type": "code",
   "execution_count": 3,
   "metadata": {},
   "outputs": [
    {
     "data": {
      "image/png": "[encoded data removed]",
      "text/plain": [
       "<Figure size 1440x144 with 10 Axes>"
      ]
     },
     "metadata": {
      "needs_background": "light"
     },
     "output_type": "display_data"
    }
   ],
   "source": [
    "# affiche les images avec bruit \n",
    "import matplotlib.pyplot as plt\n",
    "\n",
    "n = 10\n",
    "plt.figure(figsize=(20, 2))\n",
    "for i in range(1, n + 1):\n",
    "    ax = plt.subplot(1, n, i)\n",
    "    plt.imshow(x_test_noisy[i].reshape(28, 28))\n",
    "    plt.gray()\n",
    "    ax.get_xaxis().set_visible(False)\n",
    "    ax.get_yaxis().set_visible(False)\n",
    "plt.show()\n"
   ]
  },
  {
   "cell_type": "code",
   "execution_count": 6,
   "metadata": {},
   "outputs": [
    {
     "name": "stdout",
     "output_type": "stream",
     "text": [
      "Epoch 1/100\n",
      "469/469 [==============================] - 71s 134ms/step - loss: 0.2530 - val_loss: 0.1165\n",
      "Epoch 2/100\n",
      "469/469 [==============================] - 58s 124ms/step - loss: 0.1153 - val_loss: 0.1090\n",
      "Epoch 3/100\n",
      "469/469 [==============================] - 63s 135ms/step - loss: 0.1089 - val_loss: 0.1054\n",
      "Epoch 4/100\n",
      "469/469 [==============================] - 66s 141ms/step - loss: 0.1055 - val_loss: 0.1034\n",
      "Epoch 5/100\n",
      "469/469 [==============================] - 66s 141ms/step - loss: 0.1034 - val_loss: 0.1015\n",
      "Epoch 6/100\n",
      "469/469 [==============================] - 67s 143ms/step - loss: 0.1019 - val_loss: 0.0999\n",
      "Epoch 7/100\n",
      "469/469 [==============================] - 69s 146ms/step - loss: 0.1009 - val_loss: 0.0993\n",
      "Epoch 8/100\n",
      "469/469 [==============================] - 65s 138ms/step - loss: 0.0997 - val_loss: 0.0985\n",
      "Epoch 9/100\n",
      "469/469 [==============================] - 65s 139ms/step - loss: 0.0990 - val_loss: 0.0986\n",
      "Epoch 10/100\n",
      "469/469 [==============================] - 67s 142ms/step - loss: 0.0987 - val_loss: 0.0975\n",
      "Epoch 11/100\n",
      "469/469 [==============================] - 66s 140ms/step - loss: 0.0981 - val_loss: 0.0971\n",
      "Epoch 12/100\n",
      "469/469 [==============================] - 65s 140ms/step - loss: 0.0975 - val_loss: 0.0967\n",
      "Epoch 13/100\n",
      "469/469 [==============================] - 66s 140ms/step - loss: 0.0973 - val_loss: 0.0962\n",
      "Epoch 14/100\n",
      "469/469 [==============================] - 63s 135ms/step - loss: 0.0969 - val_loss: 0.0964\n",
      "Epoch 15/100\n",
      "469/469 [==============================] - 64s 137ms/step - loss: 0.0965 - val_loss: 0.0969\n",
      "Epoch 16/100\n",
      "469/469 [==============================] - 60s 129ms/step - loss: 0.0964 - val_loss: 0.0956\n",
      "Epoch 17/100\n",
      "469/469 [==============================] - 63s 134ms/step - loss: 0.0962 - val_loss: 0.0953\n",
      "Epoch 18/100\n",
      "469/469 [==============================] - 63s 134ms/step - loss: 0.0958 - val_loss: 0.0954\n",
      "Epoch 19/100\n",
      "469/469 [==============================] - 64s 137ms/step - loss: 0.0957 - val_loss: 0.0953\n",
      "Epoch 20/100\n",
      "469/469 [==============================] - 63s 134ms/step - loss: 0.0956 - val_loss: 0.0949\n",
      "Epoch 21/100\n",
      "469/469 [==============================] - 62s 132ms/step - loss: 0.0954 - val_loss: 0.0954\n",
      "Epoch 22/100\n",
      "469/469 [==============================] - 62s 133ms/step - loss: 0.0952 - val_loss: 0.0952\n",
      "Epoch 23/100\n",
      "469/469 [==============================] - 62s 132ms/step - loss: 0.0951 - val_loss: 0.0945\n",
      "Epoch 24/100\n",
      "469/469 [==============================] - 64s 136ms/step - loss: 0.0950 - val_loss: 0.0946\n",
      "Epoch 25/100\n",
      "469/469 [==============================] - 64s 137ms/step - loss: 0.0947 - val_loss: 0.0943\n",
      "Epoch 26/100\n",
      "469/469 [==============================] - 64s 137ms/step - loss: 0.0950 - val_loss: 0.0944\n",
      "Epoch 27/100\n",
      "469/469 [==============================] - 65s 140ms/step - loss: 0.0947 - val_loss: 0.0942\n",
      "Epoch 28/100\n",
      "469/469 [==============================] - 65s 139ms/step - loss: 0.0945 - val_loss: 0.0942\n",
      "Epoch 29/100\n",
      "469/469 [==============================] - 65s 139ms/step - loss: 0.0946 - val_loss: 0.0941\n",
      "Epoch 30/100\n",
      "469/469 [==============================] - 64s 136ms/step - loss: 0.0944 - val_loss: 0.0942\n",
      "Epoch 31/100\n",
      "469/469 [==============================] - 65s 140ms/step - loss: 0.0943 - val_loss: 0.0939\n",
      "Epoch 32/100\n",
      "469/469 [==============================] - 64s 136ms/step - loss: 0.0943 - val_loss: 0.0940\n",
      "Epoch 33/100\n",
      "469/469 [==============================] - 61s 129ms/step - loss: 0.0943 - val_loss: 0.0943\n",
      "Epoch 34/100\n",
      "469/469 [==============================] - 62s 133ms/step - loss: 0.0943 - val_loss: 0.0938\n",
      "Epoch 35/100\n",
      "469/469 [==============================] - 64s 137ms/step - loss: 0.0941 - val_loss: 0.0939\n",
      "Epoch 36/100\n",
      "469/469 [==============================] - 60s 129ms/step - loss: 0.0942 - val_loss: 0.0937\n",
      "Epoch 37/100\n",
      "469/469 [==============================] - 62s 131ms/step - loss: 0.0939 - val_loss: 0.0939\n",
      "Epoch 38/100\n",
      "469/469 [==============================] - 65s 138ms/step - loss: 0.0942 - val_loss: 0.0938\n",
      "Epoch 39/100\n",
      "469/469 [==============================] - 65s 138ms/step - loss: 0.0939 - val_loss: 0.0937\n",
      "Epoch 40/100\n",
      "469/469 [==============================] - 66s 140ms/step - loss: 0.0939 - val_loss: 0.0937\n",
      "Epoch 41/100\n",
      "469/469 [==============================] - 65s 139ms/step - loss: 0.0938 - val_loss: 0.0936\n",
      "Epoch 42/100\n",
      "469/469 [==============================] - 65s 140ms/step - loss: 0.0939 - val_loss: 0.0936\n",
      "Epoch 43/100\n",
      "469/469 [==============================] - 63s 134ms/step - loss: 0.0938 - val_loss: 0.0936\n",
      "Epoch 44/100\n",
      "469/469 [==============================] - 58s 123ms/step - loss: 0.0938 - val_loss: 0.0937\n",
      "Epoch 45/100\n",
      "469/469 [==============================] - 60s 127ms/step - loss: 0.0938 - val_loss: 0.0936\n",
      "Epoch 46/100\n",
      "469/469 [==============================] - 60s 128ms/step - loss: 0.0939 - val_loss: 0.0936\n",
      "Epoch 47/100\n",
      "469/469 [==============================] - 60s 128ms/step - loss: 0.0938 - val_loss: 0.0935\n",
      "Epoch 48/100\n",
      "469/469 [==============================] - 59s 126ms/step - loss: 0.0936 - val_loss: 0.0939\n",
      "Epoch 49/100\n",
      "469/469 [==============================] - 59s 126ms/step - loss: 0.0935 - val_loss: 0.0934\n",
      "Epoch 50/100\n",
      "469/469 [==============================] - 59s 126ms/step - loss: 0.0937 - val_loss: 0.0934\n",
      "Epoch 51/100\n",
      "469/469 [==============================] - 60s 127ms/step - loss: 0.0937 - val_loss: 0.0935\n",
      "Epoch 52/100\n",
      "469/469 [==============================] - 60s 128ms/step - loss: 0.0936 - val_loss: 0.0937\n",
      "Epoch 53/100\n",
      "469/469 [==============================] - 59s 126ms/step - loss: 0.0935 - val_loss: 0.0934\n",
      "Epoch 54/100\n",
      "469/469 [==============================] - 60s 127ms/step - loss: 0.0938 - val_loss: 0.0935\n",
      "Epoch 55/100\n",
      "469/469 [==============================] - 59s 126ms/step - loss: 0.0935 - val_loss: 0.0934\n",
      "Epoch 56/100\n",
      "469/469 [==============================] - 60s 127ms/step - loss: 0.0934 - val_loss: 0.0934\n",
      "Epoch 57/100\n",
      "469/469 [==============================] - 60s 128ms/step - loss: 0.0936 - val_loss: 0.0938\n",
      "Epoch 58/100\n",
      "469/469 [==============================] - 62s 132ms/step - loss: 0.0934 - val_loss: 0.0934\n",
      "Epoch 59/100\n",
      "469/469 [==============================] - 58s 125ms/step - loss: 0.0931 - val_loss: 0.0937\n",
      "Epoch 60/100\n",
      "469/469 [==============================] - 59s 126ms/step - loss: 0.0935 - val_loss: 0.0934\n",
      "Epoch 61/100\n",
      "469/469 [==============================] - 60s 128ms/step - loss: 0.0933 - val_loss: 0.0934\n",
      "Epoch 62/100\n",
      "469/469 [==============================] - 59s 126ms/step - loss: 0.0935 - val_loss: 0.0934\n",
      "Epoch 63/100\n",
      "469/469 [==============================] - 59s 127ms/step - loss: 0.0932 - val_loss: 0.0932\n",
      "Epoch 64/100\n",
      "469/469 [==============================] - 60s 128ms/step - loss: 0.0933 - val_loss: 0.0934\n",
      "Epoch 65/100\n",
      "469/469 [==============================] - 59s 126ms/step - loss: 0.0932 - val_loss: 0.0932\n",
      "Epoch 66/100\n",
      "469/469 [==============================] - 60s 128ms/step - loss: 0.0933 - val_loss: 0.0932\n",
      "Epoch 67/100\n",
      "469/469 [==============================] - 59s 127ms/step - loss: 0.0934 - val_loss: 0.0932\n",
      "Epoch 68/100\n",
      "469/469 [==============================] - 60s 129ms/step - loss: 0.0932 - val_loss: 0.0933\n",
      "Epoch 69/100\n",
      "469/469 [==============================] - 60s 128ms/step - loss: 0.0934 - val_loss: 0.0933\n",
      "Epoch 70/100\n",
      "469/469 [==============================] - 60s 129ms/step - loss: 0.0932 - val_loss: 0.0933\n",
      "Epoch 71/100\n",
      "469/469 [==============================] - 60s 128ms/step - loss: 0.0933 - val_loss: 0.0931\n",
      "Epoch 72/100\n",
      "469/469 [==============================] - 60s 128ms/step - loss: 0.0932 - val_loss: 0.0934\n",
      "Epoch 73/100\n",
      "469/469 [==============================] - 60s 128ms/step - loss: 0.0932 - val_loss: 0.0932\n",
      "Epoch 74/100\n",
      "469/469 [==============================] - 61s 129ms/step - loss: 0.0931 - val_loss: 0.0933\n",
      "Epoch 75/100\n",
      "469/469 [==============================] - 61s 129ms/step - loss: 0.0931 - val_loss: 0.0931\n",
      "Epoch 76/100\n",
      "469/469 [==============================] - 61s 131ms/step - loss: 0.0932 - val_loss: 0.0931\n",
      "Epoch 77/100\n",
      "469/469 [==============================] - 61s 129ms/step - loss: 0.0931 - val_loss: 0.0931\n",
      "Epoch 78/100\n",
      "469/469 [==============================] - 60s 129ms/step - loss: 0.0930 - val_loss: 0.0931\n",
      "Epoch 79/100\n"
     ]
    },
    {
     "name": "stdout",
     "output_type": "stream",
     "text": [
      "469/469 [==============================] - 60s 129ms/step - loss: 0.0931 - val_loss: 0.0930\n",
      "Epoch 80/100\n",
      "469/469 [==============================] - 61s 130ms/step - loss: 0.0932 - val_loss: 0.0933\n",
      "Epoch 81/100\n",
      "469/469 [==============================] - 61s 130ms/step - loss: 0.0930 - val_loss: 0.0937\n",
      "Epoch 82/100\n",
      "469/469 [==============================] - 60s 128ms/step - loss: 0.0932 - val_loss: 0.0931\n",
      "Epoch 83/100\n",
      "469/469 [==============================] - 60s 128ms/step - loss: 0.0932 - val_loss: 0.0931\n",
      "Epoch 84/100\n",
      "469/469 [==============================] - 59s 127ms/step - loss: 0.0930 - val_loss: 0.0932\n",
      "Epoch 85/100\n",
      "469/469 [==============================] - 60s 128ms/step - loss: 0.0931 - val_loss: 0.0933\n",
      "Epoch 86/100\n",
      "469/469 [==============================] - 60s 129ms/step - loss: 0.0930 - val_loss: 0.0932\n",
      "Epoch 87/100\n",
      "469/469 [==============================] - 60s 127ms/step - loss: 0.0931 - val_loss: 0.0930\n",
      "Epoch 88/100\n",
      "469/469 [==============================] - 60s 128ms/step - loss: 0.0930 - val_loss: 0.0931\n",
      "Epoch 89/100\n",
      "469/469 [==============================] - 60s 129ms/step - loss: 0.0930 - val_loss: 0.0930\n",
      "Epoch 90/100\n",
      "469/469 [==============================] - 60s 129ms/step - loss: 0.0931 - val_loss: 0.0930\n",
      "Epoch 91/100\n",
      "469/469 [==============================] - 60s 129ms/step - loss: 0.0929 - val_loss: 0.0930\n",
      "Epoch 92/100\n",
      "469/469 [==============================] - 60s 128ms/step - loss: 0.0930 - val_loss: 0.0931\n",
      "Epoch 93/100\n",
      "469/469 [==============================] - 61s 129ms/step - loss: 0.0930 - val_loss: 0.0930\n",
      "Epoch 94/100\n",
      "469/469 [==============================] - 60s 128ms/step - loss: 0.0930 - val_loss: 0.0929\n",
      "Epoch 95/100\n",
      "469/469 [==============================] - 60s 128ms/step - loss: 0.0928 - val_loss: 0.0931\n",
      "Epoch 96/100\n",
      "469/469 [==============================] - 60s 128ms/step - loss: 0.0931 - val_loss: 0.0931\n",
      "Epoch 97/100\n",
      "469/469 [==============================] - 60s 129ms/step - loss: 0.0930 - val_loss: 0.0930\n",
      "Epoch 98/100\n",
      "469/469 [==============================] - 61s 130ms/step - loss: 0.0928 - val_loss: 0.0930\n",
      "Epoch 99/100\n",
      "469/469 [==============================] - 61s 129ms/step - loss: 0.0928 - val_loss: 0.0928\n",
      "Epoch 100/100\n",
      "469/469 [==============================] - 60s 128ms/step - loss: 0.0930 - val_loss: 0.0930\n"
     ]
    },
    {
     "data": {
      "text/plain": [
       "<keras.callbacks.History at 0x7fd3397f0280>"
      ]
     },
     "execution_count": 6,
     "metadata": {},
     "output_type": "execute_result"
    }
   ],
   "source": [
    "# utilise un convolutional autoencoder pour enlever le bruit sur les images\n",
    "import keras\n",
    "from keras import layers\n",
    "from keras.callbacks import TensorBoard\n",
    "\n",
    "\n",
    "input_img = keras.Input(shape=(28, 28, 1))\n",
    "\n",
    "x = layers.Conv2D(32, (3, 3), activation='relu', padding='same')(input_img)\n",
    "x = layers.MaxPooling2D((2, 2), padding='same')(x)\n",
    "x = layers.Conv2D(32, (3, 3), activation='relu', padding='same')(x)\n",
    "encoded = layers.MaxPooling2D((2, 2), padding='same')(x)\n",
    "\n",
    "# At this point the representation is (7, 7, 32)\n",
    "\n",
    "x = layers.Conv2D(32, (3, 3), activation='relu', padding='same')(encoded)\n",
    "x = layers.UpSampling2D((2, 2))(x)\n",
    "x = layers.Conv2D(32, (3, 3), activation='relu', padding='same')(x)\n",
    "x = layers.UpSampling2D((2, 2))(x)\n",
    "decoded = layers.Conv2D(1, (3, 3), activation='sigmoid', padding='same')(x)\n",
    "\n",
    "autoencoder = keras.Model(input_img, decoded)\n",
    "autoencoder.compile(optimizer='adam', loss='binary_crossentropy')\n",
    "\n",
    "autoencoder.fit(x_train_noisy, x_train,\n",
    "                epochs=100,\n",
    "                batch_size=128,\n",
    "                shuffle=True,\n",
    "                validation_data=(x_test_noisy, x_test),\n",
    "                callbacks=[TensorBoard(log_dir='/tmp/tb', histogram_freq=0, write_graph=False)])\n",
    "\n"
   ]
  },
  {
   "cell_type": "code",
   "execution_count": 8,
   "metadata": {},
   "outputs": [
    {
     "data": {
      "image/png": "[encoded data removed]",
      "text/plain": [
       "<Figure size 1440x144 with 10 Axes>"
      ]
     },
     "metadata": {
      "needs_background": "light"
     },
     "output_type": "display_data"
    }
   ],
   "source": [
    "encoded_imgs = autoencoder.predict(x_test)\n",
    "\n",
    "n = 10\n",
    "plt.figure(figsize=(20, 2))\n",
    "for i in range(1, n + 1):\n",
    "    ax = plt.subplot(1, n, i)\n",
    "    plt.imshow(encoded_imgs[i].reshape(28, 28))\n",
    "    plt.gray()\n",
    "    ax.get_xaxis().set_visible(False)\n",
    "    ax.get_yaxis().set_visible(False)\n",
    "plt.show()\n",
    "\n"
   ]
  },
  {
   "cell_type": "code",
   "execution_count": null,
   "metadata": {},
   "outputs": [],
   "source": []
  },
  {
   "cell_type": "code",
   "execution_count": null,
   "metadata": {},
   "outputs": [],
   "source": []
  },
  {
   "cell_type": "code",
   "execution_count": null,
   "metadata": {},
   "outputs": [],
   "source": []
  },
  {
   "cell_type": "code",
   "execution_count": null,
   "metadata": {},
   "outputs": [],
   "source": []
  },
  {
   "cell_type": "code",
   "execution_count": null,
   "metadata": {},
   "outputs": [],
   "source": []
  },
  {
   "cell_type": "code",
   "execution_count": null,
   "metadata": {},
   "outputs": [],
   "source": []
  },
  {
   "cell_type": "code",
   "execution_count": null,
   "metadata": {},
   "outputs": [],
   "source": []
  }
 ],
 "metadata": {
  "kernelspec": {
   "display_name": "Python 3",
   "language": "python",
   "name": "python3"
  },
  "language_info": {
   "codemirror_mode": {
    "name": "ipython",
    "version": 3
   },
   "file_extension": ".py",
   "mimetype": "text/x-python",
   "name": "python",
   "nbconvert_exporter": "python",
   "pygments_lexer": "ipython3",
   "version": "3.8.5"
  }
 },
 "nbformat": 4,
 "nbformat_minor": 4
}
