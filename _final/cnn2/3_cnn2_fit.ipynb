{
 "cells": [
  {
   "cell_type": "markdown",
   "metadata": {},
   "source": [
    "<h1>Fit a global CNN for all machines at the same time on the pngs files</h1>"
   ]
  },
  {
   "cell_type": "code",
   "execution_count": null,
   "metadata": {},
   "outputs": [],
   "source": [
    "!pip install tensorflow"
   ]
  },
  {
   "cell_type": "code",
   "execution_count": 2,
   "metadata": {},
   "outputs": [],
   "source": [
    "\"\"\"\n",
    "    Fit a global CNN v2 on all machines \n",
    "    from: https://keras.io/examples/vision/image_classification_from_scratch/\n",
    "\"\"\"\n",
    "\n",
    "import datetime\n",
    "import sys\n",
    "import tensorflow as tf\n",
    "from tensorflow import keras\n",
    "from tensorflow.keras import layers\n",
    "\n",
    "# add parent folder to path \n",
    "from pathlib import Path\n",
    "path = Path(os.getcwd())\n",
    "str_parent = str(path.parent.absolute())\n",
    "if not str_parent in sys.path:\n",
    "    sys.path.append(str_parent)\n",
    "import utils \n",
    "from SoundFile import SoundFile\n"
   ]
  },
  {
   "cell_type": "code",
   "execution_count": 4,
   "metadata": {},
   "outputs": [
    {
     "name": "stdout",
     "output_type": "stream",
     "text": [
      "num_classes:  6\n"
     ]
    }
   ],
   "source": [
    "use_folder = '../../_data_png_cnn2/machines/'\n",
    "data_path = Path(use_folder)\n",
    "folders_classes = [f for f in data_path.iterdir() if f.is_dir()]\n",
    "# print('foldersClasses: ', folders_classes)\n",
    "# for p in folders_classes:\n",
    "#     print('p: ', p)\n",
    "num_classes = len(folders_classes)\n",
    "print('num_classes: ', num_classes)\n",
    "\n",
    "# sys.exit()\n",
    "\n",
    "image_size = (333, 216)\n",
    "batch_size = 32\n",
    "data_augmentation = keras.Sequential(\n",
    "    [\n",
    "        # layers.experimental.preprocessing.RandomFlip(\"horizontal\"),\n",
    "        # layers.experimental.preprocessing.RandomRotation(0.1),\n",
    "    ]\n",
    ")\n"
   ]
  },
  {
   "cell_type": "code",
   "execution_count": 5,
   "metadata": {},
   "outputs": [],
   "source": [
    "# Initialising the CNN v4: make model\n",
    "def make_model(input_shape, num_classes):\n",
    "    inputs = keras.Input(shape=input_shape)\n",
    "    # Image augmentation block\n",
    "    x = data_augmentation(inputs)\n",
    "    \n",
    "    x = layers.experimental.preprocessing.Rescaling(1.0 / 255)(x)\n",
    "    x = layers.Conv2D(32, 3, strides=2, padding=\"same\")(x)\n",
    "    x = layers.BatchNormalization()(x)\n",
    "    x = layers.Activation(\"relu\")(x)\n",
    "\n",
    "    x = layers.Conv2D(64, 3, padding=\"same\")(x)\n",
    "    x = layers.BatchNormalization()(x)\n",
    "    x = layers.Activation(\"relu\")(x)\n",
    "\n",
    "    previous_block_activation = x  # Set aside residual\n",
    "\n",
    "    for size in [128, 256]: #, 512, 728]:\n",
    "        x = layers.Activation(\"relu\")(x)\n",
    "        x = layers.SeparableConv2D(size, 3, padding=\"same\")(x)\n",
    "        x = layers.BatchNormalization()(x)\n",
    "\n",
    "        x = layers.Activation(\"relu\")(x)\n",
    "        x = layers.SeparableConv2D(size, 3, padding=\"same\")(x)\n",
    "        x = layers.BatchNormalization()(x)\n",
    "\n",
    "        x = layers.MaxPooling2D(3, strides=2, padding=\"same\")(x)\n",
    "\n",
    "        # Project residual\n",
    "        residual = layers.Conv2D(size, 1, strides=2, padding=\"same\")(\n",
    "            previous_block_activation\n",
    "        )\n",
    "        x = layers.add([x, residual])  # Add back residual\n",
    "        previous_block_activation = x  # Set aside next residual\n",
    "\n",
    "    x = layers.SeparableConv2D(1024, 3, padding=\"same\")(x)\n",
    "    x = layers.BatchNormalization()(x)\n",
    "    x = layers.Activation(\"relu\")(x)\n",
    "\n",
    "    x = layers.GlobalAveragePooling2D()(x)\n",
    "    if num_classes == 2:\n",
    "        activation = \"sigmoid\"\n",
    "        units = 1\n",
    "    else:\n",
    "        activation = \"softmax\"\n",
    "        units = num_classes\n",
    "\n",
    "    x = layers.Dropout(0.5)(x)\n",
    "    outputs = layers.Dense(units, activation=activation)(x)\n",
    "    return keras.Model(inputs, outputs)\n",
    "\n",
    "model = make_model(input_shape=image_size + (3,), num_classes=num_classes)\n",
    "epochs = 8 # 50\n",
    "\n",
    "model.compile(\n",
    "    optimizer=keras.optimizers.Adam(1e-3),\n",
    "    # loss=\"categorical_crossentropy\", # n classes - 2D shape (n_samples, n_class)\n",
    "    loss=\"sparse_categorical_crossentropy\", # n classes - 1D integer encoded target (n_class)\n",
    "    metrics=[\"accuracy\"],\n",
    ")"
   ]
  },
  {
   "cell_type": "code",
   "execution_count": 6,
   "metadata": {},
   "outputs": [
    {
     "name": "stdout",
     "output_type": "stream",
     "text": [
      "Found 19219 files belonging to 6 classes.\n",
      "Using 15376 files for training.\n",
      "Found 19219 files belonging to 6 classes.\n",
      "Using 3843 files for validation.\n",
      "Epoch 1/8\n",
      "481/481 [==============================] - 2684s 6s/step - loss: 0.3258 - accuracy: 0.8714 - val_loss: 6.7060 - val_accuracy: 0.2027\n",
      "Epoch 2/8\n",
      "481/481 [==============================] - 2742s 6s/step - loss: 0.0940 - accuracy: 0.9674 - val_loss: 0.2394 - val_accuracy: 0.9334\n",
      "Epoch 3/8\n",
      "481/481 [==============================] - 2834s 6s/step - loss: 0.0563 - accuracy: 0.9816 - val_loss: 0.1976 - val_accuracy: 0.9415\n",
      "Epoch 4/8\n",
      "481/481 [==============================] - 2659s 6s/step - loss: 0.0442 - accuracy: 0.9852 - val_loss: 1.4432 - val_accuracy: 0.7799\n",
      "Epoch 5/8\n",
      "481/481 [==============================] - 2602s 5s/step - loss: 0.0363 - accuracy: 0.9880 - val_loss: 0.3430 - val_accuracy: 0.8761\n",
      "Epoch 6/8\n",
      "481/481 [==============================] - 2726s 6s/step - loss: 0.0247 - accuracy: 0.9916 - val_loss: 0.3035 - val_accuracy: 0.9100\n",
      "Epoch 7/8\n",
      "481/481 [==============================] - 2708s 6s/step - loss: 0.0277 - accuracy: 0.9905 - val_loss: 0.2201 - val_accuracy: 0.9253\n",
      "Epoch 8/8\n",
      "481/481 [==============================] - 2460s 5s/step - loss: 0.0240 - accuracy: 0.9923 - val_loss: 0.1184 - val_accuracy: 0.9633\n"
     ]
    },
    {
     "ename": "NameError",
     "evalue": "name 'rootFolder' is not defined",
     "output_type": "error",
     "traceback": [
      "\u001b[0;31m---------------------------------------------------------------------------\u001b[0m",
      "\u001b[0;31mNameError\u001b[0m                                 Traceback (most recent call last)",
      "\u001b[0;32m<ipython-input-6-2255cc75d912>\u001b[0m in \u001b[0;36m<module>\u001b[0;34m\u001b[0m\n\u001b[1;32m     23\u001b[0m )\n\u001b[1;32m     24\u001b[0m \u001b[0;34m\u001b[0m\u001b[0m\n\u001b[0;32m---> 25\u001b[0;31m \u001b[0mfilename_classifier\u001b[0m \u001b[0;34m=\u001b[0m \u001b[0mrootFolder\u001b[0m \u001b[0;34m+\u001b[0m \u001b[0;34m'_classifier_cnn2/global_cnn.h5'\u001b[0m\u001b[0;34m\u001b[0m\u001b[0;34m\u001b[0m\u001b[0m\n\u001b[0m\u001b[1;32m     26\u001b[0m \u001b[0mmodel\u001b[0m\u001b[0;34m.\u001b[0m\u001b[0msave\u001b[0m\u001b[0;34m(\u001b[0m\u001b[0mfilename_classifier\u001b[0m\u001b[0;34m)\u001b[0m\u001b[0;34m\u001b[0m\u001b[0;34m\u001b[0m\u001b[0m\n\u001b[1;32m     27\u001b[0m \u001b[0;34m\u001b[0m\u001b[0m\n",
      "\u001b[0;31mNameError\u001b[0m: name 'rootFolder' is not defined"
     ]
    }
   ],
   "source": [
    "# Found 17858 files belonging to 6 classes.\n",
    "# Using 14287 files for training.\n",
    "# Using 3571 files for validation.\n",
    "\n",
    "train_ds = tf.keras.preprocessing.image_dataset_from_directory(\n",
    "    use_folder,\n",
    "    validation_split=0.2,\n",
    "    subset=\"training\",\n",
    "    seed=1337,\n",
    "    image_size=image_size,\n",
    "    batch_size=batch_size,\n",
    ")\n",
    "val_ds = tf.keras.preprocessing.image_dataset_from_directory(\n",
    "    use_folder,\n",
    "    validation_split=0.2,\n",
    "    subset=\"validation\",\n",
    "    seed=1337,\n",
    "    image_size=image_size,\n",
    "    batch_size=batch_size,\n",
    ")\n",
    "model.fit(\n",
    "    train_ds, epochs=epochs, validation_data=val_ds,\n",
    ")\n",
    "\n"
   ]
  },
  {
   "cell_type": "code",
   "execution_count": 15,
   "metadata": {},
   "outputs": [
    {
     "name": "stdout",
     "output_type": "stream",
     "text": [
      "model saved:  ../../_classifier_cnn2/global_cnn.h5\n",
      "Classes names:  ['ToyCar', 'ToyConveyor', 'fan', 'pump', 'slider', 'valve']\n"
     ]
    },
    {
     "name": "stderr",
     "output_type": "stream",
     "text": [
      "/Users/david/opt/anaconda3/lib/python3.8/site-packages/tensorflow/python/keras/utils/generic_utils.py:494: CustomMaskWarning: Custom mask layers require a config and must override get_config. When loading, the custom mask layer must be passed to the custom_objects argument.\n",
      "  warnings.warn('Custom mask layers require a config and must override '\n"
     ]
    }
   ],
   "source": [
    "filename_classifier = '../../_classifier_cnn2/global_cnn.h5'\n",
    "model.save(filename_classifier)\n",
    "\n",
    "print('model saved: ', filename_classifier)\n",
    "print('Classes names: ', train_ds.class_names)\n",
    "\n"
   ]
  }
 ],
 "metadata": {
  "interpreter": {
   "hash": "ca3d29f37a1a1c4f5e7a988c75b7db15a8dc84e630022593e41cd81ca2ea4c4a"
  },
  "kernelspec": {
   "display_name": "Python 3.8.5 64-bit ('base': conda)",
   "name": "python3"
  },
  "language_info": {
   "codemirror_mode": {
    "name": "ipython",
    "version": 3
   },
   "file_extension": ".py",
   "mimetype": "text/x-python",
   "name": "python",
   "nbconvert_exporter": "python",
   "pygments_lexer": "ipython3",
   "version": "3.8.5"
  },
  "orig_nbformat": 4
 },
 "nbformat": 4,
 "nbformat_minor": 2
}
