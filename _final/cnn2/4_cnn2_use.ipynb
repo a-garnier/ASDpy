{
 "cells": [
  {
   "cell_type": "code",
   "execution_count": null,
   "metadata": {},
   "outputs": [],
   "source": []
  },
  {
   "cell_type": "code",
   "execution_count": 2,
   "metadata": {},
   "outputs": [
    {
     "ename": "ModuleNotFoundError",
     "evalue": "No module named 'keras'",
     "output_type": "error",
     "traceback": [
      "\u001b[0;31m---------------------------------------------------------------------------\u001b[0m",
      "\u001b[0;31mModuleNotFoundError\u001b[0m                       Traceback (most recent call last)",
      "\u001b[0;32m/var/folders/g7/jbg646zd6kj50_7z4b1qrb680000gn/T/ipykernel_51652/3301172981.py\u001b[0m in \u001b[0;36m<module>\u001b[0;34m\u001b[0m\n\u001b[1;32m     10\u001b[0m \u001b[0;32mfrom\u001b[0m \u001b[0mos\u001b[0m \u001b[0;32mimport\u001b[0m \u001b[0mlistdir\u001b[0m\u001b[0;34m\u001b[0m\u001b[0;34m\u001b[0m\u001b[0m\n\u001b[1;32m     11\u001b[0m \u001b[0;32mfrom\u001b[0m \u001b[0mos\u001b[0m\u001b[0;34m.\u001b[0m\u001b[0mpath\u001b[0m \u001b[0;32mimport\u001b[0m \u001b[0misfile\u001b[0m\u001b[0;34m,\u001b[0m \u001b[0mjoin\u001b[0m\u001b[0;34m\u001b[0m\u001b[0;34m\u001b[0m\u001b[0m\n\u001b[0;32m---> 12\u001b[0;31m \u001b[0;32mfrom\u001b[0m \u001b[0mkeras\u001b[0m\u001b[0;34m.\u001b[0m\u001b[0mpreprocessing\u001b[0m \u001b[0;32mimport\u001b[0m \u001b[0mimage\u001b[0m\u001b[0;34m\u001b[0m\u001b[0;34m\u001b[0m\u001b[0m\n\u001b[0m\u001b[1;32m     13\u001b[0m \u001b[0;32mfrom\u001b[0m \u001b[0mkeras\u001b[0m\u001b[0;34m.\u001b[0m\u001b[0mmodels\u001b[0m \u001b[0;32mimport\u001b[0m \u001b[0mload_model\u001b[0m\u001b[0;34m\u001b[0m\u001b[0;34m\u001b[0m\u001b[0m\n\u001b[1;32m     14\u001b[0m \u001b[0;34m\u001b[0m\u001b[0m\n",
      "\u001b[0;31mModuleNotFoundError\u001b[0m: No module named 'keras'"
     ]
    }
   ],
   "source": [
    "\"\"\"\n",
    "    Use the CNN model in order to make predictions on files in data_png_cnn2/all_png_test\n",
    "    from: https://keras.io/examples/vision/image_classification_from_scratch/\n",
    "\"\"\"\n",
    "\n",
    "import sys\n",
    "import datetime\n",
    "import numpy as np\n",
    "import pandas as pd\n",
    "from os import listdir\n",
    "from os.path import isfile, join\n",
    "from keras.preprocessing import image\n",
    "from keras.models import load_model\n",
    "\n",
    "# add parent folder to path \n",
    "from pathlib import Path\n",
    "path = Path(os.getcwd())\n",
    "str_parent = str(path.parent.absolute())\n",
    "if not str_parent in sys.path:\n",
    "    sys.path.append(str_parent)\n",
    "import utils \n",
    "\n"
   ]
  },
  {
   "cell_type": "code",
   "execution_count": null,
   "metadata": {},
   "outputs": [],
   "source": [
    "now = datetime.datetime.now()\n",
    "\n",
    "image_size = (333, 216)\n",
    "png_test_folder = '../../_data_png_cnn2/all_png_test/'\n",
    "model_folder = '../../_classifiers/global_cnn.h5'\n",
    "\n",
    "# load the model from disk\n",
    "model = load_model(model_folder)\n",
    "\n",
    "df_result = pd.DataFrame(columns=['file', 'score']) # df result  with files and scores\n",
    "indiceFile = 0\n",
    "nbPredictionOK = 0\n"
   ]
  },
  {
   "cell_type": "code",
   "execution_count": null,
   "metadata": {},
   "outputs": [],
   "source": [
    "# normal and scorePredict of the class > thresholdPrediction -> accuracy ok\n",
    "# normal and scorePredict of the class <= thresholdPrediction -> accuracy nok\n",
    "\n",
    "# anomaly and scorePredict of the class > thresholdPrediction -> accuracy nok\n",
    "# anomaly and scorePredict of the class <= thresholdPrediction -> accuracy ok\n",
    "# anomaly if it doesn't ptedict the correct machine or the score < thresholdPrediction\n",
    "thresholdPrediction = 0.95 \n",
    "# thresholdPredictionMin = 0.10 \n",
    "\n",
    "dict_machine = {'ToyCar': {'err': 0, 'total': 0}, 'ToyConveyor': {'err': 0, 'total': 0}, 'slider': {'err': 0, 'total': 0}, 'pump': {'err': 0, 'total': 0}, 'fan': {'err': 0, 'total': 0}, 'valve': {'err': 0, 'total': 0}} # stats accuracy by machine\n",
    "list_machine = ['ToyCar', 'ToyConveyor', 'fan', 'pump', 'slider', 'valve'] # ok \n",
    "# browse test files\n",
    "wavfiles = [f for f in listdir(png_test_folder) if isfile(join(png_test_folder, f))] # 7730 pngs\n",
    "nbWavs = len(wavfiles)\n",
    "for nameFilePngTotest in wavfiles:\n",
    "    if nameFilePngTotest[-4:] != '.png': # ignore non .png files \n",
    "        continue\n",
    "    arrName = nameFilePngTotest.split(\"_\") # normal_id_06_00000451_pump.png\n",
    "    classPrefixReal = arrName[0] # 'normal' or 'anomaly'\n",
    "    classNameReal = arrName[4][:-4] # 'pump' / [:-4] remove the '.png'\n",
    "    # print(className)\n",
    "    if classPrefixReal != 'anomaly': # anomaly only  accuracy:  0.615\n",
    "    # if classPrefixReal != 'normal': # normal only  accuracy:  0.568\n",
    "        continue\n",
    "    # print('test nameFilePngTotest: ', nameFilePngTotest)\n",
    "    test_image = image.load_img(png_test_folder + nameFilePngTotest, target_size = image_size) # , target_size = (64, 64)\n",
    "    img_array = image.img_to_array(test_image)\n",
    "    img_array = np.expand_dims(test_image, axis = 0)\n",
    "    arr_predictions = model.predict(img_array)\n",
    "    arr_predictions = arr_predictions[0] # prediction one by one so use the [0]\n",
    "    # print(nameFilePngTotest, np.rint(arr_predictions)) # [[0. 0. 0. 1. 0. 0.]]\n",
    "    # print(nameFilePngTotest, np.round(arr_predictions, 2)) # [[0.   0.03 0.   0.95 0.03 0.  ]] \n",
    "    # print(nameFilePngTotest, np.rint(arr_predictions).argmax(axis = 1)) # \n",
    "    \n",
    "    predictionOK = False\n",
    "    indiceClassNamePredict = list_machine.index(classNameReal)\n",
    "    scorePredict = arr_predictions[indiceClassNamePredict]\n",
    "    if scorePredict > thresholdPrediction and classPrefixReal == 'normal' or scorePredict <= thresholdPrediction and classPrefixReal == 'anomaly' :\n",
    "        predictionOK = True\n",
    "        nbPredictionOK+= 1\n",
    "    \n",
    "    dict_machine[classNameReal]['total'] =  dict_machine[classNameReal]['total'] + 1\n",
    "    # count errors by machine \n",
    "    if predictionOK == False:\n",
    "        dict_machine[classNameReal]['err'] =  dict_machine[classNameReal]['err'] + 1\n",
    "    # indiceClassNamePredict = np.rint(arr_predictions).argmax(axis = 1)[0]\n",
    "    # if the prediction is right, sound is normal otherwise, it's anormal\n",
    "    # classOK = True if classNameReal == list_machine[indiceClassNamePredict] else False\n",
    "    # # if classNameReal == list_machine[indiceClassNamePredict]:\n",
    "    # #     classOK = True\n",
    "    # if classOK and classPrefixReal == 'normal' or not classOK and classPrefixReal == 'anomaly':\n",
    "    #     predictionOK = True\n",
    "    #     nbPredictionOK+= 1\n",
    "    # print(nameFilePngTotest, result) # [[0. 0. 0. 1. 0. 0.]]\n",
    "    # score = arr_predictions[0]\n",
    "\n",
    "    print(nameFilePngTotest, np.round(arr_predictions, 2), list_machine[indiceClassNamePredict], predictionOK) #ok\n",
    "    # df_result = df_result.append({'file': nameFilePngTotest, 'score': score}, ignore_index=True)\n",
    "    indiceFile += 1\n",
    "    # if indiceFile % 100 == 0:\n",
    "    #     print('indiceFile: ', indiceFile, ' / ', nbWavs, ' nbPredictionOK: ', nbPredictionOK, ' accuracy: ', nbPredictionOK / indiceFile)\n",
    "    if indiceFile == 200:\n",
    "        break\n",
    "# df_result = df_result.sort_values(by = ['score'], ascending = False)\n",
    "# df_result.head(40)\n",
    "\n",
    "accuracy = nbPredictionOK / indiceFile\n",
    "print('indiceFile: ', indiceFile, ' / ', nbWavs, ' nbPredictionOK: ', nbPredictionOK, ' accuracy: ', accuracy)\n",
    "print('dict_machine: ', dict_machine) "
   ]
  },
  {
   "cell_type": "code",
   "execution_count": null,
   "metadata": {},
   "outputs": [],
   "source": []
  },
  {
   "cell_type": "code",
   "execution_count": null,
   "metadata": {},
   "outputs": [],
   "source": []
  },
  {
   "cell_type": "code",
   "execution_count": null,
   "metadata": {},
   "outputs": [],
   "source": []
  }
 ],
 "metadata": {
  "interpreter": {
   "hash": "ca3d29f37a1a1c4f5e7a988c75b7db15a8dc84e630022593e41cd81ca2ea4c4a"
  },
  "kernelspec": {
   "display_name": "Python 3.8.5 64-bit ('base': conda)",
   "name": "python3"
  },
  "language_info": {
   "codemirror_mode": {
    "name": "ipython",
    "version": 3
   },
   "file_extension": ".py",
   "mimetype": "text/x-python",
   "name": "python",
   "nbconvert_exporter": "python",
   "pygments_lexer": "ipython3",
   "version": "3.8.5"
  },
  "orig_nbformat": 4
 },
 "nbformat": 4,
 "nbformat_minor": 2
}
