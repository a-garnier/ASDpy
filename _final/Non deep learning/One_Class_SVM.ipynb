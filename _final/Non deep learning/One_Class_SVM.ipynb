{
  "nbformat": 4,
  "nbformat_minor": 0,
  "metadata": {
    "colab": {
      "name": "One-Class SVM.ipynb",
      "provenance": [],
      "machine_shape": "hm"
    },
    "kernelspec": {
      "name": "python3",
      "display_name": "Python 3"
    },
    "language_info": {
      "name": "python"
    },
    "accelerator": "GPU"
  },
  "cells": [
    {
      "cell_type": "markdown",
      "metadata": {
        "id": "ZNL5htTOmfIK"
      },
      "source": [
        "\n",
        "\n",
        "One-Class Support Vector Machine (OC-SVM) est une méthode de détection d’anomalies qui applique des algorithmes de SVM.\n",
        "\n"
      ]
    },
    {
      "cell_type": "code",
      "metadata": {
        "colab": {
          "base_uri": "https://localhost:8080/"
        },
        "id": "BecbIsq8hGyi",
        "outputId": "9d992c06-f7c4-40a4-9f10-7334a6b15980"
      },
      "source": [
        "from google.colab import drive\n",
        "drive.mount('/content/drive',force_remount=True)\n"
      ],
      "execution_count": 2,
      "outputs": [
        {
          "output_type": "stream",
          "name": "stdout",
          "text": [
            "Mounted at /content/drive\n"
          ]
        }
      ]
    },
    {
      "cell_type": "code",
      "metadata": {
        "id": "zzrNN0e2g-0D"
      },
      "source": [
        "import pandas as pd\n",
        "import matplotlib.pyplot as plt\n",
        "import numpy as np\n",
        "import matplotlib.font_manager\n",
        "from sklearn import svm"
      ],
      "execution_count": 3,
      "outputs": []
    },
    {
      "cell_type": "code",
      "metadata": {
        "id": "yvlnXho5hE5k"
      },
      "source": [
        "##Création du dataframe Train \n",
        "df_train=pd.read_csv('drive/MyDrive/Projet Son/df_train.csv',header=0,index_col=0)"
      ],
      "execution_count": 4,
      "outputs": []
    },
    {
      "cell_type": "code",
      "metadata": {
        "id": "yZ7GUjiTjlBd"
      },
      "source": [
        "#La realisation d'un pca et/ou l'execution de modèles sur des données de si grande dimension étant impossible même avec des ressources Ram très importantes, nous le lançons sur une partie seulement du jeu de donnée en partant du principe qu'on pourra le generaliser à l'ensemble du modèle\n",
        "df_train_topca = df_train.sample(frac=0.4)\n"
      ],
      "execution_count": 5,
      "outputs": []
    },
    {
      "cell_type": "code",
      "metadata": {
        "id": "AE9wYeuJjmN9"
      },
      "source": [
        "#Preparation des données \n",
        "target = df_train_topca['Target_ano']\n",
        "data = df_train_topca.drop(['Machine','ID','file','Target_ano'],axis=1)"
      ],
      "execution_count": 6,
      "outputs": []
    },
    {
      "cell_type": "code",
      "metadata": {
        "colab": {
          "base_uri": "https://localhost:8080/"
        },
        "id": "VjDMkTlSjuPe",
        "outputId": "dc40c5fb-e92b-4657-e771-7b10b04b061d"
      },
      "source": [
        "#Réalisation d'un PCA pour ne conserver que les features (pixel) qui génèrent de la variance.\n",
        "#L'idée était de partir sur l'hypothèse qu'une majorité de pixels des spectogrammes ne sont pas utiles à l'analyse.\n",
        "from sklearn.decomposition import PCA\n",
        "pca = PCA(n_components = 0.9)\n",
        "pca.fit(data)\n",
        "print(\"Nombre de composantes retenues :\", pca.n_components_)"
      ],
      "execution_count": 7,
      "outputs": [
        {
          "output_type": "stream",
          "name": "stdout",
          "text": [
            "Nombre de composantes retenues : 945\n"
          ]
        }
      ]
    },
    {
      "cell_type": "code",
      "metadata": {
        "id": "B-NtkR9SjztU"
      },
      "source": [
        "Data_pca=pca.transform(data)"
      ],
      "execution_count": 8,
      "outputs": []
    },
    {
      "cell_type": "code",
      "metadata": {
        "id": "lTq6-PWXpTwY"
      },
      "source": [
        "df_test=pd.read_csv('drive/MyDrive/Projet Son/df_test.csv',header=0,index_col=0)"
      ],
      "execution_count": 11,
      "outputs": []
    },
    {
      "cell_type": "code",
      "metadata": {
        "id": "G1p_xLhcvLyN"
      },
      "source": [
        "target_test = df_test['Target_ano']\n",
        "data_test = df_test.drop(['Machine','ID','file','Target_ano'],axis=1)"
      ],
      "execution_count": 13,
      "outputs": []
    },
    {
      "cell_type": "code",
      "metadata": {
        "id": "78OVzSKGvl4d"
      },
      "source": [
        "Data_test_pca=pca.transform(data_test)"
      ],
      "execution_count": 14,
      "outputs": []
    },
    {
      "cell_type": "code",
      "metadata": {
        "id": "rxlQLBlbhOkF"
      },
      "source": [
        "#Instanciation et entrainement du modèle one class SVM\n",
        "from sklearn.svm import OneClassSVM\n",
        "model = OneClassSVM (gamma='scale', nu=0.01)\n",
        "model.fit(data)"
      ],
      "execution_count": null,
      "outputs": []
    },
    {
      "cell_type": "code",
      "metadata": {
        "id": "qKdliTqcHEkQ"
      },
      "source": [
        "#Predictions\n",
        "y_pred_train = model.predict(data)\n",
        "\n",
        "n_error_train = y_pred_train[y_pred_train == -1].size"
      ],
      "execution_count": null,
      "outputs": []
    },
    {
      "cell_type": "code",
      "metadata": {
        "id": "atQ5snwr-gGD"
      },
      "source": [
        "y_pred_test = model.predict(data_test)\n",
        "n_error_test = y_pred_test[y_pred_test == -1].size"
      ],
      "execution_count": 15,
      "outputs": []
    },
    {
      "cell_type": "code",
      "metadata": {
        "colab": {
          "base_uri": "https://localhost:8080/",
          "height": 142
        },
        "id": "oeClRe5S-U3t",
        "outputId": "5fb07781-66fa-4f52-a1f2-3d691cc126c2"
      },
      "source": [
        "pd.crosstab(target_test,y_pred_test)\n",
        "# les résultats obtenus sont inexploitables.\n"
      ],
      "execution_count": 16,
      "outputs": [
        {
          "output_type": "execute_result",
          "data": {
            "text/html": [
              "<div>\n",
              "<style scoped>\n",
              "    .dataframe tbody tr th:only-of-type {\n",
              "        vertical-align: middle;\n",
              "    }\n",
              "\n",
              "    .dataframe tbody tr th {\n",
              "        vertical-align: top;\n",
              "    }\n",
              "\n",
              "    .dataframe thead th {\n",
              "        text-align: right;\n",
              "    }\n",
              "</style>\n",
              "<table border=\"1\" class=\"dataframe\">\n",
              "  <thead>\n",
              "    <tr style=\"text-align: right;\">\n",
              "      <th>col_0</th>\n",
              "      <th>-1</th>\n",
              "      <th>1</th>\n",
              "    </tr>\n",
              "    <tr>\n",
              "      <th>Target_ano</th>\n",
              "      <th></th>\n",
              "      <th></th>\n",
              "    </tr>\n",
              "  </thead>\n",
              "  <tbody>\n",
              "    <tr>\n",
              "      <th>0</th>\n",
              "      <td>45</td>\n",
              "      <td>5354</td>\n",
              "    </tr>\n",
              "    <tr>\n",
              "      <th>1</th>\n",
              "      <td>68</td>\n",
              "      <td>5401</td>\n",
              "    </tr>\n",
              "  </tbody>\n",
              "</table>\n",
              "</div>"
            ],
            "text/plain": [
              "col_0       -1     1\n",
              "Target_ano          \n",
              "0           45  5354\n",
              "1           68  5401"
            ]
          },
          "metadata": {},
          "execution_count": 16
        }
      ]
    }
  ]
}