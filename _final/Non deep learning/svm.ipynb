{
  "nbformat": 4,
  "nbformat_minor": 0,
  "metadata": {
    "accelerator": "GPU",
    "colab": {
      "name": "svm.ipynb",
      "provenance": [],
      "collapsed_sections": [],
      "machine_shape": "hm"
    },
    "kernelspec": {
      "display_name": "Python 3",
      "name": "python3"
    },
    "language_info": {
      "name": "python"
    }
  },
  "cells": [
    {
      "cell_type": "markdown",
      "metadata": {
        "id": "1g42gsMzovmk"
      },
      "source": [
        "\n",
        "\n",
        "> l'exécution a été réalisée sur Google Collab en package pro. En raison du traitement des images en arrays et dataframe, le ram utilisé est importante et afin de réduire les délais d'execution, l'ensemble des fichiers CSV était déjà créés et stockés dans le drive.\n",
        "\n",
        "> L'execution de ce script doit se faire une fois ces fichiers CSV créés et présents sur le drive.\n",
        "\n",
        "NB: Le stockage de l'ensemble des fichiers contenant plus de 30k features (pixels) necessite un espace important/ Des optimisations sont evidemment necessaires pour maximiser la ressource disponible\n",
        "\n",
        "\n"
      ]
    },
    {
      "cell_type": "code",
      "metadata": {
        "colab": {
          "base_uri": "https://localhost:8080/"
        },
        "id": "CO7jAhg-kFB3",
        "outputId": "d11ee98a-886e-4c95-8d4f-8816fc236b6c"
      },
      "source": [
        "from google.colab import drive\n",
        "drive.mount('/content/drive',force_remount=True)\n",
        "\n"
      ],
      "execution_count": 2,
      "outputs": [
        {
          "output_type": "stream",
          "name": "stdout",
          "text": [
            "Mounted at /content/drive\n"
          ]
        }
      ]
    },
    {
      "cell_type": "code",
      "metadata": {
        "id": "gQsv2qhYrirE"
      },
      "source": [
        "import pandas as pd\n",
        "import matplotlib.pyplot as plt\n",
        "import numpy as np"
      ],
      "execution_count": 3,
      "outputs": []
    },
    {
      "cell_type": "code",
      "metadata": {
        "id": "2p3VZ3MyxrHr"
      },
      "source": [
        "##Création du dataframe Train \n",
        "df_train=pd.read_csv('drive/MyDrive/Projet Son/df_train.csv',header=0,index_col=0)"
      ],
      "execution_count": 4,
      "outputs": []
    },
    {
      "cell_type": "code",
      "metadata": {
        "id": "1B9izYCNv3H6"
      },
      "source": [
        "#Encodage des machines pour créer les classes \n",
        "from sklearn.preprocessing import LabelEncoder\n",
        "LE = LabelEncoder()\n",
        "df_train['class'] = LE.fit_transform(df_train['Machine'])"
      ],
      "execution_count": 5,
      "outputs": []
    },
    {
      "cell_type": "code",
      "metadata": {
        "id": "b7zxojeSBqXr"
      },
      "source": [
        "#La realisation d'un pca et/ou l'execution de modèles sur des données de si grande dimension étant impossible même avec des ressources Ram très importantes, nous le lançons sur une partie seulement du jeu de donnée en partant du principe qu'on pourra le generaliser à l'ensemble du modèle\n",
        "df_train_topca = df_train.sample(frac=0.4)"
      ],
      "execution_count": 6,
      "outputs": []
    },
    {
      "cell_type": "code",
      "metadata": {
        "colab": {
          "base_uri": "https://localhost:8080/"
        },
        "id": "vcxXRFK6xUtt",
        "outputId": "3a9ffb28-4272-411d-f02a-5fc292ff0c34"
      },
      "source": [
        "#Decompte des éléments présents dans la selection par classe\n",
        "df_train_topca['class'].value_counts()"
      ],
      "execution_count": 7,
      "outputs": [
        {
          "output_type": "execute_result",
          "data": {
            "text/plain": [
              "0    1612\n",
              "2    1490\n",
              "3    1338\n",
              "5    1318\n",
              "1    1195\n",
              "4    1095\n",
              "Name: class, dtype: int64"
            ]
          },
          "metadata": {},
          "execution_count": 7
        }
      ]
    },
    {
      "cell_type": "code",
      "metadata": {
        "id": "gXBSnHYlaJTo"
      },
      "source": [
        "#Preparation des données \n",
        "target = df_train_topca['class']\n",
        "data = df_train_topca.drop(['Machine','ID','file','Target_ano','class'],axis=1)"
      ],
      "execution_count": 9,
      "outputs": []
    },
    {
      "cell_type": "code",
      "metadata": {
        "id": "qX3pWTLgdV1T",
        "colab": {
          "base_uri": "https://localhost:8080/"
        },
        "outputId": "dffc54c1-7566-4646-ef7a-08dac802e109"
      },
      "source": [
        "#Réalisation d'un PCA pour ne conserver que les features (pixel) qui génèrent de la variance.\n",
        "#L'idée était de partir sur l'hypothèse qu'une majorité de pixels des spectogrammes ne sont pas utiles à l'analyse.\n",
        "from sklearn.decomposition import PCA\n",
        "pca = PCA(n_components = 0.9)\n",
        "pca.fit(data)\n",
        "print(\"Nombre de composantes retenues :\", pca.n_components_)"
      ],
      "execution_count": 10,
      "outputs": [
        {
          "output_type": "stream",
          "name": "stdout",
          "text": [
            "Nombre de composantes retenues : 955\n"
          ]
        }
      ]
    },
    {
      "cell_type": "code",
      "metadata": {
        "id": "wpFcHZxCGKK1"
      },
      "source": [
        "Data_pca=pca.transform(data)"
      ],
      "execution_count": 11,
      "outputs": []
    },
    {
      "cell_type": "code",
      "metadata": {
        "id": "FGkrfEMowoy0"
      },
      "source": [
        "from sklearn.model_selection import train_test_split, KFold, GridSearchCV\n",
        "\n",
        "X_train, X_test, y_train, y_test = train_test_split(Data_pca,target,test_size = .2)"
      ],
      "execution_count": 14,
      "outputs": []
    },
    {
      "cell_type": "code",
      "metadata": {
        "id": "X4UkG-EIv5zV"
      },
      "source": [
        "#Test de deux modèles SVM en utilisant un noyau polynomial\n",
        "from sklearn import svm, datasets\n",
        "import sklearn.model_selection as model_selection\n",
        "from sklearn.metrics import accuracy_score\n",
        "from sklearn.metrics import f1_score\n",
        "\n",
        "poly = svm.SVC(kernel='poly', degree=3, C=1).fit(X_train, y_train)"
      ],
      "execution_count": 15,
      "outputs": []
    },
    {
      "cell_type": "code",
      "metadata": {
        "id": "RAMGyKZ0Qr6C"
      },
      "source": [
        "#prédiction sur les données de tests\n",
        "poly_pred = poly.predict(X_test)\n"
      ],
      "execution_count": 16,
      "outputs": []
    },
    {
      "cell_type": "code",
      "metadata": {
        "colab": {
          "base_uri": "https://localhost:8080/"
        },
        "id": "vIMs8U4jaBsZ",
        "outputId": "6ec6fd28-34f1-4a5a-d392-34f60a7eb04c"
      },
      "source": [
        "svm_poly_accuracy = accuracy_score(y_test, poly_pred)\n",
        "svm_poly_f1 = f1_score(y_test, poly_pred, average='weighted')\n",
        "print('Accuracy (Poly): ', \"%.2f\" % (svm_poly_accuracy*100))\n",
        "print('F1 (Poly): ', \"%.2f\" % (svm_poly_f1*100))\n"
      ],
      "execution_count": 18,
      "outputs": [
        {
          "output_type": "stream",
          "name": "stdout",
          "text": [
            "Accuracy (Poly):  81.12\n",
            "F1 (Poly):  81.55\n"
          ]
        }
      ]
    },
    {
      "cell_type": "code",
      "metadata": {
        "id": "KcPLvIzhdixn",
        "colab": {
          "base_uri": "https://localhost:8080/"
        },
        "outputId": "d70e9a55-21df-4031-bcdb-651c1517d08d"
      },
      "source": [
        "from sklearn.metrics import classification_report, confusion_matrix\n",
        "\n",
        "print(confusion_matrix(y_test, poly_pred))\n",
        "print(classification_report(y_test, poly_pred))\n",
        "\n",
        "#les résultats sont assez bons, le modèle est assez performant sauf pour la classe 2 (Fan)"
      ],
      "execution_count": 22,
      "outputs": [
        {
          "output_type": "stream",
          "name": "stdout",
          "text": [
            "[[323   1   0   1   0   0]\n",
            " [  0 250   5   0   0   0]\n",
            " [  0   0 286   4   4   1]\n",
            " [  0   0 109 181   0   3]\n",
            " [  0   0  84   4  92   3]\n",
            " [  0   0  68  12   5 174]]\n",
            "              precision    recall  f1-score   support\n",
            "\n",
            "           0       1.00      0.99      1.00       325\n",
            "           1       1.00      0.98      0.99       255\n",
            "           2       0.52      0.97      0.68       295\n",
            "           3       0.90      0.62      0.73       293\n",
            "           4       0.91      0.50      0.65       183\n",
            "           5       0.96      0.67      0.79       259\n",
            "\n",
            "    accuracy                           0.81      1610\n",
            "   macro avg       0.88      0.79      0.81      1610\n",
            "weighted avg       0.88      0.81      0.82      1610\n",
            "\n"
          ]
        }
      ]
    },
    {
      "cell_type": "code",
      "metadata": {
        "id": "UGBnRHliSoTh"
      },
      "source": [
        "df_valid=pd.read_csv('drive/MyDrive/Projet Son/df_test.csv',header=0,index_col=0)"
      ],
      "execution_count": 33,
      "outputs": []
    },
    {
      "cell_type": "code",
      "metadata": {
        "id": "eFZUqDaNLTJn"
      },
      "source": [
        "df_valid['class'] = LE.fit_transform(df_valid['Machine'])\n",
        "target = df_valid['class']\n",
        "anomaly = df_valid['Target_ano']\n",
        "data = df_valid.drop(['Machine','ID','file','Target_ano','class'],axis=1)\n",
        "\n",
        "data_valid_pca=pca.transform(data)"
      ],
      "execution_count": 40,
      "outputs": []
    },
    {
      "cell_type": "code",
      "metadata": {
        "id": "24cFdjF7LS8v"
      },
      "source": [
        "poly_valid_pred = poly.predict(data_valid_pca)"
      ],
      "execution_count": 42,
      "outputs": []
    },
    {
      "cell_type": "code",
      "metadata": {
        "colab": {
          "base_uri": "https://localhost:8080/"
        },
        "id": "rVEo4oDhKaaf",
        "outputId": "0f4c3129-9bed-4d9b-9c92-b6c59465f5c9"
      },
      "source": [
        "\n",
        "print(confusion_matrix(target, poly_valid_pred))\n",
        "print(classification_report(target, poly_valid_pred))  \n",
        "#Les conclusions sur l'efficacité de l'identification des types de machine se confirme sur ce set de test.\n",
        "#Excellents résultats sur les équipements 0 et 1, bons sur les 3, 4 et 5 et mauvais sur la 2.\n",
        "#L'idée étant désormais à minima sur les machines bien reconnus de voir si le modèle nous permettrait d'identfier les anomalies\n"
      ],
      "execution_count": 44,
      "outputs": [
        {
          "output_type": "stream",
          "name": "stdout",
          "text": [
            "[[2456    1    2    0    0    0]\n",
            " [   0 3412   95    2    0    0]\n",
            " [   1    1 1717   94   33   29]\n",
            " [   0    2  358  462   10   24]\n",
            " [   1    0  593   93  546   57]\n",
            " [   0    1  251   50   28  549]]\n",
            "              precision    recall  f1-score   support\n",
            "\n",
            "           0       1.00      1.00      1.00      2459\n",
            "           1       1.00      0.97      0.99      3509\n",
            "           2       0.57      0.92      0.70      1875\n",
            "           3       0.66      0.54      0.59       856\n",
            "           4       0.88      0.42      0.57      1290\n",
            "           5       0.83      0.62      0.71       879\n",
            "\n",
            "    accuracy                           0.84     10868\n",
            "   macro avg       0.82      0.75      0.76     10868\n",
            "weighted avg       0.87      0.84      0.84     10868\n",
            "\n"
          ]
        }
      ]
    },
    {
      "cell_type": "code",
      "metadata": {
        "id": "SGa2X3kxfN7Q"
      },
      "source": [
        "df_valid[\"classes_predites\"]=poly_valid_pred"
      ],
      "execution_count": 45,
      "outputs": []
    },
    {
      "cell_type": "code",
      "metadata": {
        "id": "rWsIXPUvfbKO"
      },
      "source": [
        "df_bad_pred = df_valid[df_valid[\"classes_predites\"]!=df_valid[\"class\"]]"
      ],
      "execution_count": 46,
      "outputs": []
    },
    {
      "cell_type": "code",
      "metadata": {
        "colab": {
          "base_uri": "https://localhost:8080/"
        },
        "id": "TsShyPrDfvls",
        "outputId": "a549a8b3-c87c-4861-884a-5b7289f596e4"
      },
      "source": [
        "df_bad_pred['Target_ano'].value_counts()"
      ],
      "execution_count": 47,
      "outputs": [
        {
          "output_type": "execute_result",
          "data": {
            "text/plain": [
              "1    1178\n",
              "0     548\n",
              "Name: Target_ano, dtype: int64"
            ]
          },
          "metadata": {},
          "execution_count": 47
        }
      ]
    },
    {
      "cell_type": "code",
      "metadata": {
        "colab": {
          "base_uri": "https://localhost:8080/"
        },
        "id": "sReKcCm6gGeX",
        "outputId": "aa580f0c-0b80-4dd2-b818-ee038cd379f0"
      },
      "source": [
        "df_valid['Target_ano'].value_counts()\n",
        "#Cela nous indique que le modèle n'a identifié que 25% des enregistrements présentant des anomalies ce qui reste faible.\n",
        "# En revanche le fait que + de 66% des mauvaises prédictions soient des enregistrements présentant une anomalie laisse penser que même si le modèle ne donne pas \n",
        "#satisfaction, il laisse supposer que coupler une approche de classification efficace avec une autre approche pourrait donner de bons résultats."
      ],
      "execution_count": 48,
      "outputs": [
        {
          "output_type": "execute_result",
          "data": {
            "text/plain": [
              "1    5469\n",
              "0    5399\n",
              "Name: Target_ano, dtype: int64"
            ]
          },
          "metadata": {},
          "execution_count": 48
        }
      ]
    },
    {
      "cell_type": "code",
      "metadata": {
        "colab": {
          "base_uri": "https://localhost:8080/"
        },
        "id": "IJV8FFx1h2cr",
        "outputId": "06aaf5c9-2d13-4fe6-d0fb-8ea5382abbd7"
      },
      "source": [
        "#Analysons les résultats cette fois en se concentrant sur les machines 0 et 1 pour lesquelles le modèle fonctionne très bien.\n",
        "\n",
        "df_bad_pred_zoom=df_bad_pred[df_bad_pred[\"class\"]==0]\n",
        "df_bad_pred_zoom['Target_ano'].value_counts()"
      ],
      "execution_count": 54,
      "outputs": [
        {
          "output_type": "execute_result",
          "data": {
            "text/plain": [
              "1    2\n",
              "0    1\n",
              "Name: Target_ano, dtype: int64"
            ]
          },
          "metadata": {},
          "execution_count": 54
        }
      ]
    },
    {
      "cell_type": "code",
      "metadata": {
        "colab": {
          "base_uri": "https://localhost:8080/"
        },
        "id": "2qzgT7HVibuS",
        "outputId": "95e0aca0-b939-46ea-f8c3-732a70df5e78"
      },
      "source": [
        "df_valid_0=df_valid[df_valid[\"class\"]==0]\n",
        "df_valid_0['Target_ano'].value_counts()\n",
        "#On observe malheureusement que même si la classification fonctionne très bien, aucune information ne peut vraiment être exploité quant à la détection d'anomalie"
      ],
      "execution_count": 56,
      "outputs": [
        {
          "output_type": "execute_result",
          "data": {
            "text/plain": [
              "0    1400\n",
              "1    1059\n",
              "Name: Target_ano, dtype: int64"
            ]
          },
          "metadata": {},
          "execution_count": 56
        }
      ]
    },
    {
      "cell_type": "code",
      "metadata": {
        "id": "_k2GrUPasT6I"
      },
      "source": [
        ""
      ],
      "execution_count": null,
      "outputs": []
    }
  ]
}