{
  "nbformat": 4,
  "nbformat_minor": 0,
  "metadata": {
    "colab": {
      "name": "Isolation Forest.ipynb",
      "provenance": [],
      "machine_shape": "hm"
    },
    "kernelspec": {
      "name": "python3",
      "display_name": "Python 3"
    },
    "language_info": {
      "name": "python"
    },
    "accelerator": "GPU"
  },
  "cells": [
    {
      "cell_type": "markdown",
      "metadata": {
        "id": "OmOdUWJQpuN6"
      },
      "source": [
        "l'exécution a été réalisée sur Google Collab en package pro. En raison du traitement des images en arrays et dataframe, le ram utilisé est importante et afin de réduire les délais d'execution, l'ensemble des fichiers CSV était déjà créés et stockés dans le drive.\n",
        "\n",
        "L'execution de ce script doit se faire une fois ces fichiers CSV créés et présents sur le drive.\n",
        "\n",
        "Approche non supervisée utilisation l'algorythme de l'isolation forest sur les features (pixel) de l'image. La recherche des paramètre optimum via Grid search n'a pas permi d'exploiter cette approche."
      ]
    },
    {
      "cell_type": "code",
      "metadata": {
        "colab": {
          "base_uri": "https://localhost:8080/"
        },
        "id": "6X72SbrKoURX",
        "outputId": "ff251a9d-7c0e-432c-ca3a-8d9bb5b8d03d"
      },
      "source": [
        "from google.colab import drive\n",
        "drive.mount('/content/drive',force_remount=True)"
      ],
      "execution_count": null,
      "outputs": [
        {
          "output_type": "stream",
          "name": "stdout",
          "text": [
            "Mounted at /content/drive\n"
          ]
        }
      ]
    },
    {
      "cell_type": "code",
      "metadata": {
        "id": "QEAj5w3uojKp"
      },
      "source": [
        "import pandas as pd\n",
        "import matplotlib.pyplot as plt\n",
        "import numpy as np"
      ],
      "execution_count": null,
      "outputs": []
    },
    {
      "cell_type": "code",
      "metadata": {
        "id": "6c5nr-fnZ9l7"
      },
      "source": [
        "##Création du dataframe total contenant toutes les données pour toutes les images\n",
        "df_total=pd.read_csv('drive/MyDrive/Projet Son/df_total.csv',header=0,index_col=0)"
      ],
      "execution_count": null,
      "outputs": []
    },
    {
      "cell_type": "code",
      "metadata": {
        "id": "Q6qwouKzZ9ga"
      },
      "source": [
        "#La realisation d'un pca et/ou l'execution de modèles sur des données de si grande dimension étant impossible même avec des ressources Ram très importantes, nous le lançons sur une partie seulement du jeu de donnée en partant du principe qu'on pourra le generaliser à l'ensemble du modèle\n",
        "df_total_topca = df_total.sample(frac=0.4)\n"
      ],
      "execution_count": null,
      "outputs": []
    },
    {
      "cell_type": "code",
      "metadata": {
        "colab": {
          "base_uri": "https://localhost:8080/"
        },
        "id": "-MiWG5RZZ9Yn",
        "outputId": "0ab74b7d-df01-4015-ab44-0ca45c672089"
      },
      "source": [
        "df_total_topca['Target_ano'].value_counts()"
      ],
      "execution_count": null,
      "outputs": [
        {
          "output_type": "execute_result",
          "data": {
            "text/plain": [
              "0    10173\n",
              "1     2222\n",
              "Name: Target_ano, dtype: int64"
            ]
          },
          "metadata": {},
          "execution_count": 7
        }
      ]
    },
    {
      "cell_type": "code",
      "metadata": {
        "id": "sILGHb2AZ9Pz"
      },
      "source": [
        "#Preparation des données \n",
        "target = df_total_topca['Target_ano']\n",
        "data = df_total_topca.drop(['Machine','ID','file','Target_ano'],axis=1)"
      ],
      "execution_count": null,
      "outputs": []
    },
    {
      "cell_type": "code",
      "metadata": {
        "colab": {
          "base_uri": "https://localhost:8080/"
        },
        "id": "v1a0EoJiGb53",
        "outputId": "7a7ee177-92ae-477d-ad39-170b84e72220"
      },
      "source": [
        "#Réalisation d'un PCA pour ne conserver que les features (pixel) qui génèrent de la variance.\n",
        "#L'idée était de partir sur l'hypothèse qu'une majorité de pixels des spectogrammes ne sont pas utiles à l'analyse.\n",
        "from sklearn.decomposition import PCA\n",
        "pca = PCA(n_components = 0.9)\n",
        "pca.fit(data)\n",
        "print(\"Nombre de composantes retenues :\", pca.n_components_)"
      ],
      "execution_count": null,
      "outputs": [
        {
          "output_type": "stream",
          "name": "stdout",
          "text": [
            "Nombre de composantes retenues : 1106\n"
          ]
        }
      ]
    },
    {
      "cell_type": "code",
      "metadata": {
        "id": "xDcvsa2jWb7X"
      },
      "source": [
        "Data_pca=pca.transform(data)"
      ],
      "execution_count": 10,
      "outputs": []
    },
    {
      "cell_type": "code",
      "metadata": {
        "id": "IbwdxmHpbGs0"
      },
      "source": [
        "from sklearn.model_selection import train_test_split\n",
        "X_train, X_test, y_train, y_test = train_test_split(Data_pca,target,test_size = .2)"
      ],
      "execution_count": 15,
      "outputs": []
    },
    {
      "cell_type": "code",
      "metadata": {
        "id": "lj9DJj3sZ8-6",
        "colab": {
          "base_uri": "https://localhost:8080/"
        },
        "outputId": "f3931bcd-4e55-4b7a-a34b-a0129a5d1f82"
      },
      "source": [
        "from sklearn.ensemble import IsolationForest\n",
        "from sklearn.model_selection import GridSearchCV\n",
        "from sklearn.model_selection import cross_val_score\n",
        "from sklearn.metrics import mean_squared_error\n",
        "from sklearn import model_selection\n",
        "\n",
        "model = IsolationForest(random_state=47)\n",
        "\n",
        "param_grid = {'n_estimators': [1000, 1500], \n",
        "              'max_samples': [10], \n",
        "              'contamination': ['auto', 0.0001, 0.0002], \n",
        "              'max_features': [10, 15], \n",
        "              'bootstrap': [True], \n",
        "              'n_jobs': [-1]}\n",
        "\n",
        "grid_search = model_selection.GridSearchCV(model, \n",
        "                                           param_grid,\n",
        "                                           scoring=\"neg_mean_squared_error\", \n",
        "                                           refit=True,\n",
        "                                           cv=10, \n",
        "                                           return_train_score=True)\n",
        "grid_search.fit(X_train, y_train)\n",
        "\n",
        "best_model = grid_search.fit(X_train, y_train)\n",
        "print('Optimum parameters', best_model.best_params_)\n"
      ],
      "execution_count": 18,
      "outputs": [
        {
          "output_type": "stream",
          "name": "stdout",
          "text": [
            "Optimum parameters {'bootstrap': True, 'contamination': 0.0001, 'max_features': 10, 'max_samples': 10, 'n_estimators': 1000, 'n_jobs': -1}\n"
          ]
        }
      ]
    },
    {
      "cell_type": "code",
      "metadata": {
        "id": "x5hcgQYykS5I",
        "colab": {
          "base_uri": "https://localhost:8080/",
          "height": 142
        },
        "outputId": "3830d2ac-f8da-4d2e-8a43-9cfb68b4aeae"
      },
      "source": [
        "Y_score=best_model.decision_function(X_train)\n",
        "Y_pred=best_model.predict(X_train)\n",
        "pd.crosstab(Y_pred,y_train)\n",
        "\n",
        "# Les résultats obtenus sont mauvais. aucune des anomalies (1) n'a été identifié par le modèle.\n",
        "\n"
      ],
      "execution_count": 24,
      "outputs": [
        {
          "output_type": "execute_result",
          "data": {
            "text/html": [
              "<div>\n",
              "<style scoped>\n",
              "    .dataframe tbody tr th:only-of-type {\n",
              "        vertical-align: middle;\n",
              "    }\n",
              "\n",
              "    .dataframe tbody tr th {\n",
              "        vertical-align: top;\n",
              "    }\n",
              "\n",
              "    .dataframe thead th {\n",
              "        text-align: right;\n",
              "    }\n",
              "</style>\n",
              "<table border=\"1\" class=\"dataframe\">\n",
              "  <thead>\n",
              "    <tr style=\"text-align: right;\">\n",
              "      <th>Target_ano</th>\n",
              "      <th>0</th>\n",
              "      <th>1</th>\n",
              "    </tr>\n",
              "    <tr>\n",
              "      <th>row_0</th>\n",
              "      <th></th>\n",
              "      <th></th>\n",
              "    </tr>\n",
              "  </thead>\n",
              "  <tbody>\n",
              "    <tr>\n",
              "      <th>-1</th>\n",
              "      <td>1</td>\n",
              "      <td>0</td>\n",
              "    </tr>\n",
              "    <tr>\n",
              "      <th>1</th>\n",
              "      <td>8145</td>\n",
              "      <td>1770</td>\n",
              "    </tr>\n",
              "  </tbody>\n",
              "</table>\n",
              "</div>"
            ],
            "text/plain": [
              "Target_ano     0     1\n",
              "row_0                 \n",
              "-1             1     0\n",
              " 1          8145  1770"
            ]
          },
          "metadata": {},
          "execution_count": 24
        }
      ]
    }
  ]
}