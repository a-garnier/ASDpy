{
  "nbformat": 4,
  "nbformat_minor": 0,
  "metadata": {
    "colab": {
      "name": "Create arrays files.ipynb",
      "provenance": [],
      "collapsed_sections": []
    },
    "kernelspec": {
      "name": "python3",
      "display_name": "Python 3"
    },
    "language_info": {
      "name": "python"
    }
  },
  "cells": [
    {
      "cell_type": "markdown",
      "metadata": {
        "id": "TENjO1nuKD2q"
      },
      "source": [
        "Ce script permet la création et la sauvegarde de l'ensemble des fichiers arrays obtenus à partir des fichiers images spectogrammes.\n",
        "\n",
        "Pré-requis au lancement de ce script: Les fichiers image des spectogramme en noir et blanc doivent être présents et stockées dans une arborescence tel que decrite ailleurs dans ce projet.\n"
      ]
    },
    {
      "cell_type": "code",
      "metadata": {
        "id": "6m5o1kofG2Ok"
      },
      "source": [
        "\n",
        "import pandas as pd\n",
        "from os.path import isfile, join\n",
        "import os\n",
        "import seaborn as sns\n",
        "import matplotlib.pyplot as plt\n",
        "import numpy as np\n",
        "from PIL import Image, ImageFilter\n",
        "from pathlib import Path\n",
        "from os import listdir\n",
        "\n",
        "\"\"\"Fonction permettant de créer les fichiers arrays à partir des spectogrammes\"\"\"\n",
        "\n",
        "def convertImageInArray(imageFolder, ArrayFolder):\n",
        "\n",
        "    if not os.path.exists(ArrayFolder):\n",
        "        os.makedirs(ArrayFolder)\n",
        "    \n",
        "    Imfiles = [f for f in listdir(imageFolder) if isfile(join(imageFolder, f))]\n",
        "        # wavfiles.remove('.DS_Store')\n",
        "    for f in Imfiles:\n",
        "        if f[-4:] != '.png':\n",
        "            # ignore non .pngfiles\n",
        "            continue\n",
        "\n",
        "        img= Image.open(imageFolder+f)\n",
        "        if img.size != (313,128):\n",
        "            img= img.resize((313,128))\n",
        "        img_array= np.array(img)\n",
        "        filename=ArrayFolder+f[:-4]+'.txt'\n",
        "        np.savetxt(filename,img_array.astype(int), fmt='%i', delimiter=\",\")\n",
        "            \n",
        "\"\"\"Structure de l'arborescence à prendre compte en entrée de la fonction\"\"\"\n",
        "\n",
        "machines = ['fan', 'pump', 'slider', 'ToyCar', 'ToyConveyor', 'valve']\n",
        "sets = ['train_png', 'test_png']\n",
        "\n",
        "\"\"\"Execution de la boucle permettant la création des fichiers\"\"\"\n",
        "\n",
        "for machine in machines:\n",
        "    for s in sets:\n",
        "        imageFolder='/content/drive/MyDrive/Projet Son/Data/'+machine+'/'+s+'/'\n",
        "        ArrayFolder='/content/drive/MyDrive/Projet Son/Data/'+machine+'/'+s+'_arrays'+'/'\n",
        "        convertImageInArray(imageFolder,ArrayFolder)\n",
        "  \n"
      ],
      "execution_count": null,
      "outputs": []
    }
  ]
}