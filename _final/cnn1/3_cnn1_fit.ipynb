{
 "cells": [
  {
   "cell_type": "markdown",
   "metadata": {},
   "source": [
    "<h1>Fit a CNN on the pngs files</h1>"
   ]
  },
  {
   "cell_type": "code",
   "execution_count": null,
   "metadata": {},
   "outputs": [],
   "source": [
    "# !pip install tensorflow"
   ]
  },
  {
   "cell_type": "code",
   "execution_count": 1,
   "metadata": {},
   "outputs": [],
   "source": [
    "\"\"\"\n",
    "    Fit a CNN per machine (on the pngs files in machine/png_train)\n",
    "    from: https://keras.io/examples/vision/image_classification_from_scratch/\n",
    "\"\"\"\n",
    "import os \n",
    "import datetime\n",
    "import sys\n",
    "import tensorflow as tf\n",
    "from tensorflow import keras\n",
    "from tensorflow.keras import layers\n",
    "\n",
    "# add parent folder to path \n",
    "from pathlib import Path\n",
    "path = Path(os.getcwd())\n",
    "str_parent = str(path.parent.absolute())\n",
    "if not str_parent in sys.path:\n",
    "    sys.path.append(str_parent)\n",
    "import utils \n",
    "from SoundFile import SoundFile\n",
    "\n"
   ]
  },
  {
   "cell_type": "code",
   "execution_count": 9,
   "metadata": {},
   "outputs": [],
   "source": [
    "image_size = (333, 216)\n",
    "batch_size = 32\n",
    "epochs = 2\n",
    "# epochs = 8\n",
    "data_augmentation = keras.Sequential(\n",
    "    [\n",
    "        # layers.experimental.preprocessing.RandomFlip(\"horizontal\"),\n",
    "        # layers.experimental.preprocessing.RandomRotation(0.1),\n",
    "    ]\n",
    ")\n"
   ]
  },
  {
   "cell_type": "code",
   "execution_count": 10,
   "metadata": {},
   "outputs": [],
   "source": [
    "\n",
    "# Initialising the CNN v4: make model\n",
    "def make_model(input_shape):\n",
    "    inputs = keras.Input(shape=input_shape)\n",
    "    # Image augmentation block\n",
    "    x = data_augmentation(inputs)    \n",
    "    # Entry block\n",
    "    x = layers.experimental.preprocessing.Rescaling(1.0 / 255)(x)\n",
    "    x = layers.Conv2D(32, 3, strides=2, padding=\"same\")(x)\n",
    "    x = layers.BatchNormalization()(x)\n",
    "    x = layers.Activation(\"relu\")(x)\n",
    "\n",
    "    x = layers.Conv2D(64, 3, padding=\"same\")(x)\n",
    "    x = layers.BatchNormalization()(x)\n",
    "    x = layers.Activation(\"relu\")(x)\n",
    "\n",
    "    previous_block_activation = x  # Set aside residual\n",
    "\n",
    "    # for size in [128, 256]:\n",
    "    for size in [128]:\n",
    "        x = layers.Activation(\"relu\")(x)\n",
    "        x = layers.SeparableConv2D(size, 3, padding=\"same\")(x)\n",
    "        x = layers.BatchNormalization()(x)\n",
    "\n",
    "        x = layers.Activation(\"relu\")(x)\n",
    "        x = layers.SeparableConv2D(size, 3, padding=\"same\")(x)\n",
    "        x = layers.BatchNormalization()(x)\n",
    "\n",
    "        x = layers.MaxPooling2D(3, strides=2, padding=\"same\")(x)\n",
    "\n",
    "        residual = layers.Conv2D(size, 1, strides=2, padding=\"same\")(\n",
    "            previous_block_activation\n",
    "        )\n",
    "        x = layers.add([x, residual])  # Add back residual\n",
    "        previous_block_activation = x  # Set aside next residual\n",
    "\n",
    "    x = layers.SeparableConv2D(1024, 3, padding=\"same\")(x)\n",
    "    x = layers.BatchNormalization()(x)\n",
    "    x = layers.Activation(\"relu\")(x)\n",
    "\n",
    "    x = layers.GlobalAveragePooling2D()(x)\n",
    "\n",
    "    x = layers.Dropout(0.5)(x)\n",
    "    outputs = layers.Dense(1, activation=\"sigmoid\")(x)\n",
    "    return keras.Model(inputs, outputs)\n"
   ]
  },
  {
   "cell_type": "code",
   "execution_count": 11,
   "metadata": {},
   "outputs": [],
   "source": [
    "\n",
    "model = make_model(input_shape=image_size + (3,))\n",
    "model.compile(\n",
    "    optimizer=keras.optimizers.Adam(1e-3),\n",
    "    loss=\"binary_crossentropy\",\n",
    "    metrics=[\"accuracy\"],\n",
    ")\n"
   ]
  },
  {
   "cell_type": "code",
   "execution_count": 12,
   "metadata": {},
   "outputs": [
    {
     "name": "stdout",
     "output_type": "stream",
     "text": [
      "Processing:  ../../_data_png_cnn1/valve/png_train ...\n",
      "Found 3678 files belonging to 2 classes.\n",
      "Using 2943 files for training.\n",
      "Found 3678 files belonging to 2 classes.\n",
      "Using 735 files for validation.\n",
      "Epoch 1/2\n",
      "92/92 [==============================] - 532s 6s/step - loss: 0.3632 - accuracy: 0.8852 - val_loss: 0.6374 - val_accuracy: 0.9020\n",
      "Epoch 2/2\n",
      "92/92 [==============================] - 537s 6s/step - loss: 0.3135 - accuracy: 0.8950 - val_loss: 0.5815 - val_accuracy: 0.9020\n"
     ]
    },
    {
     "name": "stderr",
     "output_type": "stream",
     "text": [
      "/Users/david/opt/anaconda3/lib/python3.8/site-packages/tensorflow/python/keras/utils/generic_utils.py:494: CustomMaskWarning: Custom mask layers require a config and must override get_config. When loading, the custom mask layer must be passed to the custom_objects argument.\n",
      "  warnings.warn('Custom mask layers require a config and must override '\n"
     ]
    },
    {
     "name": "stdout",
     "output_type": "stream",
     "text": [
      "valve : model saved:  ../../_classifiers/cnn_valve.h5\n",
      "Processing:  ../../_data_png_cnn1/slider/png_train ...\n",
      "Found 3598 files belonging to 2 classes.\n",
      "Using 2879 files for training.\n",
      "Found 3598 files belonging to 2 classes.\n",
      "Using 719 files for validation.\n",
      "Epoch 1/2\n",
      "90/90 [==============================] - 547s 6s/step - loss: 0.4213 - accuracy: 0.8204 - val_loss: 0.5028 - val_accuracy: 0.7858\n",
      "Epoch 2/2\n",
      "90/90 [==============================] - 566s 6s/step - loss: 0.3432 - accuracy: 0.8649 - val_loss: 0.6209 - val_accuracy: 0.7858\n",
      "slider : model saved:  ../../_classifiers/cnn_slider.h5\n",
      "Processing:  ../../_data_png_cnn1/pump/png_train ...\n",
      "Found 3711 files belonging to 2 classes.\n",
      "Using 2969 files for training.\n",
      "Found 3711 files belonging to 2 classes.\n",
      "Using 742 files for validation.\n",
      "Epoch 1/2\n",
      "93/93 [==============================] - 553s 6s/step - loss: 0.3261 - accuracy: 0.8969 - val_loss: 0.2995 - val_accuracy: 0.9124\n",
      "Epoch 2/2\n",
      "93/93 [==============================] - 527s 6s/step - loss: 0.3026 - accuracy: 0.8993 - val_loss: 0.2964 - val_accuracy: 0.9124\n",
      "pump : model saved:  ../../_classifiers/cnn_pump.h5\n",
      "Processing:  ../../_data_png_cnn1/ToyCar/png_train ...\n",
      "Found 4962 files belonging to 2 classes.\n",
      "Using 3970 files for training.\n",
      "Found 4962 files belonging to 2 classes.\n",
      "Using 992 files for validation.\n",
      "Epoch 1/2\n",
      "125/125 [==============================] - 687s 5s/step - loss: 0.4335 - accuracy: 0.8242 - val_loss: 5.0337 - val_accuracy: 0.2077\n",
      "Epoch 2/2\n",
      "125/125 [==============================] - 680s 5s/step - loss: 0.3549 - accuracy: 0.8557 - val_loss: 0.5831 - val_accuracy: 0.7984\n",
      "ToyCar : model saved:  ../../_classifiers/cnn_ToyCar.h5\n",
      "Processing:  ../../_data_png_cnn1/fan/png_train ...\n",
      "Found 5052 files belonging to 2 classes.\n",
      "Using 4042 files for training.\n",
      "Found 5052 files belonging to 2 classes.\n",
      "Using 1010 files for validation.\n",
      "Epoch 1/2\n",
      "127/127 [==============================] - 731s 6s/step - loss: 0.6686 - accuracy: 0.7024 - val_loss: 0.5927 - val_accuracy: 0.7267\n",
      "Epoch 2/2\n",
      "127/127 [==============================] - 747s 6s/step - loss: 0.5957 - accuracy: 0.7199 - val_loss: 0.6195 - val_accuracy: 0.6950\n",
      "fan : model saved:  ../../_classifiers/cnn_fan.h5\n",
      "Processing:  ../../_data_png_cnn1/ToyConveyor/png_train ...\n",
      "Found 4010 files belonging to 2 classes.\n",
      "Using 3208 files for training.\n",
      "Found 4010 files belonging to 2 classes.\n",
      "Using 802 files for validation.\n",
      "Epoch 1/2\n",
      "101/101 [==============================] - 602s 6s/step - loss: 0.5808 - accuracy: 0.7450 - val_loss: 0.5584 - val_accuracy: 0.7606\n",
      "Epoch 2/2\n",
      "101/101 [==============================] - 550s 5s/step - loss: 0.5719 - accuracy: 0.7447 - val_loss: 0.5471 - val_accuracy: 0.7606\n",
      "ToyConveyor : model saved:  ../../_classifiers/cnn_ToyConveyor.h5\n"
     ]
    }
   ],
   "source": [
    "# Part 2 - Fitting the CNN to the images\n",
    "for folder_machine in utils.list_datasets: \n",
    "    use_folder = '../../_data_png_cnn1/' + folder_machine + '/png_train'\n",
    "    print('Processing: ', use_folder, '...')\n",
    "    train_ds = tf.keras.preprocessing.image_dataset_from_directory(\n",
    "        use_folder,\n",
    "        validation_split=0.2,\n",
    "        subset=\"training\",\n",
    "        seed=1337,\n",
    "        image_size=image_size,\n",
    "        batch_size=batch_size,\n",
    "    )\n",
    "    val_ds = tf.keras.preprocessing.image_dataset_from_directory(\n",
    "        use_folder,\n",
    "        validation_split=0.2,\n",
    "        subset=\"validation\",\n",
    "        seed=1337,\n",
    "        image_size=image_size,\n",
    "        batch_size=batch_size,\n",
    "    )\n",
    "    model.fit(\n",
    "        train_ds, epochs=epochs, validation_data=val_ds,\n",
    "    )\n",
    "\n",
    "    # save the model to disk for this machine ----------------------- ' + datetime.datetime.now().strftime(\"%Y-%m-%d-%H-%M-%S\") + '_\n",
    "    filename_classifier = '../../_classifiers_cnn1/cnn_' + folder_machine + '.h5'\n",
    "    model.save(filename_classifier)\n",
    "    print(folder_machine, ': model saved: ', filename_classifier)\n"
   ]
  }
 ],
 "metadata": {
  "interpreter": {
   "hash": "ca3d29f37a1a1c4f5e7a988c75b7db15a8dc84e630022593e41cd81ca2ea4c4a"
  },
  "kernelspec": {
   "display_name": "Python 3.8.5 64-bit ('base': conda)",
   "name": "python3"
  },
  "language_info": {
   "codemirror_mode": {
    "name": "ipython",
    "version": 3
   },
   "file_extension": ".py",
   "mimetype": "text/x-python",
   "name": "python",
   "nbconvert_exporter": "python",
   "pygments_lexer": "ipython3",
   "version": "3.8.5"
  },
  "orig_nbformat": 4
 },
 "nbformat": 4,
 "nbformat_minor": 2
}
