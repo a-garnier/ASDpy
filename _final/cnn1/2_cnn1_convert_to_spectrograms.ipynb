{
 "cells": [
  {
   "cell_type": "markdown",
   "metadata": {},
   "source": [
    "<h1>Generate folders + Convert wav to spectrograms for the cnn model</h1>"
   ]
  },
  {
   "cell_type": "code",
   "execution_count": 7,
   "metadata": {},
   "outputs": [],
   "source": [
    "\"\"\"\n",
    "    Convert wavs from [machine]/* to color spectrograms into folders\n",
    "    # construct dataset of images spectrogram in folders:\n",
    "        # _data_png_cnn1/[machine]/png_train/normal\n",
    "        # _data_png_cnn1/[machine]/png_train/anormal\n",
    "        # _data_png_cnn1/[machine]/png_test is used for images tests never seen by the model\n",
    "\n",
    "\"\"\"\n",
    "\n",
    "from os import listdir\n",
    "from os.path import isfile, join\n",
    "import numpy as np\n",
    "import sys\n",
    "\n",
    "import datetime\n",
    "import os\n",
    "import shutil\n",
    "\n",
    "# add parent folder to path \n",
    "from pathlib import Path\n",
    "path = Path(os.getcwd())\n",
    "str_parent = str(path.parent.absolute())\n",
    "if not str_parent in sys.path:\n",
    "    sys.path.append(str_parent)\n",
    "import utils \n",
    "from SoundFile import SoundFile\n",
    "\n"
   ]
  },
  {
   "cell_type": "code",
   "execution_count": 8,
   "metadata": {},
   "outputs": [],
   "source": [
    "nbImagesTotestEachClass = 100 # put this count of images in png_test (for each class)\n",
    "start_time = datetime.datetime.now()\n",
    "\n",
    "# create folders in order to export pngs files (remove all previous png) -> _data_png_cnn1/[machine]/normal _data_png_cnn1/[machine]/anomaly\n",
    "mode = 0o777\n",
    "cwd = os.getcwd() \n",
    "path = Path(cwd)\n",
    "\n",
    "png_root_folder = str(path.parent.parent.absolute()) + '/_data_png_cnn1'\n",
    "model_root_folder = str(path.parent.parent.absolute()) + '/_classifiers'\n"
   ]
  },
  {
   "cell_type": "code",
   "execution_count": 9,
   "metadata": {},
   "outputs": [
    {
     "name": "stdout",
     "output_type": "stream",
     "text": [
      "Error folder: /Users/david/DEVS_LOCAL/dev-ia-son/partage-ia-son/_data_png_cnn1 - No such file or directory.\n"
     ]
    }
   ],
   "source": [
    "\n",
    "# delete old folders if needed\n",
    "try:\n",
    "    shutil.rmtree(png_root_folder)\n",
    "except OSError as e:\n",
    "    print (\"folder not found: %s - %s.\" % (e.filename, e.strerror))\n",
    "\n",
    "try:\n",
    "    shutil.rmtree(model_root_folder)\n",
    "except OSError as e:\n",
    "    print (\"folder not found: %s - %s.\" % (e.filename, e.strerror))\n",
    "\n",
    "os.mkdir(os.path.join(png_root_folder), mode)\n",
    "os.mkdir(os.path.join(model_root_folder), mode)\n",
    "\n",
    "for folder_machine in utils.list_datasets: # ['valve']    \n",
    "    os.mkdir(os.path.join(png_root_folder + '/' + folder_machine), mode)\n",
    "    os.mkdir(os.path.join(png_root_folder + '/' + folder_machine + '/png_train' ), mode)\n",
    "    os.mkdir(os.path.join(png_root_folder + '/' + folder_machine + '/png_test' ), mode)\n",
    "    for n in ['normal', 'anomaly']:\n",
    "        os.mkdir(os.path.join(png_root_folder + '/' + folder_machine + '/png_train/' + n), mode)\n",
    "        \n",
    "    "
   ]
  },
  {
   "cell_type": "code",
   "execution_count": 10,
   "metadata": {},
   "outputs": [
    {
     "name": "stdout",
     "output_type": "stream",
     "text": [
      "dictStat:  {'normal': 3291, 'anomaly': 0}\n",
      "nbWavs:  3291  in  ../../_data_origin/valve/train/\n",
      "test normal: []\n",
      "test anormal: []\n",
      "countImages generated...:  200  /  3291 ( valve ../../_data_origin/valve/train/normal_id_02_00000071.wav ../../_data_png_cnn1/valve/png_train/normal/ )\n"
     ]
    }
   ],
   "source": [
    "\n",
    "# from wavs/*.wav, convert to pngs + split pngs in folders png_v3/normal + png_v3/anomaly (train data)\n",
    "for folder_machine in utils.list_datasets: # ['valve']    \n",
    "    for n in ['train', 'test']:\n",
    "        dictStat = {'normal': 0, 'anomaly': 0} # init stats count of files in 2 classes\n",
    "        use_folder = '../../_data_origin/' + folder_machine + '/' + n + '/' \n",
    "        wavfiles = [f for f in listdir(use_folder) if isfile(join(use_folder, f))]\n",
    "        if '.DS_Store' in wavfiles:\n",
    "            wavfiles.remove('.DS_Store')\n",
    "            \n",
    "        nbWavs = len(wavfiles)\n",
    "        countImages =  0    # counter for all images\n",
    "        countImagesNormal =  0   \n",
    "        countImagesAnomaly =  0\n",
    "        # print('mmm:', folder_machine, n, nbWavs)\n",
    "\n",
    "        for f in wavfiles:\n",
    "            arrName = f.split(\"_\") # anomaly_id_00_00000001.wav\n",
    "            classPrefix = arrName[0] # 'normal' or 'anomaly'\n",
    "            dictStat['normal'] =  dictStat['normal'] + 1 if classPrefix == 'normal' else dictStat['normal']\n",
    "            dictStat['anomaly'] =  dictStat['anomaly'] + 1 if classPrefix == 'anomaly' else dictStat['anomaly']\n",
    "\n",
    "        print('dictStat: ', dictStat) # 479 anomaly 3291 normal\n",
    "\n",
    "        # random choose of images for testing at the end: put them in png_test folder_machine\n",
    "        arrIndicesImagesToTestNormal = np.random.randint(1, dictStat['normal'], nbImagesTotestEachClass) if dictStat['anomaly'] > nbImagesTotestEachClass else []\n",
    "        arrIndicesImagesToTestAnormal = np.random.randint(1, dictStat['anomaly'], nbImagesTotestEachClass) if dictStat['anomaly'] > nbImagesTotestEachClass else []\n",
    "        print('nbWavs: ', nbWavs, ' in ', use_folder)\n",
    "        print('test normal:', arrIndicesImagesToTestNormal)\n",
    "        print('test anormal:', arrIndicesImagesToTestAnormal)\n",
    "\n",
    "        for f in wavfiles:\n",
    "            arrName = f.split(\"_\") # anomaly_id_00_00000001.wav\n",
    "            out_folder_png = ''\n",
    "            classPrefix = arrName[0] # 'normal' or 'anomaly'\n",
    "            countImages += 1\n",
    "            if classPrefix == 'normal':\n",
    "                countImagesNormal += 1\n",
    "            if classPrefix == 'anomaly':    \n",
    "                countImagesAnomaly += 1\n",
    "\n",
    "            out_folder_png = '../../_data_png_cnn1/' + folder_machine + '/png_train/' + classPrefix + '/'\n",
    "            out_folder_png_test = '../../_data_png_cnn1/' + folder_machine + '/png_test/'\n",
    "            \n",
    "            # use some anomaly for the training set:\n",
    "            if classPrefix == 'normal' and countImagesNormal in arrIndicesImagesToTestNormal or classPrefix == 'anomaly' and countImagesAnomaly in arrIndicesImagesToTestAnormal:\n",
    "                out_folder_png = out_folder_png_test\n",
    "                # print('!!! image test: ', classPrefix)\n",
    "                \n",
    "            if countImages % 200 == 0:\n",
    "                print('countImages generated...: ', countImages, ' / ', nbWavs, '(', folder_machine, use_folder + f, out_folder_png, ')')\n",
    "            \n",
    "            # print(use_folder + f, out_folder_png)\n",
    "            s = SoundFile(use_folder + f, out_folder_png)\n",
    "            s.exportMelSpectrogramColor() # create color file spectrogram \n",
    "\n",
    "print(\"*************** End ****************** duration: \",  datetime.datetime.now() - start_time) # 0:48:26\n"
   ]
  }
 ],
 "metadata": {
  "interpreter": {
   "hash": "ca3d29f37a1a1c4f5e7a988c75b7db15a8dc84e630022593e41cd81ca2ea4c4a"
  },
  "kernelspec": {
   "display_name": "Python 3.8.5 64-bit ('base': conda)",
   "name": "python3"
  },
  "language_info": {
   "codemirror_mode": {
    "name": "ipython",
    "version": 3
   },
   "file_extension": ".py",
   "mimetype": "text/x-python",
   "name": "python",
   "nbconvert_exporter": "python",
   "pygments_lexer": "ipython3",
   "version": "3.8.5"
  },
  "orig_nbformat": 4
 },
 "nbformat": 4,
 "nbformat_minor": 2
}
