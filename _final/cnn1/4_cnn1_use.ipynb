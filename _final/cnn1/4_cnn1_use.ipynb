{
 "cells": [
  {
   "cell_type": "markdown",
   "metadata": {},
   "source": [
    "<h1>Utilise le cnn v1 et affiche les résultats</h1>\n"
   ]
  },
  {
   "cell_type": "code",
   "execution_count": 2,
   "metadata": {},
   "outputs": [
    {
     "name": "stdout",
     "output_type": "stream",
     "text": [
      "['valve', 'slider', 'pump', 'ToyCar', 'fan', 'ToyConveyor']\n"
     ]
    }
   ],
   "source": [
    "\"\"\"\n",
    "    Use the CNN v1 model in order to make predictions for each machine (on files in data_png_cnn1/[machine]/png_test)\n",
    "    from: https://keras.io/examples/vision/image_classification_from_scratch/\n",
    "\"\"\"\n",
    "\n",
    "import sys\n",
    "import datetime\n",
    "import numpy as np\n",
    "import pandas as pd\n",
    "from os import listdir\n",
    "from os.path import isfile, join\n",
    "from keras.preprocessing import image\n",
    "from keras.models import load_model\n",
    "\n",
    "# add parent folder to path \n",
    "from pathlib import Path\n",
    "path = Path(os.getcwd())\n",
    "str_parent = str(path.parent.absolute())\n",
    "if not str_parent in sys.path:\n",
    "    sys.path.append(str_parent)\n",
    "import utils \n",
    "\n",
    "print(utils.list_datasets)"
   ]
  },
  {
   "cell_type": "code",
   "execution_count": 3,
   "metadata": {},
   "outputs": [],
   "source": [
    "\n",
    "image_size = (333, 216)\n",
    "cutoff = 0.9 # if score > cutoff, the machine predicted as \"normal\" otherwise as \"anomaly\"\n",
    "indiceFile = 0\n",
    "name_csv_logs = 'cnn_results.csv'\n",
    "df_logs_h = pd.DataFrame(columns=['machine', 'file', 'correctPrediction', 'score'])\n",
    "df_logs_h.to_csv(name_csv_logs, header = True, index = False)\n"
   ]
  },
  {
   "cell_type": "code",
   "execution_count": 4,
   "metadata": {},
   "outputs": [],
   "source": [
    "def predict_one_machine(machine_folder):\n",
    "    png_tests_folder = '../../_data_png_cnn1/' + machine_folder + '/png_test/'\n",
    "    model_folder = '../../_classifiers_cnn1/cnn_' + machine_folder + '.h5'\n",
    "    # renit the result dataframe (store with files tested and scores of the model)\n",
    "    df_result = pd.DataFrame(columns=['file', 'score'])\n",
    "    # load the model from disk\n",
    "    model = load_model(model_folder)\n",
    "    wavfiles = [f for f in listdir(png_tests_folder) if isfile(join(png_tests_folder, f))]\n",
    "    for nameFilePngTotest in wavfiles:\n",
    "        if nameFilePngTotest[-4:] != '.png': # ignore non .png files\n",
    "            continue\n",
    "        # print('test nameFilePngTotest: ', nameFilePngTotest)\n",
    "        test_image = image.load_img(png_tests_folder + nameFilePngTotest, target_size = image_size) \n",
    "        img_array = image.img_to_array(test_image)\n",
    "        img_array = np.expand_dims(test_image, axis = 0)\n",
    "        predictions = model.predict(img_array)\n",
    "        score = predictions[0]\n",
    "        df_result = df_result.append({'file': nameFilePngTotest, 'score': score}, ignore_index=True)\n",
    "\n",
    "    df_result = df_result.sort_values(by = ['score'], ascending = False)\n",
    "    countPrediction = 0\n",
    "    countCorrectPrediction = 0\n",
    "    for index, row in df_result.iterrows():\n",
    "        countPrediction += 1\n",
    "        arrName = row['file'].split(\"_\") # anomaly_id_00_00000001.wav\n",
    "        classPrefix = arrName[0] # 'normal' or 'anomaly'\n",
    "        isNormalPredict = 1 if row['score'] > cutoff else 0\n",
    "        isNormalReal = 1 if classPrefix == \"normal\" else 0\n",
    "        if isNormalReal == isNormalPredict:\n",
    "            countCorrectPrediction += 1\n",
    "        # if countPrediction % 20 == 0: # display result predictions (1 of 20)\n",
    "        correctPrediction = 'OK' if isNormalReal == isNormalPredict else 'NOK'\n",
    "        # print(\"file %s predict %s (score: %.2f%%).\" % (row['file'], correctPrediction, 100 * row['score']))\n",
    "        df_logs = pd.read_csv(name_csv_logs)\n",
    "        new_row = {'machine': machine_folder, 'file': row['file'], 'correctPrediction': correctPrediction, 'score': row['score'][0]}\n",
    "        df_logs = df_logs.append(new_row, ignore_index=True)\n",
    "        df_logs.to_csv(name_csv_logs, header = True, index = False)\n",
    "        \n",
    "    # display general result for the machine (correct predictions / total of préeditions)\n",
    "    print(\"****** %s: accuracy:  %.2f (%i fichiers)\" % (machine_folder, countCorrectPrediction / len(df_result), countPrediction))"
   ]
  },
  {
   "cell_type": "code",
   "execution_count": 5,
   "metadata": {},
   "outputs": [
    {
     "name": "stdout",
     "output_type": "stream",
     "text": [
      "****** valve: accuracy:  0.63 (177 fichiers)\n",
      "****** slider: accuracy:  0.97 (180 fichiers)\n",
      "****** pump: accuracy:  0.51 (184 fichiers)\n",
      "****** ToyCar: accuracy:  0.53 (195 fichiers)\n",
      "****** fan: accuracy:  0.75 (183 fichiers)\n",
      "****** ToyConveyor: accuracy:  0.50 (197 fichiers)\n",
      "See the file:  cnn_results.csv  for details\n"
     ]
    }
   ],
   "source": [
    "for machine_folder in utils.list_datasets: \n",
    "    predict_one_machine(machine_folder)\n",
    "print('See the file: ', name_csv_logs, ' for details')\n",
    "# See the file:  cnn_results.csv  for details\n",
    "# ****** valve: accuracy:  0.92 (177 fichiers)\n",
    "# ****** slider: accuracy:  0.96 (180 fichiers)\n",
    "# ****** pump: accuracy:  0.83 (184 fichiers)\n",
    "# ****** ToyCar: accuracy:  0.90 (195 fichiers)\n",
    "# ****** fan: accuracy:  0.93 (183 fichiers)\n",
    "# ****** ToyConveyor: accuracy:  0.50 (197 fichiers)\n",
    "# See the file:  cnn_results.csv  for details\n",
    "\n",
    "#2 demo\n",
    "# ****** valve: accuracy:  0.63 (177 fichiers)\n",
    "# ****** slider: accuracy:  0.97 (180 fichiers)\n",
    "# ****** pump: accuracy:  0.51 (184 fichiers)\n",
    "# ****** ToyCar: accuracy:  0.53 (195 fichiers)\n",
    "# ****** fan: accuracy:  0.75 (183 fichiers)\n",
    "# ****** ToyConveyor: accuracy:  0.50 (197 fichiers)\n"
   ]
  }
 ],
 "metadata": {
  "interpreter": {
   "hash": "ca3d29f37a1a1c4f5e7a988c75b7db15a8dc84e630022593e41cd81ca2ea4c4a"
  },
  "kernelspec": {
   "display_name": "Python 3.8.5 64-bit ('base': conda)",
   "name": "python3"
  },
  "language_info": {
   "codemirror_mode": {
    "name": "ipython",
    "version": 3
   },
   "file_extension": ".py",
   "mimetype": "text/x-python",
   "name": "python",
   "nbconvert_exporter": "python",
   "pygments_lexer": "ipython3",
   "version": "3.8.5"
  },
  "orig_nbformat": 4
 },
 "nbformat": 4,
 "nbformat_minor": 2
}
